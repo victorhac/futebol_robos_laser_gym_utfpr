{
  "cells": [
    {
      "cell_type": "code",
      "source": [
        "from stable_baselines3 import PPO\n",
        "from stable_baselines3.common.vec_env import SubprocVecEnv\n",
        "from stable_baselines3.common.callbacks import CheckpointCallback\n",
        "\n",
        "from lib.environment.attacker.environment import Environment\n",
        "\n",
        "import os\n",
        "from datetime import datetime"
      ],
      "outputs": [],
      "execution_count": 47,
      "metadata": {
        "gather": {
          "logged": 1717522153444
        }
      }
    },
    {
      "cell_type": "code",
      "source": [
        "task_training_name = \"attacker\"\n",
        "algorithm_name = \"PPO\""
      ],
      "outputs": [],
      "execution_count": 48,
      "metadata": {
        "gather": {
          "logged": 1717522155612
        }
      }
    },
    {
      "cell_type": "code",
      "source": [
        "def create_env():\n",
        "    def _init():\n",
        "        return Environment()\n",
        "    return _init"
      ],
      "outputs": [],
      "execution_count": 49,
      "metadata": {
        "gather": {
          "logged": 1717522156606
        }
      }
    },
    {
      "cell_type": "code",
      "source": [
        "def create_folder_if_not_exists(folder_path):\n",
        "    if not os.path.exists(folder_path):\n",
        "        os.makedirs(folder_path)"
      ],
      "outputs": [],
      "execution_count": 50,
      "metadata": {
        "gather": {
          "logged": 1717522157979
        }
      }
    },
    {
      "cell_type": "code",
      "source": [
        "def get_task_models_path():\n",
        "    current_datetime = datetime.now()\n",
        "\n",
        "    year = current_datetime.year\n",
        "    month = current_datetime.month\n",
        "    day = current_datetime.day\n",
        "    hour = current_datetime.hour\n",
        "    minute = current_datetime.minute\n",
        "    second = current_datetime.second\n",
        "\n",
        "    datetime_name = f\"{year}_{month}_{day}_{hour}_{minute}_{second}\"\n",
        "\n",
        "    return f\"models/{task_training_name}/{algorithm_name}/{datetime_name}\""
      ],
      "outputs": [],
      "execution_count": 51,
      "metadata": {
        "gather": {
          "logged": 1717522160144
        }
      }
    },
    {
      "cell_type": "code",
      "source": [
        "save_path = get_task_models_path()\n",
        "\n",
        "create_folder_if_not_exists(save_path)"
      ],
      "outputs": [],
      "execution_count": 52,
      "metadata": {
        "gather": {
          "logged": 1717522161514
        }
      }
    },
    {
      "cell_type": "code",
      "source": [
        "num_threads = 60\n",
        "model_filename_prefix = f\"{algorithm_name}_model\""
      ],
      "outputs": [],
      "execution_count": 53,
      "metadata": {
        "gather": {
          "logged": 1717522162403
        }
      }
    },
    {
      "cell_type": "code",
      "source": [
        "env = SubprocVecEnv([create_env() for i in range(num_threads)])\n",
        "\n",
        "n_actions = env.action_space.shape[-1]\n",
        "n_actions"
      ],
      "outputs": [
        {
          "output_type": "execute_result",
          "execution_count": 54,
          "data": {
            "text/plain": "2"
          },
          "metadata": {}
        }
      ],
      "execution_count": 54,
      "metadata": {
        "gather": {
          "logged": 1717522171472
        }
      }
    },
    {
      "cell_type": "code",
      "source": [
        "gae_lambda = 0.95\n",
        "gamma = 0.99\n",
        "learning_rate = 0.0004\n",
        "clip_range = 0.2\n",
        "policy = \"MlpPolicy\"\n",
        "batch_size = 128"
      ],
      "outputs": [],
      "execution_count": 55,
      "metadata": {
        "gather": {
          "logged": 1717522175458
        }
      }
    },
    {
      "cell_type": "code",
      "source": [
        "load_model = True\n",
        "loaded_model_path = \"models/attacker/PPO/2024_6_3_16_46_10/PPO_model_90000000_steps\""
      ],
      "outputs": [],
      "execution_count": 56,
      "metadata": {
        "gather": {
          "logged": 1717522175577
        }
      }
    },
    {
      "cell_type": "code",
      "source": [
        "model = PPO(\n",
        "    policy=policy,\n",
        "    env=env,\n",
        "    gamma=gamma,\n",
        "    gae_lambda=gae_lambda,\n",
        "    clip_range=clip_range,\n",
        "    batch_size=batch_size)\n",
        "\n",
        "if load_model:\n",
        "    model.set_parameters(loaded_model_path)"
      ],
      "outputs": [],
      "execution_count": 57,
      "metadata": {
        "gather": {
          "logged": 1717522175875
        }
      }
    },
    {
      "cell_type": "code",
      "source": [
        "total_timesteps = 200_000_000"
      ],
      "outputs": [],
      "execution_count": 58,
      "metadata": {
        "gather": {
          "logged": 1717522179443
        }
      }
    },
    {
      "cell_type": "code",
      "source": [
        "saved_model_number = 20\n",
        "save_freq = total_timesteps // (saved_model_number * num_threads)\n",
        "log_interval = total_timesteps // 10"
      ],
      "outputs": [],
      "execution_count": 59,
      "metadata": {
        "gather": {
          "logged": 1717522180019
        }
      }
    },
    {
      "cell_type": "code",
      "source": [
        "checkpoint_callback = CheckpointCallback(\n",
        "    save_freq=save_freq,\n",
        "    save_path=save_path,\n",
        "    name_prefix=model_filename_prefix)"
      ],
      "outputs": [],
      "execution_count": 60,
      "metadata": {
        "gather": {
          "logged": 1717522183463
        }
      }
    },
    {
      "cell_type": "code",
      "source": [
        "model.learn(\n",
        "    total_timesteps=total_timesteps,\n",
        "    log_interval=log_interval,\n",
        "    callback=checkpoint_callback)"
      ],
      "outputs": [
        {
          "output_type": "stream",
          "name": "stderr",
          "text": "\nODE Message 3: LCP internal error, s <= 0 (s=0.0000e+00)\n\nODE Message 3: LCP internal error, s <= 0 (s=0.0000e+00)\n\nODE Message 3: LCP internal error, s <= 0 (s=-0.0000e+00)\n\nODE Message 3: LCP internal error, s <= 0 (s=0.0000e+00)\n\nODE Message 3: LCP internal error, s <= 0 (s=0.0000e+00)\n\nODE Message 3: LCP internal error, s <= 0 (s=-0.0000e+00)\n\nODE Message 3: LCP internal error, s <= 0 (s=0.0000e+00)\nBad pipe message: %s [b'\\xb4*l\\x08\\x8a\\xb0W\\xef\\x16\\xc4\\xe6N\\t\\xa4\\x83;\\xe3\\xc9 \\x06v\\xcc\\xdaN\\xa9\\xa4\\x1f9\\xae\\xee\\xeb\\xbe\\xb0\\xeb\\xf8\\xb5\\x02\\xe0e\\x83^o\\xb1{\\x87\"\\xbew\\x96\\xcf\\x11\\x00', b'\\x02\\x13\\x03\\x13\\x01\\x00\\xff', b'']\nBad pipe message: %s [b\"Ng$U\\xbf\\xe2R\\xca\\xcd\\xbf\\xf2O\\xe4E\\xabi\\x0e\\x03\\x00\\x00\\xa6\\xc0,\\xc00\\x00\\xa3\\x00\\x9f\\xcc\\xa9\\xcc\\xa8\\xcc\\xaa\\xc0\\xaf\\xc0\\xad\\xc0\\xa3\\xc0\\x9f\\xc0]\\xc0a\\xc0W\\xc0S\\xc0+\\xc0/\\x00\\xa2\\x00\\x9e\\xc0\\xae\\xc0\\xac\\xc0\\xa2\\xc0\\x9e\\xc0\\\\\\xc0`\\xc0V\\xc0R\\xc0$\\xc0(\\x00k\\x00j\\xc0s\\xc0w\\x00\\xc4\\x00\\xc3\\xc0#\\xc0'\\x00g\\x00@\\xc0r\\xc0v\\x00\\xbe\\x00\\xbd\\xc0\\n\\xc0\\x14\\x009\\x008\\x00\\x88\\x00\\x87\\xc0\\t\\xc0\\x13\\x003\\x002\\x00\\x9a\\x00\\x99\\x00E\\x00D\\xc0\\x07\\xc0\\x11\\xc0\\x08\\xc0\\x12\\x00\\x16\\x00\\x13\\x00\\x9d\\xc0\\xa1\\xc0\\x9d\\xc0Q\\x00\\x9c\\xc0\\xa0\\xc0\\x9c\\xc0P\\x00=\\x00\\xc0\\x00<\\x00\\xba\\x00\"]\nBad pipe message: %s [b'\\x84\\x00/\\x00\\x96\\x00A\\x00\\x05\\x00\\n\\x00\\xff\\x01\\x00\\x00j\\x00\\x00\\x00\\x0e\\x00\\x0c\\x00\\x00\\t127.0.0.1\\x00\\x0b\\x00\\x04\\x03\\x00\\x01\\x02\\x00\\n\\x00\\x0c\\x00\\n\\x00\\x1d\\x00']\nBad pipe message: %s [b'=\\xb8{\\xbd\\xb6\\xc8G\\xd3\\xbd:\\xfe%\\xd8\\x12\\r\\xb0\\xf5\\xaf\\x00\\x00>\\xc0\\x14\\xc0\\n\\x009\\x008\\x007\\x006\\xc0\\x0f\\xc0\\x05\\x005\\xc0\\x13\\xc0\\t\\x003\\x002\\x001\\x000\\xc0\\x0e\\xc0\\x04\\x00/\\x00\\x9a\\x00\\x99\\x00\\x98\\x00\\x97\\x00\\x96\\x00\\x07\\xc0\\x11\\xc0\\x07\\xc0\\x0c\\xc0\\x02\\x00\\x05\\x00\\x04\\x00\\xff\\x02\\x01\\x00\\x00C\\x00\\x00\\x00\\x0e\\x00\\x0c\\x00\\x00\\t127.0.0.1\\x00\\x0b\\x00\\x04\\x03\\x00\\x01\\x02\\x00\\n\\x00\\x1c\\x00\\x1a\\x00\\x17\\x00\\x19\\x00\\x1c\\x00\\x1b\\x00\\x18\\x00\\x1a\\x00\\x16\\x00\\x0e\\x00\\r\\x00\\x0b\\x00\\x0c\\x00\\t\\x00\\n\\x00#\\x00\\x00\\x00\\x0f\\x00\\x01', b'', b'\\x00\\x02']\nBad pipe message: %s [b'\\x9a\\xf5\\xa5\\x10$\\xe4\\xfa\\x16\\xdc:S`>\\xe7h\\x97\\xe7\\xf1\\x00\\x00>\\xc0\\x14\\xc0\\n\\x009\\x008\\x007\\x006\\xc0\\x0f\\xc0\\x05\\x005\\xc0\\x13\\xc0\\t\\x003\\x002\\x001\\x000\\xc0\\x0e\\xc0\\x04\\x00/\\x00\\x9a\\x00\\x99\\x00\\x98\\x00\\x97\\x00\\x96\\x00\\x07\\xc0\\x11\\xc0\\x07\\xc0\\x0c\\xc0\\x02\\x00\\x05\\x00\\x04\\x00\\xff\\x02\\x01\\x00\\x00C\\x00\\x00\\x00\\x0e\\x00\\x0c\\x00\\x00\\t127.0.0.1\\x00\\x0b\\x00\\x04\\x03\\x00\\x01\\x02\\x00\\n\\x00\\x1c\\x00\\x1a\\x00\\x17\\x00\\x19\\x00\\x1c\\x00\\x1b\\x00\\x18\\x00\\x1a\\x00\\x16\\x00\\x0e\\x00\\r\\x00\\x0b\\x00\\x0c\\x00\\t\\x00\\n\\x00#\\x00\\x00\\x00']\nBad pipe message: %s [b'\\x10\\xb0\\x1b\\xfa\\xacg\\xf2\\x95\\'\\xcfQ\\x03\"\\xab\\xb5\\x93*\\x95\\x00\\x00\\xa2\\xc0\\x14\\xc0\\n\\x009\\x008\\x007\\x006\\x00\\x88\\x00\\x87\\x00\\x86\\x00\\x85\\xc0\\x19\\x00:\\x00\\x89\\xc0\\x0f\\xc0\\x05\\x005\\x00\\x84\\xc0\\x13\\xc0\\t\\x003\\x002\\x001\\x000\\x00\\x9a\\x00\\x99\\x00\\x98\\x00\\x97\\x00E\\x00D\\x00C\\x00B\\xc0\\x18\\x004\\x00\\x9b\\x00F\\xc0\\x0e\\xc0\\x04\\x00/\\x00\\x96\\x00A\\x00\\x07\\xc0\\x11\\xc0\\x07\\xc0\\x16\\x00\\x18\\xc0\\x0c\\xc0\\x02\\x00\\x05\\x00\\x04\\xc0\\x12\\xc0\\x08\\x00\\x16\\x00\\x13\\x00\\x10\\x00\\r\\xc0\\x17\\x00\\x1b\\xc0\\r\\xc0\\x03\\x00\\n\\x00\\x15\\x00\\x12\\x00\\x0f\\x00\\x0c\\x00\\x1a\\x00\\t\\x00\\x14\\x00\\x11\\x00\\x19\\x00\\x08\\x00\\x06\\x00\\x17\\x00\\x03\\xc0\\x10\\xc0\\x06\\xc0\\x15\\xc0\\x0b\\xc0\\x01\\x00\\x02\\x00', b'']\nBad pipe message: %s [b\"\\xa1\\x878\\xeb{\\xa21\\x84x\\xb5H\\xf5\\x91\\xd3>\\xd5TP\\x00\\x00\\x86\\xc00\\xc0,\\xc0(\\xc0$\\xc0\\x14\\xc0\\n\\x00\\xa5\\x00\\xa3\\x00\\xa1\\x00\\x9f\\x00k\\x00j\\x00i\\x00h\\x009\\x008\\x007\\x006\\xc02\\xc0.\\xc0*\\xc0&\\xc0\\x0f\\xc0\\x05\\x00\\x9d\\x00=\\x005\\xc0/\\xc0+\\xc0'\\xc0#\\xc0\\x13\\xc0\\t\\x00\\xa4\\x00\\xa2\\x00\\xa0\\x00\\x9e\\x00g\\x00@\\x00?\\x00>\\x003\\x002\\x001\\x000\\xc01\\xc0-\\xc0)\\xc0%\\xc0\\x0e\\xc0\\x04\\x00\\x9c\\x00<\\x00/\\x00\\x9a\\x00\\x99\\x00\\x98\\x00\\x97\\x00\\x96\\x00\\x07\\xc0\\x11\\xc0\\x07\\xc0\\x0c\\xc0\\x02\\x00\\x05\\x00\\x04\\x00\\xff\\x02\\x01\\x00\\x00g\\x00\\x00\\x00\\x0e\\x00\\x0c\\x00\\x00\\t127.0.0.1\\x00\\x0b\\x00\\x04\\x03\\x00\\x01\\x02\\x00\\n\\x00\\x1c\\x00\\x1a\\x00\\x17\"]\nBad pipe message: %s [b'j\\x86%\\x00{\\xe8\\x84\\xb1/\\x01\\x97\\xe2\\xb1\\x7fe2p\\xae\\x00\\x00\\xa2\\xc0\\x14\\xc0\\n\\x009\\x008\\x00']\nBad pipe message: %s [b'\\x1e\\x00\\x19\\x00\\x18\\x00#\\x00\\x00\\x00\\x16\\x00\\x00\\x00\\x17\\x00\\x00\\x00\\r\\x000\\x00']\nBad pipe message: %s [b'6\\x00\\x88\\x00\\x87\\x00\\x86\\x00\\x85\\xc0\\x19\\x00:\\x00\\x89\\xc0\\x0f\\xc0\\x05\\x005\\x00\\x84\\xc0\\x13\\xc0\\t\\x003\\x002\\x001\\x000\\x00\\x9a\\x00\\x99\\x00\\x98\\x00\\x97\\x00E\\x00D\\x00C\\x00B\\xc0\\x18\\x00']\nBad pipe message: %s [b'\\x03\\x05\\x03\\x06\\x03\\x08\\x07\\x08\\x08\\x08\\t\\x08\\n\\x08\\x0b\\x08\\x04\\x08\\x05\\x08\\x06\\x04\\x01\\x05\\x01\\x06\\x01\\x03\\x03\\x02\\x03\\x03\\x01\\x02\\x01\\x03\\x02\\x02\\x02\\x04\\x02\\x05\\x02\\x06\\x02']\nBad pipe message: %s [b'\\x9b\\x00F\\xc0\\x0e\\xc0\\x04\\x00/\\x00\\x96\\x00A\\x00\\x07\\xc0\\x11\\xc0\\x07\\xc0\\x16\\x00\\x18\\xc0\\x0c\\xc0\\x02\\x00\\x05\\x00\\x04\\xc0\\x12\\xc0\\x08\\x00\\x16\\x00\\x13\\x00\\x10\\x00\\r\\xc0\\x17\\x00\\x1b\\xc0\\r\\xc0\\x03']\n\nODE Message 3: LCP internal error, s <= 0 (s=0.0000e+00)\n\nODE Message 3: LCP internal error, s <= 0 (s=0.0000e+00)\n\nODE Message 3: LCP internal error, s <= 0 (s=-0.0000e+00)\n\nODE Message 3: LCP internal error, s <= 0 (s=-0.0000e+00)\n\nODE Message 3: LCP internal error, s <= 0 (s=-0.0000e+00)\n\nODE Message 3: LCP internal error, s <= 0 (s=-0.0000e+00)\n\nODE Message 3: LCP internal error, s <= 0 (s=0.0000e+00)\n\nODE Message 3: LCP internal error, s <= 0 (s=-0.0000e+00)\n\nODE Message 3: LCP internal error, s <= 0 (s=-0.0000e+00)\n\nODE Message 3: LCP internal error, s <= 0 (s=-0.0000e+00)\n\nODE Message 3: LCP internal error, s <= 0 (s=-0.0000e+00)\n\nODE Message 3: LCP internal error, s <= 0 (s=-0.0000e+00)\n\nODE Message 3: LCP internal error, s <= 0 (s=0.0000e+00)\n\nODE Message 3: LCP internal error, s <= 0 (s=0.0000e+00)\n\nODE Message 3: LCP internal error, s <= 0 (s=-0.0000e+00)\n\nODE Message 3: LCP internal error, s <= 0 (s=0.0000e+00)\n\nODE Message 3: LCP internal error, s <= 0 (s=-0.0000e+00)\n\nODE Message 3: LCP internal error, s <= 0 (s=-0.0000e+00)\n\nODE Message 3: LCP internal error, s <= 0 (s=-0.0000e+00)\n\nODE Message 3: LCP internal error, s <= 0 (s=-0.0000e+00)\n\nODE Message 3: LCP internal error, s <= 0 (s=0.0000e+00)\n\nODE Message 3: LCP internal error, s <= 0 (s=0.0000e+00)\n\nODE Message 3: LCP internal error, s <= 0 (s=-0.0000e+00)\n\nODE Message 3: LCP internal error, s <= 0 (s=0.0000e+00)\n\nODE Message 3: LCP internal error, s <= 0 (s=-0.0000e+00)\n\nODE Message 3: LCP internal error, s <= 0 (s=-0.0000e+00)\n\nODE Message 3: LCP internal error, s <= 0 (s=-0.0000e+00)\n\nODE Message 3: LCP internal error, s <= 0 (s=-0.0000e+00)\n\nODE Message 3: LCP internal error, s <= 0 (s=0.0000e+00)\n\nODE Message 3: LCP internal error, s <= 0 (s=-0.0000e+00)\n\nODE Message 3: LCP internal error, s <= 0 (s=-0.0000e+00)\n\nODE Message 3: LCP internal error, s <= 0 (s=-0.0000e+00)\n\nODE Message 3: LCP internal error, s <= 0 (s=0.0000e+00)\n\nODE Message 3: LCP internal error, s <= 0 (s=-0.0000e+00)\n\nODE Message 3: LCP internal error, s <= 0 (s=0.0000e+00)\n\nODE Message 3: LCP internal error, s <= 0 (s=0.0000e+00)\n\nODE Message 3: LCP internal error, s <= 0 (s=-0.0000e+00)\n\nODE Message 3: LCP internal error, s <= 0 (s=0.0000e+00)\n\nODE Message 3: LCP internal error, s <= 0 (s=-0.0000e+00)\n\nODE Message 3: LCP internal error, s <= 0 (s=0.0000e+00)\n\nODE Message 3: LCP internal error, s <= 0 (s=0.0000e+00)\n\nODE Message 3: LCP internal error, s <= 0 (s=-0.0000e+00)\n\nODE Message 3: LCP internal error, s <= 0 (s=-0.0000e+00)\n\nODE Message 3: LCP internal error, s <= 0 (s=-0.0000e+00)\n\nODE Message 3: LCP internal error, s <= 0 (s=0.0000e+00)\n\nODE Message 3: LCP internal error, s <= 0 (s=0.0000e+00)\n\nODE Message 3: LCP internal error, s <= 0 (s=-0.0000e+00)\n\nODE Message 3: LCP internal error, s <= 0 (s=0.0000e+00)\n\nODE Message 3: LCP internal error, s <= 0 (s=0.0000e+00)\n\nODE Message 3: LCP internal error, s <= 0 (s=0.0000e+00)\n\nODE Message 3: LCP internal error, s <= 0 (s=0.0000e+00)\n\nODE Message 3: LCP internal error, s <= 0 (s=0.0000e+00)\n\nODE Message 3: LCP internal error, s <= 0 (s=-0.0000e+00)\n\nODE Message 3: LCP internal error, s <= 0 (s=-0.0000e+00)\n\nODE Message 3: LCP internal error, s <= 0 (s=0.0000e+00)\n\nODE Message 3: LCP internal error, s <= 0 (s=-0.0000e+00)\n\nODE Message 3: LCP internal error, s <= 0 (s=0.0000e+00)\n\nODE Message 3: LCP internal error, s <= 0 (s=-0.0000e+00)\n\nODE Message 3: LCP internal error, s <= 0 (s=-0.0000e+00)\n\nODE Message 3: LCP internal error, s <= 0 (s=-0.0000e+00)\n\nODE Message 3: LCP internal error, s <= 0 (s=0.0000e+00)\n\nODE Message 3: LCP internal error, s <= 0 (s=0.0000e+00)\n\nODE Message 3: LCP internal error, s <= 0 (s=0.0000e+00)\n\nODE Message 3: LCP internal error, s <= 0 (s=-0.0000e+00)\n\nODE Message 3: LCP internal error, s <= 0 (s=0.0000e+00)\n\nODE Message 3: LCP internal error, s <= 0 (s=-0.0000e+00)\n\nODE Message 3: LCP internal error, s <= 0 (s=0.0000e+00)\n\nODE Message 3: LCP internal error, s <= 0 (s=0.0000e+00)\n\nODE Message 3: LCP internal error, s <= 0 (s=0.0000e+00)\n\nODE Message 3: LCP internal error, s <= 0 (s=-0.0000e+00)\n\nODE Message 3: LCP internal error, s <= 0 (s=-0.0000e+00)\n\nODE Message 3: LCP internal error, s <= 0 (s=-0.0000e+00)\n\nODE Message 3: LCP internal error, s <= 0 (s=0.0000e+00)\n\nODE Message 3: LCP internal error, s <= 0 (s=0.0000e+00)\n\nODE Message 3: LCP internal error, s <= 0 (s=0.0000e+00)\n\nODE Message 3: LCP internal error, s <= 0 (s=-0.0000e+00)\n\nODE Message 3: LCP internal error, s <= 0 (s=0.0000e+00)\n\nODE Message 3: LCP internal error, s <= 0 (s=-0.0000e+00)\n\nODE Message 3: LCP internal error, s <= 0 (s=-0.0000e+00)\n\nODE Message 3: LCP internal error, s <= 0 (s=-0.0000e+00)\n\nODE Message 3: LCP internal error, s <= 0 (s=-0.0000e+00)\n\nODE Message 3: LCP internal error, s <= 0 (s=-0.0000e+00)\n\nODE Message 3: LCP internal error, s <= 0 (s=-0.0000e+00)\n\nODE Message 3: LCP internal error, s <= 0 (s=-0.0000e+00)\n\nODE Message 3: LCP internal error, s <= 0 (s=-0.0000e+00)\n\nODE Message 3: LCP internal error, s <= 0 (s=0.0000e+00)\n\nODE Message 3: LCP internal error, s <= 0 (s=0.0000e+00)\n\nODE Message 3: LCP internal error, s <= 0 (s=0.0000e+00)\n\nODE Message 3: LCP internal error, s <= 0 (s=0.0000e+00)\n\nODE Message 3: LCP internal error, s <= 0 (s=0.0000e+00)\n\nODE Message 3: LCP internal error, s <= 0 (s=-0.0000e+00)\n\nODE Message 3: LCP internal error, s <= 0 (s=-0.0000e+00)\n\nODE Message 3: LCP internal error, s <= 0 (s=-0.0000e+00)\n\nODE Message 3: LCP internal error, s <= 0 (s=0.0000e+00)\n\nODE Message 3: LCP internal error, s <= 0 (s=0.0000e+00)\n\nODE Message 3: LCP internal error, s <= 0 (s=-0.0000e+00)\n\nODE Message 3: LCP internal error, s <= 0 (s=0.0000e+00)\n\nODE Message 3: LCP internal error, s <= 0 (s=0.0000e+00)\n\nODE Message 3: LCP internal error, s <= 0 (s=-0.0000e+00)\n\nODE Message 3: LCP internal error, s <= 0 (s=-0.0000e+00)\n\nODE Message 3: LCP internal error, s <= 0 (s=-0.0000e+00)\n\nODE Message 3: LCP internal error, s <= 0 (s=-0.0000e+00)\n\nODE Message 3: LCP internal error, s <= 0 (s=-0.0000e+00)\n\nODE Message 3: LCP internal error, s <= 0 (s=0.0000e+00)\n\nODE Message 3: LCP internal error, s <= 0 (s=-0.0000e+00)\n\nODE Message 3: LCP internal error, s <= 0 (s=-0.0000e+00)\n\nODE Message 3: LCP internal error, s <= 0 (s=-0.0000e+00)\n\nODE Message 3: LCP internal error, s <= 0 (s=-0.0000e+00)\n\nODE Message 3: LCP internal error, s <= 0 (s=0.0000e+00)\n\nODE Message 3: LCP internal error, s <= 0 (s=0.0000e+00)\n\nODE Message 3: LCP internal error, s <= 0 (s=-4.2891e-09)\n\nODE Message 3: LCP internal error, s <= 0 (s=0.0000e+00)\n\nODE Message 3: LCP internal error, s <= 0 (s=-0.0000e+00)\n\nODE Message 3: LCP internal error, s <= 0 (s=-0.0000e+00)\n\nODE Message 3: LCP internal error, s <= 0 (s=-0.0000e+00)\n\nODE Message 3: LCP internal error, s <= 0 (s=0.0000e+00)\n\nODE Message 3: LCP internal error, s <= 0 (s=-0.0000e+00)\n\nODE Message 3: LCP internal error, s <= 0 (s=-0.0000e+00)\n\nODE Message 3: LCP internal error, s <= 0 (s=0.0000e+00)\n\nODE Message 3: LCP internal error, s <= 0 (s=-0.0000e+00)\n\nODE Message 3: LCP internal error, s <= 0 (s=-0.0000e+00)\n\nODE Message 3: LCP internal error, s <= 0 (s=-0.0000e+00)\n\nODE Message 3: LCP internal error, s <= 0 (s=-0.0000e+00)\n\nODE Message 3: LCP internal error, s <= 0 (s=-0.0000e+00)\n\nODE Message 3: LCP internal error, s <= 0 (s=0.0000e+00)\n\nODE Message 3: LCP internal error, s <= 0 (s=-0.0000e+00)\n\nODE Message 3: LCP internal error, s <= 0 (s=-0.0000e+00)\n\nODE Message 3: LCP internal error, s <= 0 (s=0.0000e+00)\n\nODE Message 3: LCP internal error, s <= 0 (s=0.0000e+00)\n\nODE Message 3: LCP internal error, s <= 0 (s=-0.0000e+00)\n\nODE Message 3: LCP internal error, s <= 0 (s=-0.0000e+00)\n\nODE Message 3: LCP internal error, s <= 0 (s=-0.0000e+00)\n\nODE Message 3: LCP internal error, s <= 0 (s=-0.0000e+00)\n\nODE Message 3: LCP internal error, s <= 0 (s=-0.0000e+00)\n\nODE Message 3: LCP internal error, s <= 0 (s=-0.0000e+00)\n\nODE Message 3: LCP internal error, s <= 0 (s=0.0000e+00)\n\nODE Message 3: LCP internal error, s <= 0 (s=0.0000e+00)\n\nODE Message 3: LCP internal error, s <= 0 (s=0.0000e+00)\n\nODE Message 3: LCP internal error, s <= 0 (s=0.0000e+00)\n\nODE Message 3: LCP internal error, s <= 0 (s=-0.0000e+00)\n\nODE Message 3: LCP internal error, s <= 0 (s=0.0000e+00)\n\nODE Message 3: LCP internal error, s <= 0 (s=0.0000e+00)\n\nODE Message 3: LCP internal error, s <= 0 (s=-0.0000e+00)\n\nODE Message 3: LCP internal error, s <= 0 (s=0.0000e+00)\n\nODE Message 3: LCP internal error, s <= 0 (s=-0.0000e+00)\n\nODE Message 3: LCP internal error, s <= 0 (s=-0.0000e+00)\n\nODE Message 3: LCP internal error, s <= 0 (s=0.0000e+00)\n\nODE Message 3: LCP internal error, s <= 0 (s=-0.0000e+00)\n\nODE Message 3: LCP internal error, s <= 0 (s=-0.0000e+00)\n\nODE Message 3: LCP internal error, s <= 0 (s=-0.0000e+00)\n\nODE Message 3: LCP internal error, s <= 0 (s=-0.0000e+00)\n\nODE Message 3: LCP internal error, s <= 0 (s=-1.6799e-10)\n\nODE Message 3: LCP internal error, s <= 0 (s=-0.0000e+00)\n\nODE Message 3: LCP internal error, s <= 0 (s=-0.0000e+00)\n\nODE Message 3: LCP internal error, s <= 0 (s=-0.0000e+00)\n\nODE Message 3: LCP internal error, s <= 0 (s=0.0000e+00)\n\nODE Message 3: LCP internal error, s <= 0 (s=-0.0000e+00)\n\nODE Message 3: LCP internal error, s <= 0 (s=0.0000e+00)\n\nODE Message 3: LCP internal error, s <= 0 (s=-0.0000e+00)\n\nODE Message 3: LCP internal error, s <= 0 (s=0.0000e+00)\n\nODE Message 3: LCP internal error, s <= 0 (s=-0.0000e+00)\n\nODE Message 3: LCP internal error, s <= 0 (s=-0.0000e+00)\n\nODE Message 3: LCP internal error, s <= 0 (s=-0.0000e+00)\n\nODE Message 3: LCP internal error, s <= 0 (s=-0.0000e+00)\n\nODE Message 3: LCP internal error, s <= 0 (s=0.0000e+00)\n\nODE Message 3: LCP internal error, s <= 0 (s=-0.0000e+00)\n\nODE Message 3: LCP internal error, s <= 0 (s=-0.0000e+00)\n\nODE Message 3: LCP internal error, s <= 0 (s=0.0000e+00)\n\nODE Message 3: LCP internal error, s <= 0 (s=-0.0000e+00)\n\nODE Message 3: LCP internal error, s <= 0 (s=0.0000e+00)\n\nODE Message 3: LCP internal error, s <= 0 (s=-0.0000e+00)\n\nODE Message 3: LCP internal error, s <= 0 (s=-0.0000e+00)\n\nODE Message 3: LCP internal error, s <= 0 (s=-0.0000e+00)\n\nODE Message 3: LCP internal error, s <= 0 (s=0.0000e+00)\n\nODE Message 3: LCP internal error, s <= 0 (s=0.0000e+00)\n\nODE Message 3: LCP internal error, s <= 0 (s=-0.0000e+00)\n\nODE Message 3: LCP internal error, s <= 0 (s=-0.0000e+00)\n\nODE Message 3: LCP internal error, s <= 0 (s=-0.0000e+00)\n\nODE Message 3: LCP internal error, s <= 0 (s=-0.0000e+00)\n\nODE Message 3: LCP internal error, s <= 0 (s=0.0000e+00)\n\nODE Message 3: LCP internal error, s <= 0 (s=0.0000e+00)\n\nODE Message 3: LCP internal error, s <= 0 (s=-0.0000e+00)\n\nODE Message 3: LCP internal error, s <= 0 (s=0.0000e+00)\n\nODE Message 3: LCP internal error, s <= 0 (s=0.0000e+00)\n\nODE Message 3: LCP internal error, s <= 0 (s=-0.0000e+00)\n\nODE Message 3: LCP internal error, s <= 0 (s=0.0000e+00)\n\nODE Message 3: LCP internal error, s <= 0 (s=0.0000e+00)\n\nODE Message 3: LCP internal error, s <= 0 (s=0.0000e+00)\n\nODE Message 3: LCP internal error, s <= 0 (s=0.0000e+00)\n\nODE Message 3: LCP internal error, s <= 0 (s=-0.0000e+00)\n\nODE Message 3: LCP internal error, s <= 0 (s=-0.0000e+00)\n\nODE Message 3: LCP internal error, s <= 0 (s=0.0000e+00)\n\nODE Message 3: LCP internal error, s <= 0 (s=0.0000e+00)\n\nODE Message 3: LCP internal error, s <= 0 (s=0.0000e+00)\n\nODE Message 3: LCP internal error, s <= 0 (s=-0.0000e+00)\n\nODE Message 3: LCP internal error, s <= 0 (s=-0.0000e+00)\n\nODE Message 3: LCP internal error, s <= 0 (s=0.0000e+00)\n\nODE Message 3: LCP internal error, s <= 0 (s=-0.0000e+00)\n\nODE Message 3: LCP internal error, s <= 0 (s=0.0000e+00)\n\nODE Message 3: LCP internal error, s <= 0 (s=-0.0000e+00)\n\nODE Message 3: LCP internal error, s <= 0 (s=-0.0000e+00)\n\nODE Message 3: LCP internal error, s <= 0 (s=0.0000e+00)\n\nODE Message 3: LCP internal error, s <= 0 (s=0.0000e+00)\n\nODE Message 3: LCP internal error, s <= 0 (s=0.0000e+00)\n\nODE Message 3: LCP internal error, s <= 0 (s=-0.0000e+00)\n\nODE Message 3: LCP internal error, s <= 0 (s=-0.0000e+00)\n\nODE Message 3: LCP internal error, s <= 0 (s=0.0000e+00)\n\nODE Message 3: LCP internal error, s <= 0 (s=-0.0000e+00)\n\nODE Message 3: LCP internal error, s <= 0 (s=-1.6799e-10)\n\nODE Message 3: LCP internal error, s <= 0 (s=-0.0000e+00)\n\nODE Message 3: LCP internal error, s <= 0 (s=0.0000e+00)\n\nODE Message 3: LCP internal error, s <= 0 (s=0.0000e+00)\n\nODE Message 3: LCP internal error, s <= 0 (s=-0.0000e+00)\n\nODE Message 3: LCP internal error, s <= 0 (s=-0.0000e+00)\n\nODE Message 3: LCP internal error, s <= 0 (s=0.0000e+00)\n\nODE Message 3: LCP internal error, s <= 0 (s=0.0000e+00)\n\nODE Message 3: LCP internal error, s <= 0 (s=-0.0000e+00)\n\nODE Message 3: LCP internal error, s <= 0 (s=0.0000e+00)\n\nODE Message 3: LCP internal error, s <= 0 (s=0.0000e+00)\n\nODE Message 3: LCP internal error, s <= 0 (s=-0.0000e+00)\n\nODE Message 3: LCP internal error, s <= 0 (s=-0.0000e+00)\n\nODE Message 3: LCP internal error, s <= 0 (s=-1.9665e-13)\n\nODE Message 3: LCP internal error, s <= 0 (s=-0.0000e+00)\n\nODE Message 3: LCP internal error, s <= 0 (s=-0.0000e+00)\n\nODE Message 3: LCP internal error, s <= 0 (s=-0.0000e+00)\n\nODE Message 3: LCP internal error, s <= 0 (s=-0.0000e+00)\n\nODE Message 3: LCP internal error, s <= 0 (s=0.0000e+00)\n\nODE Message 3: LCP internal error, s <= 0 (s=-0.0000e+00)\n\nODE Message 3: LCP internal error, s <= 0 (s=0.0000e+00)\n\nODE Message 3: LCP internal error, s <= 0 (s=0.0000e+00)\n\nODE Message 3: LCP internal error, s <= 0 (s=0.0000e+00)\n\nODE Message 3: LCP internal error, s <= 0 (s=-0.0000e+00)\n\nODE Message 3: LCP internal error, s <= 0 (s=-0.0000e+00)\n\nODE Message 3: LCP internal error, s <= 0 (s=-0.0000e+00)\n\nODE Message 3: LCP internal error, s <= 0 (s=0.0000e+00)\n\nODE Message 3: LCP internal error, s <= 0 (s=0.0000e+00)\n\nODE Message 3: LCP internal error, s <= 0 (s=-0.0000e+00)\n\nODE Message 3: LCP internal error, s <= 0 (s=-0.0000e+00)\n\nODE Message 3: LCP internal error, s <= 0 (s=0.0000e+00)\n\nODE Message 3: LCP internal error, s <= 0 (s=-0.0000e+00)\n\nODE Message 3: LCP internal error, s <= 0 (s=-0.0000e+00)\n\nODE Message 3: LCP internal error, s <= 0 (s=-0.0000e+00)\n\nODE Message 3: LCP internal error, s <= 0 (s=0.0000e+00)\n\nODE Message 3: LCP internal error, s <= 0 (s=-0.0000e+00)\n\nODE Message 3: LCP internal error, s <= 0 (s=0.0000e+00)\n\nODE Message 3: LCP internal error, s <= 0 (s=-0.0000e+00)\n\nODE Message 3: LCP internal error, s <= 0 (s=-0.0000e+00)\n\nODE Message 3: LCP internal error, s <= 0 (s=-0.0000e+00)\n\nODE Message 3: LCP internal error, s <= 0 (s=-0.0000e+00)\n\nODE Message 3: LCP internal error, s <= 0 (s=0.0000e+00)\n\nODE Message 3: LCP internal error, s <= 0 (s=-0.0000e+00)\n\nODE Message 3: LCP internal error, s <= 0 (s=0.0000e+00)\n\nODE Message 3: LCP internal error, s <= 0 (s=0.0000e+00)\n\nODE Message 3: LCP internal error, s <= 0 (s=-0.0000e+00)\n\nODE Message 3: LCP internal error, s <= 0 (s=0.0000e+00)\n\nODE Message 3: LCP internal error, s <= 0 (s=-0.0000e+00)\n\nODE Message 3: LCP internal error, s <= 0 (s=-0.0000e+00)\n\nODE Message 3: LCP internal error, s <= 0 (s=0.0000e+00)\n\nODE Message 3: LCP internal error, s <= 0 (s=-0.0000e+00)\n\nODE Message 3: LCP internal error, s <= 0 (s=-0.0000e+00)\n\nODE Message 3: LCP internal error, s <= 0 (s=0.0000e+00)\n\nODE Message 3: LCP internal error, s <= 0 (s=-0.0000e+00)\n\nODE Message 3: LCP internal error, s <= 0 (s=-0.0000e+00)\n\nODE Message 3: LCP internal error, s <= 0 (s=-0.0000e+00)\n\nODE Message 3: LCP internal error, s <= 0 (s=-0.0000e+00)\n\nODE Message 3: LCP internal error, s <= 0 (s=-0.0000e+00)\n\nODE Message 3: LCP internal error, s <= 0 (s=-0.0000e+00)\n\nODE Message 3: LCP internal error, s <= 0 (s=0.0000e+00)\n\nODE Message 3: LCP internal error, s <= 0 (s=-0.0000e+00)\n\nODE Message 3: LCP internal error, s <= 0 (s=-0.0000e+00)\n\nODE Message 3: LCP internal error, s <= 0 (s=-0.0000e+00)\n\nODE Message 3: LCP internal error, s <= 0 (s=0.0000e+00)\n\nODE Message 3: LCP internal error, s <= 0 (s=-0.0000e+00)\n\nODE Message 3: LCP internal error, s <= 0 (s=0.0000e+00)\n\nODE Message 3: LCP internal error, s <= 0 (s=-0.0000e+00)\n\nODE Message 3: LCP internal error, s <= 0 (s=0.0000e+00)\n\nODE Message 3: LCP internal error, s <= 0 (s=-0.0000e+00)\n\nODE Message 3: LCP internal error, s <= 0 (s=-0.0000e+00)\n\nODE Message 3: LCP internal error, s <= 0 (s=-0.0000e+00)\n\nODE Message 3: LCP internal error, s <= 0 (s=-0.0000e+00)\n\nODE Message 3: LCP internal error, s <= 0 (s=0.0000e+00)\n\nODE Message 3: LCP internal error, s <= 0 (s=-0.0000e+00)\n\nODE Message 3: LCP internal error, s <= 0 (s=-0.0000e+00)\n\nODE Message 3: LCP internal error, s <= 0 (s=0.0000e+00)\n\nODE Message 3: LCP internal error, s <= 0 (s=-0.0000e+00)\n\nODE Message 3: LCP internal error, s <= 0 (s=0.0000e+00)\n\nODE Message 3: LCP internal error, s <= 0 (s=-0.0000e+00)\n\nODE Message 3: LCP internal error, s <= 0 (s=-0.0000e+00)\n\nODE Message 3: LCP internal error, s <= 0 (s=-0.0000e+00)\n\nODE Message 3: LCP internal error, s <= 0 (s=-0.0000e+00)\n\nODE Message 3: LCP internal error, s <= 0 (s=0.0000e+00)\n\nODE Message 3: LCP internal error, s <= 0 (s=-0.0000e+00)\n\nODE Message 3: LCP internal error, s <= 0 (s=-0.0000e+00)\n\nODE Message 3: LCP internal error, s <= 0 (s=-0.0000e+00)\n\nODE Message 3: LCP internal error, s <= 0 (s=0.0000e+00)\n\nODE Message 3: LCP internal error, s <= 0 (s=0.0000e+00)\n\nODE Message 3: LCP internal error, s <= 0 (s=0.0000e+00)\n\nODE Message 3: LCP internal error, s <= 0 (s=-0.0000e+00)\n\nODE Message 3: LCP internal error, s <= 0 (s=0.0000e+00)\n\nODE Message 3: LCP internal error, s <= 0 (s=-0.0000e+00)\n\nODE Message 3: LCP internal error, s <= 0 (s=0.0000e+00)\n\nODE Message 3: LCP internal error, s <= 0 (s=0.0000e+00)\n\nODE Message 3: LCP internal error, s <= 0 (s=0.0000e+00)\n\nODE Message 3: LCP internal error, s <= 0 (s=-0.0000e+00)\n\nODE Message 3: LCP internal error, s <= 0 (s=-0.0000e+00)\n\nODE Message 3: LCP internal error, s <= 0 (s=0.0000e+00)\n\nODE Message 3: LCP internal error, s <= 0 (s=-0.0000e+00)\n\nODE Message 3: LCP internal error, s <= 0 (s=-0.0000e+00)\n\nODE Message 3: LCP internal error, s <= 0 (s=-0.0000e+00)\n\nODE Message 3: LCP internal error, s <= 0 (s=0.0000e+00)\n\nODE Message 3: LCP internal error, s <= 0 (s=0.0000e+00)\n\nODE Message 3: LCP internal error, s <= 0 (s=0.0000e+00)\n\nODE Message 3: LCP internal error, s <= 0 (s=0.0000e+00)\n\nODE Message 3: LCP internal error, s <= 0 (s=-0.0000e+00)\n\nODE Message 3: LCP internal error, s <= 0 (s=0.0000e+00)\n\nODE Message 3: LCP internal error, s <= 0 (s=-0.0000e+00)\n\nODE Message 3: LCP internal error, s <= 0 (s=-0.0000e+00)\n\nODE Message 3: LCP internal error, s <= 0 (s=-0.0000e+00)\n\nODE Message 3: LCP internal error, s <= 0 (s=0.0000e+00)\n\nODE Message 3: LCP internal error, s <= 0 (s=-0.0000e+00)\n\nODE Message 3: LCP internal error, s <= 0 (s=0.0000e+00)\n\nODE Message 3: LCP internal error, s <= 0 (s=0.0000e+00)\n\nODE Message 3: LCP internal error, s <= 0 (s=0.0000e+00)\n\nODE Message 3: LCP internal error, s <= 0 (s=-0.0000e+00)\n\nODE Message 3: LCP internal error, s <= 0 (s=-0.0000e+00)\n\nODE Message 3: LCP internal error, s <= 0 (s=-0.0000e+00)\n\nODE Message 3: LCP internal error, s <= 0 (s=-0.0000e+00)\n\nODE Message 3: LCP internal error, s <= 0 (s=-0.0000e+00)\n\nODE Message 3: LCP internal error, s <= 0 (s=-0.0000e+00)\n\nODE Message 3: LCP internal error, s <= 0 (s=-0.0000e+00)\n\nODE Message 3: LCP internal error, s <= 0 (s=-0.0000e+00)\n\nODE Message 3: LCP internal error, s <= 0 (s=-0.0000e+00)\n\nODE Message 3: LCP internal error, s <= 0 (s=-0.0000e+00)\n\nODE Message 3: LCP internal error, s <= 0 (s=0.0000e+00)\n\nODE Message 3: LCP internal error, s <= 0 (s=0.0000e+00)\n\nODE Message 3: LCP internal error, s <= 0 (s=-0.0000e+00)\n\nODE Message 3: LCP internal error, s <= 0 (s=0.0000e+00)\n\nODE Message 3: LCP internal error, s <= 0 (s=-0.0000e+00)\n\nODE Message 3: LCP internal error, s <= 0 (s=-0.0000e+00)\n\nODE Message 3: LCP internal error, s <= 0 (s=0.0000e+00)\n\nODE Message 3: LCP internal error, s <= 0 (s=-0.0000e+00)\n\nODE Message 3: LCP internal error, s <= 0 (s=-0.0000e+00)\n\nODE Message 3: LCP internal error, s <= 0 (s=-0.0000e+00)\n\nODE Message 3: LCP internal error, s <= 0 (s=-0.0000e+00)\n\nODE Message 3: LCP internal error, s <= 0 (s=0.0000e+00)\n\nODE Message 3: LCP internal error, s <= 0 (s=0.0000e+00)\n\nODE Message 3: LCP internal error, s <= 0 (s=0.0000e+00)\n\nODE Message 3: LCP internal error, s <= 0 (s=-0.0000e+00)\n\nODE Message 3: LCP internal error, s <= 0 (s=-0.0000e+00)\n\nODE Message 3: LCP internal error, s <= 0 (s=0.0000e+00)\n"
        }
      ],
      "execution_count": null,
      "metadata": {
        "gather": {
          "logged": 1717522101858
        },
        "jupyter": {
          "outputs_hidden": false
        },
        "editable": true,
        "run_control": {
          "frozen": false
        }
      }
    },
    {
      "cell_type": "code",
      "source": [
        "model.save(f\"{save_path}/{model_filename_prefix}\")"
      ],
      "outputs": [],
      "execution_count": null,
      "metadata": {
        "gather": {
          "logged": 1717520403232
        }
      }
    }
  ],
  "metadata": {
    "kernelspec": {
      "name": "python310-sdkv2",
      "language": "python",
      "display_name": "Python 3.10 - SDK v2"
    },
    "language_info": {
      "name": "python",
      "version": "3.10.11",
      "mimetype": "text/x-python",
      "codemirror_mode": {
        "name": "ipython",
        "version": 3
      },
      "pygments_lexer": "ipython3",
      "nbconvert_exporter": "python",
      "file_extension": ".py"
    },
    "kernel_info": {
      "name": "python310-sdkv2"
    },
    "nteract": {
      "version": "nteract-front-end@1.0.0"
    },
    "microsoft": {
      "host": {
        "AzureML": {
          "notebookHasBeenCompleted": true
        }
      }
    }
  },
  "nbformat": 4,
  "nbformat_minor": 2
}