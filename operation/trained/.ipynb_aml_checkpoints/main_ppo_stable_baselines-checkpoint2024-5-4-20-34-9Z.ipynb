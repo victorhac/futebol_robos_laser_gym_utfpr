{
  "cells": [
    {
      "cell_type": "code",
      "source": [
        "from stable_baselines3 import PPO\n",
        "from stable_baselines3.common.vec_env import SubprocVecEnv\n",
        "from stable_baselines3.common.callbacks import CheckpointCallback\n",
        "\n",
        "from lib.environment.attacker.environment import Environment\n",
        "\n",
        "import os\n",
        "from datetime import datetime"
      ],
      "outputs": [],
      "execution_count": 1,
      "metadata": {
        "gather": {
          "logged": 1717532362011
        }
      }
    },
    {
      "cell_type": "code",
      "source": [
        "task_training_name = \"attacker\"\n",
        "algorithm_name = \"PPO\""
      ],
      "outputs": [],
      "execution_count": 2,
      "metadata": {
        "gather": {
          "logged": 1717532362131
        }
      }
    },
    {
      "cell_type": "code",
      "source": [
        "def create_env():\n",
        "    def _init():\n",
        "        return Environment()\n",
        "    return _init"
      ],
      "outputs": [],
      "execution_count": 3,
      "metadata": {
        "gather": {
          "logged": 1717532362250
        }
      }
    },
    {
      "cell_type": "code",
      "source": [
        "def create_folder_if_not_exists(folder_path):\n",
        "    if not os.path.exists(folder_path):\n",
        "        os.makedirs(folder_path)"
      ],
      "outputs": [],
      "execution_count": 4,
      "metadata": {
        "gather": {
          "logged": 1717532362372
        }
      }
    },
    {
      "cell_type": "code",
      "source": [
        "def get_task_models_path():\n",
        "    current_datetime = datetime.now()\n",
        "\n",
        "    year = current_datetime.year\n",
        "    month = current_datetime.month\n",
        "    day = current_datetime.day\n",
        "    hour = current_datetime.hour\n",
        "    minute = current_datetime.minute\n",
        "    second = current_datetime.second\n",
        "\n",
        "    datetime_name = f\"{year}_{month}_{day}_{hour}_{minute}_{second}\"\n",
        "\n",
        "    return f\"models/{task_training_name}/{algorithm_name}/{datetime_name}\""
      ],
      "outputs": [],
      "execution_count": 5,
      "metadata": {
        "gather": {
          "logged": 1717532362494
        }
      }
    },
    {
      "cell_type": "code",
      "source": [
        "save_path = get_task_models_path()\n",
        "\n",
        "create_folder_if_not_exists(save_path)"
      ],
      "outputs": [],
      "execution_count": 6,
      "metadata": {
        "gather": {
          "logged": 1717532362617
        }
      }
    },
    {
      "cell_type": "code",
      "source": [
        "num_threads = 60\n",
        "model_filename_prefix = f\"{algorithm_name}_model\""
      ],
      "outputs": [],
      "execution_count": 7,
      "metadata": {
        "gather": {
          "logged": 1717532362739
        }
      }
    },
    {
      "cell_type": "code",
      "source": [
        "env = SubprocVecEnv([create_env() for i in range(num_threads)])\n",
        "\n",
        "n_actions = env.action_space.shape[-1]\n",
        "n_actions"
      ],
      "outputs": [
        {
          "output_type": "execute_result",
          "execution_count": 8,
          "data": {
            "text/plain": "2"
          },
          "metadata": {}
        }
      ],
      "execution_count": 8,
      "metadata": {
        "gather": {
          "logged": 1717532370283
        }
      }
    },
    {
      "cell_type": "code",
      "source": [
        "gae_lambda = 0.95\n",
        "gamma = 0.99\n",
        "learning_rate = 0.0004\n",
        "clip_range = 0.2\n",
        "policy = \"MlpPolicy\"\n",
        "batch_size = 128"
      ],
      "outputs": [],
      "execution_count": 9,
      "metadata": {
        "gather": {
          "logged": 1717532370428
        }
      }
    },
    {
      "cell_type": "code",
      "source": [
        "load_model = True\n",
        "loaded_model_path = \"models/attacker/PPO/2024_6_4_17_29_21/PPO_model.zip\""
      ],
      "outputs": [],
      "execution_count": 10,
      "metadata": {
        "gather": {
          "logged": 1717532370547
        }
      }
    },
    {
      "cell_type": "code",
      "source": [
        "model = PPO(\n",
        "    policy=policy,\n",
        "    env=env,\n",
        "    gamma=gamma,\n",
        "    gae_lambda=gae_lambda,\n",
        "    clip_range=clip_range,\n",
        "    batch_size=batch_size)\n",
        "\n",
        "if load_model:\n",
        "    model.set_parameters(loaded_model_path)"
      ],
      "outputs": [
        {
          "output_type": "stream",
          "name": "stderr",
          "text": "/anaconda/envs/azureml_py310_sdkv2/lib/python3.10/site-packages/torch/cuda/__init__.py:619: UserWarning: Can't initialize NVML\n  warnings.warn(\"Can't initialize NVML\")\n"
        }
      ],
      "execution_count": 11,
      "metadata": {
        "gather": {
          "logged": 1717532378113
        }
      }
    },
    {
      "cell_type": "code",
      "source": [
        "total_timesteps = 50_000_000"
      ],
      "outputs": [],
      "execution_count": 12,
      "metadata": {
        "gather": {
          "logged": 1717532378262
        }
      }
    },
    {
      "cell_type": "code",
      "source": [
        "saved_model_number = 20\n",
        "save_freq = total_timesteps // (saved_model_number * num_threads)\n",
        "log_interval = total_timesteps // 10"
      ],
      "outputs": [],
      "execution_count": 13,
      "metadata": {
        "gather": {
          "logged": 1717532378405
        }
      }
    },
    {
      "cell_type": "code",
      "source": [
        "checkpoint_callback = CheckpointCallback(\n",
        "    save_freq=save_freq,\n",
        "    save_path=save_path,\n",
        "    name_prefix=model_filename_prefix)"
      ],
      "outputs": [],
      "execution_count": 14,
      "metadata": {
        "gather": {
          "logged": 1717532378538
        }
      }
    },
    {
      "cell_type": "code",
      "source": [
        "model.learn(\n",
        "    total_timesteps=total_timesteps,\n",
        "    log_interval=1_000,\n",
        "    callback=checkpoint_callback)"
      ],
      "outputs": [
        {
          "output_type": "stream",
          "name": "stderr",
          "text": "\nODE Message 3: LCP internal error, s <= 0 (s=0.0000e+00)\n\nODE Message 3: LCP internal error, s <= 0 (s=0.0000e+00)\n\nODE Message 3: LCP internal error, s <= 0 (s=-0.0000e+00)\n\nODE Message 3: LCP internal error, s <= 0 (s=-0.0000e+00)\n\nODE Message 3: LCP internal error, s <= 0 (s=0.0000e+00)\n\nODE Message 3: LCP internal error, s <= 0 (s=-0.0000e+00)\n\nODE Message 3: LCP internal error, s <= 0 (s=-0.0000e+00)\n\nODE Message 3: LCP internal error, s <= 0 (s=-0.0000e+00)\n\nODE Message 3: LCP internal error, s <= 0 (s=-0.0000e+00)\n\nODE Message 3: LCP internal error, s <= 0 (s=0.0000e+00)\n\nODE Message 3: LCP internal error, s <= 0 (s=-0.0000e+00)\n\nODE Message 3: LCP internal error, s <= 0 (s=0.0000e+00)\n\nODE Message 3: LCP internal error, s <= 0 (s=-0.0000e+00)\n\nODE Message 3: LCP internal error, s <= 0 (s=-0.0000e+00)\n\nODE Message 3: LCP internal error, s <= 0 (s=0.0000e+00)\n\nODE Message 3: LCP internal error, s <= 0 (s=0.0000e+00)\n\nODE Message 3: LCP internal error, s <= 0 (s=-0.0000e+00)\n\nODE Message 3: LCP internal error, s <= 0 (s=-0.0000e+00)\n\nODE Message 3: LCP internal error, s <= 0 (s=0.0000e+00)\n\nODE Message 3: LCP internal error, s <= 0 (s=-0.0000e+00)\n\nODE Message 3: LCP internal error, s <= 0 (s=0.0000e+00)\n\nODE Message 3: LCP internal error, s <= 0 (s=0.0000e+00)\n\nODE Message 3: LCP internal error, s <= 0 (s=0.0000e+00)\n\nODE Message 3: LCP internal error, s <= 0 (s=-0.0000e+00)\n\nODE Message 3: LCP internal error, s <= 0 (s=0.0000e+00)\n\nODE Message 3: LCP internal error, s <= 0 (s=0.0000e+00)\n\nODE Message 3: LCP internal error, s <= 0 (s=-0.0000e+00)\n\nODE Message 3: LCP internal error, s <= 0 (s=-0.0000e+00)\n\nODE Message 3: LCP internal error, s <= 0 (s=-0.0000e+00)\n\nODE Message 3: LCP internal error, s <= 0 (s=-0.0000e+00)\n\nODE Message 3: LCP internal error, s <= 0 (s=-0.0000e+00)\n\nODE Message 3: LCP internal error, s <= 0 (s=0.0000e+00)\n\nODE Message 3: LCP internal error, s <= 0 (s=-0.0000e+00)\n\nODE Message 3: LCP internal error, s <= 0 (s=-0.0000e+00)\n\nODE Message 3: LCP internal error, s <= 0 (s=0.0000e+00)\n\nODE Message 3: LCP internal error, s <= 0 (s=-0.0000e+00)\n\nODE Message 3: LCP internal error, s <= 0 (s=-0.0000e+00)\n\nODE Message 3: LCP internal error, s <= 0 (s=0.0000e+00)\n\nODE Message 3: LCP internal error, s <= 0 (s=0.0000e+00)\n\nODE Message 3: LCP internal error, s <= 0 (s=-0.0000e+00)\n\nODE Message 3: LCP internal error, s <= 0 (s=-0.0000e+00)\n\nODE Message 3: LCP internal error, s <= 0 (s=0.0000e+00)\n\nODE Message 3: LCP internal error, s <= 0 (s=-1.6798e-10)\n\nODE Message 3: LCP internal error, s <= 0 (s=-0.0000e+00)\n\nODE Message 3: LCP internal error, s <= 0 (s=-0.0000e+00)\n\nODE Message 3: LCP internal error, s <= 0 (s=0.0000e+00)\n\nODE Message 3: LCP internal error, s <= 0 (s=-0.0000e+00)\n\nODE Message 3: LCP internal error, s <= 0 (s=-0.0000e+00)\n\nODE Message 3: LCP internal error, s <= 0 (s=0.0000e+00)\n\nODE Message 3: LCP internal error, s <= 0 (s=-0.0000e+00)\n\nODE Message 3: LCP internal error, s <= 0 (s=-0.0000e+00)\n\nODE Message 3: LCP internal error, s <= 0 (s=-0.0000e+00)\n\nODE Message 3: LCP internal error, s <= 0 (s=-0.0000e+00)\n\nODE Message 3: LCP internal error, s <= 0 (s=-0.0000e+00)\n\nODE Message 3: LCP internal error, s <= 0 (s=0.0000e+00)\n\nODE Message 3: LCP internal error, s <= 0 (s=-0.0000e+00)\n\nODE Message 3: LCP internal error, s <= 0 (s=-0.0000e+00)\n\nODE Message 3: LCP internal error, s <= 0 (s=-0.0000e+00)\n\nODE Message 3: LCP internal error, s <= 0 (s=-0.0000e+00)\n\nODE Message 3: LCP internal error, s <= 0 (s=0.0000e+00)\n\nODE Message 3: LCP internal error, s <= 0 (s=-0.0000e+00)\n\nODE Message 3: LCP internal error, s <= 0 (s=0.0000e+00)\n\nODE Message 3: LCP internal error, s <= 0 (s=0.0000e+00)\n\nODE Message 3: LCP internal error, s <= 0 (s=0.0000e+00)\n\nODE Message 3: LCP internal error, s <= 0 (s=0.0000e+00)\n\nODE Message 3: LCP internal error, s <= 0 (s=-0.0000e+00)\n\nODE Message 3: LCP internal error, s <= 0 (s=-0.0000e+00)\n\nODE Message 3: LCP internal error, s <= 0 (s=-0.0000e+00)\n\nODE Message 3: LCP internal error, s <= 0 (s=0.0000e+00)\n\nODE Message 3: LCP internal error, s <= 0 (s=-0.0000e+00)\n\nODE Message 3: LCP internal error, s <= 0 (s=-0.0000e+00)\n\nODE Message 3: LCP internal error, s <= 0 (s=0.0000e+00)\n\nODE Message 3: LCP internal error, s <= 0 (s=-0.0000e+00)\n\nODE Message 3: LCP internal error, s <= 0 (s=-0.0000e+00)\n\nODE Message 3: LCP internal error, s <= 0 (s=-0.0000e+00)\n\nODE Message 3: LCP internal error, s <= 0 (s=0.0000e+00)\n\nODE Message 3: LCP internal error, s <= 0 (s=0.0000e+00)\n\nODE Message 3: LCP internal error, s <= 0 (s=-0.0000e+00)\n\nODE Message 3: LCP internal error, s <= 0 (s=0.0000e+00)\n\nODE Message 3: LCP internal error, s <= 0 (s=-0.0000e+00)\n\nODE Message 3: LCP internal error, s <= 0 (s=0.0000e+00)\n\nODE Message 3: LCP internal error, s <= 0 (s=-0.0000e+00)\n\nODE Message 3: LCP internal error, s <= 0 (s=-0.0000e+00)\n\nODE Message 3: LCP internal error, s <= 0 (s=0.0000e+00)\n\nODE Message 3: LCP internal error, s <= 0 (s=-0.0000e+00)\n\nODE Message 3: LCP internal error, s <= 0 (s=-0.0000e+00)\n\nODE Message 3: LCP internal error, s <= 0 (s=-0.0000e+00)\n\nODE Message 3: LCP internal error, s <= 0 (s=-0.0000e+00)\n\nODE Message 3: LCP internal error, s <= 0 (s=-0.0000e+00)\n\nODE Message 3: LCP internal error, s <= 0 (s=-0.0000e+00)\n\nODE Message 3: LCP internal error, s <= 0 (s=0.0000e+00)\n\nODE Message 3: LCP internal error, s <= 0 (s=-0.0000e+00)\n\nODE Message 3: LCP internal error, s <= 0 (s=0.0000e+00)\n\nODE Message 3: LCP internal error, s <= 0 (s=-0.0000e+00)\n\nODE Message 3: LCP internal error, s <= 0 (s=-0.0000e+00)\n\nODE Message 3: LCP internal error, s <= 0 (s=-0.0000e+00)\n\nODE Message 3: LCP internal error, s <= 0 (s=-0.0000e+00)\n\nODE Message 3: LCP internal error, s <= 0 (s=0.0000e+00)\n\nODE Message 3: LCP internal error, s <= 0 (s=0.0000e+00)\n\nODE Message 3: LCP internal error, s <= 0 (s=-1.6798e-10)\n\nODE Message 3: LCP internal error, s <= 0 (s=-0.0000e+00)\n\nODE Message 3: LCP internal error, s <= 0 (s=-0.0000e+00)\n\nODE Message 3: LCP internal error, s <= 0 (s=0.0000e+00)\n\nODE Message 3: LCP internal error, s <= 0 (s=-0.0000e+00)\n\nODE Message 3: LCP internal error, s <= 0 (s=-0.0000e+00)\n\nODE Message 3: LCP internal error, s <= 0 (s=0.0000e+00)\n\nODE Message 3: LCP internal error, s <= 0 (s=-0.0000e+00)\n\nODE Message 3: LCP internal error, s <= 0 (s=0.0000e+00)\n\nODE Message 3: LCP internal error, s <= 0 (s=0.0000e+00)\n\nODE Message 3: LCP internal error, s <= 0 (s=0.0000e+00)\n\nODE Message 3: LCP internal error, s <= 0 (s=0.0000e+00)\n\nODE Message 3: LCP internal error, s <= 0 (s=0.0000e+00)\n\nODE Message 3: LCP internal error, s <= 0 (s=0.0000e+00)\n\nODE Message 3: LCP internal error, s <= 0 (s=-0.0000e+00)\n\nODE Message 3: LCP internal error, s <= 0 (s=0.0000e+00)\n\nODE Message 3: LCP internal error, s <= 0 (s=0.0000e+00)\n\nODE Message 3: LCP internal error, s <= 0 (s=-0.0000e+00)\n\nODE Message 3: LCP internal error, s <= 0 (s=0.0000e+00)\n\nODE Message 3: LCP internal error, s <= 0 (s=-0.0000e+00)\n\nODE Message 3: LCP internal error, s <= 0 (s=0.0000e+00)\n\nODE Message 3: LCP internal error, s <= 0 (s=0.0000e+00)\n\nODE Message 3: LCP internal error, s <= 0 (s=0.0000e+00)\n\nODE Message 3: LCP internal error, s <= 0 (s=0.0000e+00)\n\nODE Message 3: LCP internal error, s <= 0 (s=-4.3351e-11)\n\nODE Message 3: LCP internal error, s <= 0 (s=-0.0000e+00)\n\nODE Message 3: LCP internal error, s <= 0 (s=0.0000e+00)\n\nODE Message 3: LCP internal error, s <= 0 (s=-0.0000e+00)\n\nODE Message 3: LCP internal error, s <= 0 (s=0.0000e+00)\n\nODE Message 3: LCP internal error, s <= 0 (s=0.0000e+00)\n\nODE Message 3: LCP internal error, s <= 0 (s=-0.0000e+00)\n\nODE Message 3: LCP internal error, s <= 0 (s=-0.0000e+00)\n\nODE Message 3: LCP internal error, s <= 0 (s=-0.0000e+00)\n\nODE Message 3: LCP internal error, s <= 0 (s=-0.0000e+00)\n\nODE Message 3: LCP internal error, s <= 0 (s=-0.0000e+00)\n\nODE Message 3: LCP internal error, s <= 0 (s=-0.0000e+00)\n\nODE Message 3: LCP internal error, s <= 0 (s=0.0000e+00)\n\nODE Message 3: LCP internal error, s <= 0 (s=0.0000e+00)\n\nODE Message 3: LCP internal error, s <= 0 (s=-0.0000e+00)\n\nODE Message 3: LCP internal error, s <= 0 (s=-0.0000e+00)\n\nODE Message 3: LCP internal error, s <= 0 (s=0.0000e+00)\n\nODE Message 3: LCP internal error, s <= 0 (s=0.0000e+00)\n\nODE Message 3: LCP internal error, s <= 0 (s=-0.0000e+00)\n\nODE Message 3: LCP internal error, s <= 0 (s=0.0000e+00)\n\nODE Message 3: LCP internal error, s <= 0 (s=-0.0000e+00)\n\nODE Message 3: LCP internal error, s <= 0 (s=-0.0000e+00)\n\nODE Message 3: LCP internal error, s <= 0 (s=-0.0000e+00)\n\nODE Message 3: LCP internal error, s <= 0 (s=-0.0000e+00)\n\nODE Message 3: LCP internal error, s <= 0 (s=-0.0000e+00)\n\nODE Message 3: LCP internal error, s <= 0 (s=0.0000e+00)\n\nODE Message 3: LCP internal error, s <= 0 (s=-0.0000e+00)\n\nODE Message 3: LCP internal error, s <= 0 (s=0.0000e+00)\n\nODE Message 3: LCP internal error, s <= 0 (s=-0.0000e+00)\n\nODE Message 3: LCP internal error, s <= 0 (s=-0.0000e+00)\n\nODE Message 3: LCP internal error, s <= 0 (s=-0.0000e+00)\n\nODE Message 3: LCP internal error, s <= 0 (s=-0.0000e+00)\n\nODE Message 3: LCP internal error, s <= 0 (s=0.0000e+00)\n\nODE Message 3: LCP internal error, s <= 0 (s=0.0000e+00)\n\nODE Message 3: LCP internal error, s <= 0 (s=0.0000e+00)\n\nODE Message 3: LCP internal error, s <= 0 (s=0.0000e+00)\n\nODE Message 3: LCP internal error, s <= 0 (s=-0.0000e+00)\n\nODE Message 3: LCP internal error, s <= 0 (s=-0.0000e+00)\n\nODE Message 3: LCP internal error, s <= 0 (s=-0.0000e+00)\n\nODE Message 3: LCP internal error, s <= 0 (s=0.0000e+00)\n\nODE Message 3: LCP internal error, s <= 0 (s=0.0000e+00)\n\nODE Message 3: LCP internal error, s <= 0 (s=0.0000e+00)\n\nODE Message 3: LCP internal error, s <= 0 (s=0.0000e+00)\n\nODE Message 3: LCP internal error, s <= 0 (s=-0.0000e+00)\n\nODE Message 3: LCP internal error, s <= 0 (s=0.0000e+00)\n\nODE Message 3: LCP internal error, s <= 0 (s=-0.0000e+00)\n\nODE Message 3: LCP internal error, s <= 0 (s=-0.0000e+00)\n\nODE Message 3: LCP internal error, s <= 0 (s=-0.0000e+00)\n\nODE Message 3: LCP internal error, s <= 0 (s=-0.0000e+00)\n\nODE Message 3: LCP internal error, s <= 0 (s=-0.0000e+00)\n\nODE Message 3: LCP internal error, s <= 0 (s=0.0000e+00)\n\nODE Message 3: LCP internal error, s <= 0 (s=0.0000e+00)\n\nODE Message 3: LCP internal error, s <= 0 (s=-0.0000e+00)\n\nODE Message 3: LCP internal error, s <= 0 (s=-0.0000e+00)\n\nODE Message 3: LCP internal error, s <= 0 (s=0.0000e+00)\n\nODE Message 3: LCP internal error, s <= 0 (s=-0.0000e+00)\n\nODE Message 3: LCP internal error, s <= 0 (s=-0.0000e+00)\n\nODE Message 3: LCP internal error, s <= 0 (s=-0.0000e+00)\n\nODE Message 3: LCP internal error, s <= 0 (s=0.0000e+00)\n\nODE Message 3: LCP internal error, s <= 0 (s=0.0000e+00)\n\nODE Message 3: LCP internal error, s <= 0 (s=-0.0000e+00)\n\nODE Message 3: LCP internal error, s <= 0 (s=0.0000e+00)\n\nODE Message 3: LCP internal error, s <= 0 (s=-0.0000e+00)\n\nODE Message 3: LCP internal error, s <= 0 (s=-0.0000e+00)\n\nODE Message 3: LCP internal error, s <= 0 (s=0.0000e+00)\n\nODE Message 3: LCP internal error, s <= 0 (s=-0.0000e+00)\n\nODE Message 3: LCP internal error, s <= 0 (s=0.0000e+00)\n\nODE Message 3: LCP internal error, s <= 0 (s=0.0000e+00)\n\nODE Message 3: LCP internal error, s <= 0 (s=0.0000e+00)\n\nODE Message 3: LCP internal error, s <= 0 (s=0.0000e+00)\n\nODE Message 3: LCP internal error, s <= 0 (s=0.0000e+00)\n\nODE Message 3: LCP internal error, s <= 0 (s=-0.0000e+00)\n\nODE Message 3: LCP internal error, s <= 0 (s=0.0000e+00)\n\nODE Message 3: LCP internal error, s <= 0 (s=-0.0000e+00)\n\nODE Message 3: LCP internal error, s <= 0 (s=0.0000e+00)\n\nODE Message 3: LCP internal error, s <= 0 (s=-0.0000e+00)\n\nODE Message 3: LCP internal error, s <= 0 (s=0.0000e+00)\n\nODE Message 3: LCP internal error, s <= 0 (s=0.0000e+00)\n\nODE Message 3: LCP internal error, s <= 0 (s=-0.0000e+00)\n\nODE Message 3: LCP internal error, s <= 0 (s=0.0000e+00)\n\nODE Message 3: LCP internal error, s <= 0 (s=0.0000e+00)\n\nODE Message 3: LCP internal error, s <= 0 (s=-0.0000e+00)\n\nODE Message 3: LCP internal error, s <= 0 (s=-0.0000e+00)\n\nODE Message 3: LCP internal error, s <= 0 (s=-0.0000e+00)\n\nODE Message 3: LCP internal error, s <= 0 (s=-0.0000e+00)\n\nODE Message 3: LCP internal error, s <= 0 (s=-0.0000e+00)\n\nODE Message 3: LCP internal error, s <= 0 (s=0.0000e+00)\n\nODE Message 3: LCP internal error, s <= 0 (s=-0.0000e+00)\n\nODE Message 3: LCP internal error, s <= 0 (s=0.0000e+00)\n\nODE Message 3: LCP internal error, s <= 0 (s=0.0000e+00)\n\nODE Message 3: LCP internal error, s <= 0 (s=-0.0000e+00)\n\nODE Message 3: LCP internal error, s <= 0 (s=-0.0000e+00)\n\nODE Message 3: LCP internal error, s <= 0 (s=-0.0000e+00)\n\nODE Message 3: LCP internal error, s <= 0 (s=-0.0000e+00)\n\nODE Message 3: LCP internal error, s <= 0 (s=0.0000e+00)\n\nODE Message 3: LCP internal error, s <= 0 (s=0.0000e+00)\n\nODE Message 3: LCP internal error, s <= 0 (s=-0.0000e+00)\n\nODE Message 3: LCP internal error, s <= 0 (s=0.0000e+00)\n\nODE Message 3: LCP internal error, s <= 0 (s=0.0000e+00)\n\nODE Message 3: LCP internal error, s <= 0 (s=0.0000e+00)\n\nODE Message 3: LCP internal error, s <= 0 (s=-0.0000e+00)\n\nODE Message 3: LCP internal error, s <= 0 (s=-0.0000e+00)\n\nODE Message 3: LCP internal error, s <= 0 (s=0.0000e+00)\n\nODE Message 3: LCP internal error, s <= 0 (s=-0.0000e+00)\n\nODE Message 3: LCP internal error, s <= 0 (s=-0.0000e+00)\n\nODE Message 3: LCP internal error, s <= 0 (s=0.0000e+00)\n\nODE Message 3: LCP internal error, s <= 0 (s=-0.0000e+00)\n\nODE Message 3: LCP internal error, s <= 0 (s=-0.0000e+00)\n\nODE Message 3: LCP internal error, s <= 0 (s=-0.0000e+00)\n\nODE Message 3: LCP internal error, s <= 0 (s=-0.0000e+00)\n\nODE Message 3: LCP internal error, s <= 0 (s=-0.0000e+00)\n\nODE Message 3: LCP internal error, s <= 0 (s=-0.0000e+00)\n\nODE Message 3: LCP internal error, s <= 0 (s=0.0000e+00)\n\nODE Message 3: LCP internal error, s <= 0 (s=-0.0000e+00)\n\nODE Message 3: LCP internal error, s <= 0 (s=-0.0000e+00)\n\nODE Message 3: LCP internal error, s <= 0 (s=0.0000e+00)\n\nODE Message 3: LCP internal error, s <= 0 (s=-0.0000e+00)\n\nODE Message 3: LCP internal error, s <= 0 (s=0.0000e+00)\n\nODE Message 3: LCP internal error, s <= 0 (s=0.0000e+00)\n\nODE Message 3: LCP internal error, s <= 0 (s=-0.0000e+00)\n\nODE Message 3: LCP internal error, s <= 0 (s=0.0000e+00)\n\nODE Message 3: LCP internal error, s <= 0 (s=0.0000e+00)\n\nODE Message 3: LCP internal error, s <= 0 (s=-0.0000e+00)\n\nODE Message 3: LCP internal error, s <= 0 (s=0.0000e+00)\n\nODE Message 3: LCP internal error, s <= 0 (s=0.0000e+00)\n\nODE Message 3: LCP internal error, s <= 0 (s=-0.0000e+00)\n\nODE Message 3: LCP internal error, s <= 0 (s=0.0000e+00)\n\nODE Message 3: LCP internal error, s <= 0 (s=-0.0000e+00)\n\nODE Message 3: LCP internal error, s <= 0 (s=-0.0000e+00)\n\nODE Message 3: LCP internal error, s <= 0 (s=-0.0000e+00)\n\nODE Message 3: LCP internal error, s <= 0 (s=-0.0000e+00)\n\nODE Message 3: LCP internal error, s <= 0 (s=-0.0000e+00)\n\nODE Message 3: LCP internal error, s <= 0 (s=0.0000e+00)\n\nODE Message 3: LCP internal error, s <= 0 (s=-0.0000e+00)\n\nODE Message 3: LCP internal error, s <= 0 (s=0.0000e+00)\n\nODE Message 3: LCP internal error, s <= 0 (s=-0.0000e+00)\n\nODE Message 3: LCP internal error, s <= 0 (s=-0.0000e+00)\n\nODE Message 3: LCP internal error, s <= 0 (s=0.0000e+00)\n\nODE Message 3: LCP internal error, s <= 0 (s=0.0000e+00)\n\nODE Message 3: LCP internal error, s <= 0 (s=-0.0000e+00)\n\nODE Message 3: LCP internal error, s <= 0 (s=-0.0000e+00)\n\nODE Message 3: LCP internal error, s <= 0 (s=0.0000e+00)\n\nODE Message 3: LCP internal error, s <= 0 (s=0.0000e+00)\n\nODE Message 3: LCP internal error, s <= 0 (s=-0.0000e+00)\n\nODE Message 3: LCP internal error, s <= 0 (s=-0.0000e+00)\n\nODE Message 3: LCP internal error, s <= 0 (s=-0.0000e+00)\n\nODE Message 3: LCP internal error, s <= 0 (s=-0.0000e+00)\n\nODE Message 3: LCP internal error, s <= 0 (s=-0.0000e+00)\n\nODE Message 3: LCP internal error, s <= 0 (s=-0.0000e+00)\n\nODE Message 3: LCP internal error, s <= 0 (s=0.0000e+00)\n\nODE Message 3: LCP internal error, s <= 0 (s=0.0000e+00)\n\nODE Message 3: LCP internal error, s <= 0 (s=0.0000e+00)\n\nODE Message 3: LCP internal error, s <= 0 (s=-0.0000e+00)\n\nODE Message 3: LCP internal error, s <= 0 (s=0.0000e+00)\n\nODE Message 3: LCP internal error, s <= 0 (s=-0.0000e+00)\n\nODE Message 3: LCP internal error, s <= 0 (s=-0.0000e+00)\n\nODE Message 3: LCP internal error, s <= 0 (s=0.0000e+00)\n\nODE Message 3: LCP internal error, s <= 0 (s=-0.0000e+00)\n\nODE Message 3: LCP internal error, s <= 0 (s=-0.0000e+00)\n\nODE Message 3: LCP internal error, s <= 0 (s=0.0000e+00)\n\nODE Message 3: LCP internal error, s <= 0 (s=-0.0000e+00)\n\nODE Message 3: LCP internal error, s <= 0 (s=0.0000e+00)\n\nODE Message 3: LCP internal error, s <= 0 (s=-0.0000e+00)\n\nODE Message 3: LCP internal error, s <= 0 (s=-0.0000e+00)\n\nODE Message 3: LCP internal error, s <= 0 (s=0.0000e+00)\n\nODE Message 3: LCP internal error, s <= 0 (s=0.0000e+00)\n\nODE Message 3: LCP internal error, s <= 0 (s=0.0000e+00)\n\nODE Message 3: LCP internal error, s <= 0 (s=-0.0000e+00)\n\nODE Message 3: LCP internal error, s <= 0 (s=0.0000e+00)\n\nODE Message 3: LCP internal error, s <= 0 (s=-0.0000e+00)\n\nODE Message 3: LCP internal error, s <= 0 (s=-0.0000e+00)\n\nODE Message 3: LCP internal error, s <= 0 (s=-1.6798e-10)\n\nODE Message 3: LCP internal error, s <= 0 (s=-0.0000e+00)\n\nODE Message 3: LCP internal error, s <= 0 (s=-0.0000e+00)\n\nODE Message 3: LCP internal error, s <= 0 (s=0.0000e+00)\n\nODE Message 3: LCP internal error, s <= 0 (s=-0.0000e+00)\n\nODE Message 3: LCP internal error, s <= 0 (s=0.0000e+00)\n\nODE Message 3: LCP internal error, s <= 0 (s=-0.0000e+00)\n\nODE Message 3: LCP internal error, s <= 0 (s=0.0000e+00)\n"
        },
        {
          "output_type": "error",
          "ename": "KeyboardInterrupt",
          "evalue": "",
          "traceback": [
            "\u001b[0;31m---------------------------------------------------------------------------\u001b[0m",
            "\u001b[0;31mKeyboardInterrupt\u001b[0m                         Traceback (most recent call last)",
            "Cell \u001b[0;32mIn[15], line 1\u001b[0m\n\u001b[0;32m----> 1\u001b[0m \u001b[43mmodel\u001b[49m\u001b[38;5;241;43m.\u001b[39;49m\u001b[43mlearn\u001b[49m\u001b[43m(\u001b[49m\n\u001b[1;32m      2\u001b[0m \u001b[43m    \u001b[49m\u001b[43mtotal_timesteps\u001b[49m\u001b[38;5;241;43m=\u001b[39;49m\u001b[43mtotal_timesteps\u001b[49m\u001b[43m,\u001b[49m\n\u001b[1;32m      3\u001b[0m \u001b[43m    \u001b[49m\u001b[43mlog_interval\u001b[49m\u001b[38;5;241;43m=\u001b[39;49m\u001b[38;5;241;43m1_000\u001b[39;49m\u001b[43m,\u001b[49m\n\u001b[1;32m      4\u001b[0m \u001b[43m    \u001b[49m\u001b[43mcallback\u001b[49m\u001b[38;5;241;43m=\u001b[39;49m\u001b[43mcheckpoint_callback\u001b[49m\u001b[43m)\u001b[49m\n",
            "File \u001b[0;32m/anaconda/envs/azureml_py310_sdkv2/lib/python3.10/site-packages/stable_baselines3/ppo/ppo.py:315\u001b[0m, in \u001b[0;36mPPO.learn\u001b[0;34m(self, total_timesteps, callback, log_interval, tb_log_name, reset_num_timesteps, progress_bar)\u001b[0m\n\u001b[1;32m    306\u001b[0m \u001b[38;5;28;01mdef\u001b[39;00m \u001b[38;5;21mlearn\u001b[39m(\n\u001b[1;32m    307\u001b[0m     \u001b[38;5;28mself\u001b[39m: SelfPPO,\n\u001b[1;32m    308\u001b[0m     total_timesteps: \u001b[38;5;28mint\u001b[39m,\n\u001b[0;32m   (...)\u001b[0m\n\u001b[1;32m    313\u001b[0m     progress_bar: \u001b[38;5;28mbool\u001b[39m \u001b[38;5;241m=\u001b[39m \u001b[38;5;28;01mFalse\u001b[39;00m,\n\u001b[1;32m    314\u001b[0m ) \u001b[38;5;241m-\u001b[39m\u001b[38;5;241m>\u001b[39m SelfPPO:\n\u001b[0;32m--> 315\u001b[0m     \u001b[38;5;28;01mreturn\u001b[39;00m \u001b[38;5;28;43msuper\u001b[39;49m\u001b[43m(\u001b[49m\u001b[43m)\u001b[49m\u001b[38;5;241;43m.\u001b[39;49m\u001b[43mlearn\u001b[49m\u001b[43m(\u001b[49m\n\u001b[1;32m    316\u001b[0m \u001b[43m        \u001b[49m\u001b[43mtotal_timesteps\u001b[49m\u001b[38;5;241;43m=\u001b[39;49m\u001b[43mtotal_timesteps\u001b[49m\u001b[43m,\u001b[49m\n\u001b[1;32m    317\u001b[0m \u001b[43m        \u001b[49m\u001b[43mcallback\u001b[49m\u001b[38;5;241;43m=\u001b[39;49m\u001b[43mcallback\u001b[49m\u001b[43m,\u001b[49m\n\u001b[1;32m    318\u001b[0m \u001b[43m        \u001b[49m\u001b[43mlog_interval\u001b[49m\u001b[38;5;241;43m=\u001b[39;49m\u001b[43mlog_interval\u001b[49m\u001b[43m,\u001b[49m\n\u001b[1;32m    319\u001b[0m \u001b[43m        \u001b[49m\u001b[43mtb_log_name\u001b[49m\u001b[38;5;241;43m=\u001b[39;49m\u001b[43mtb_log_name\u001b[49m\u001b[43m,\u001b[49m\n\u001b[1;32m    320\u001b[0m \u001b[43m        \u001b[49m\u001b[43mreset_num_timesteps\u001b[49m\u001b[38;5;241;43m=\u001b[39;49m\u001b[43mreset_num_timesteps\u001b[49m\u001b[43m,\u001b[49m\n\u001b[1;32m    321\u001b[0m \u001b[43m        \u001b[49m\u001b[43mprogress_bar\u001b[49m\u001b[38;5;241;43m=\u001b[39;49m\u001b[43mprogress_bar\u001b[49m\u001b[43m,\u001b[49m\n\u001b[1;32m    322\u001b[0m \u001b[43m    \u001b[49m\u001b[43m)\u001b[49m\n",
            "File \u001b[0;32m/anaconda/envs/azureml_py310_sdkv2/lib/python3.10/site-packages/stable_baselines3/common/on_policy_algorithm.py:313\u001b[0m, in \u001b[0;36mOnPolicyAlgorithm.learn\u001b[0;34m(self, total_timesteps, callback, log_interval, tb_log_name, reset_num_timesteps, progress_bar)\u001b[0m\n\u001b[1;32m    310\u001b[0m         \u001b[38;5;28;01massert\u001b[39;00m \u001b[38;5;28mself\u001b[39m\u001b[38;5;241m.\u001b[39mep_info_buffer \u001b[38;5;129;01mis\u001b[39;00m \u001b[38;5;129;01mnot\u001b[39;00m \u001b[38;5;28;01mNone\u001b[39;00m\n\u001b[1;32m    311\u001b[0m         \u001b[38;5;28mself\u001b[39m\u001b[38;5;241m.\u001b[39m_dump_logs(iteration)\n\u001b[0;32m--> 313\u001b[0m     \u001b[38;5;28;43mself\u001b[39;49m\u001b[38;5;241;43m.\u001b[39;49m\u001b[43mtrain\u001b[49m\u001b[43m(\u001b[49m\u001b[43m)\u001b[49m\n\u001b[1;32m    315\u001b[0m callback\u001b[38;5;241m.\u001b[39mon_training_end()\n\u001b[1;32m    317\u001b[0m \u001b[38;5;28;01mreturn\u001b[39;00m \u001b[38;5;28mself\u001b[39m\n",
            "File \u001b[0;32m/anaconda/envs/azureml_py310_sdkv2/lib/python3.10/site-packages/stable_baselines3/ppo/ppo.py:279\u001b[0m, in \u001b[0;36mPPO.train\u001b[0;34m(self)\u001b[0m\n\u001b[1;32m    277\u001b[0m \u001b[38;5;66;03m# Optimization step\u001b[39;00m\n\u001b[1;32m    278\u001b[0m \u001b[38;5;28mself\u001b[39m\u001b[38;5;241m.\u001b[39mpolicy\u001b[38;5;241m.\u001b[39moptimizer\u001b[38;5;241m.\u001b[39mzero_grad()\n\u001b[0;32m--> 279\u001b[0m \u001b[43mloss\u001b[49m\u001b[38;5;241;43m.\u001b[39;49m\u001b[43mbackward\u001b[49m\u001b[43m(\u001b[49m\u001b[43m)\u001b[49m\n\u001b[1;32m    280\u001b[0m \u001b[38;5;66;03m# Clip grad norm\u001b[39;00m\n\u001b[1;32m    281\u001b[0m th\u001b[38;5;241m.\u001b[39mnn\u001b[38;5;241m.\u001b[39mutils\u001b[38;5;241m.\u001b[39mclip_grad_norm_(\u001b[38;5;28mself\u001b[39m\u001b[38;5;241m.\u001b[39mpolicy\u001b[38;5;241m.\u001b[39mparameters(), \u001b[38;5;28mself\u001b[39m\u001b[38;5;241m.\u001b[39mmax_grad_norm)\n",
            "File \u001b[0;32m/anaconda/envs/azureml_py310_sdkv2/lib/python3.10/site-packages/torch/_tensor.py:525\u001b[0m, in \u001b[0;36mTensor.backward\u001b[0;34m(self, gradient, retain_graph, create_graph, inputs)\u001b[0m\n\u001b[1;32m    515\u001b[0m \u001b[38;5;28;01mif\u001b[39;00m has_torch_function_unary(\u001b[38;5;28mself\u001b[39m):\n\u001b[1;32m    516\u001b[0m     \u001b[38;5;28;01mreturn\u001b[39;00m handle_torch_function(\n\u001b[1;32m    517\u001b[0m         Tensor\u001b[38;5;241m.\u001b[39mbackward,\n\u001b[1;32m    518\u001b[0m         (\u001b[38;5;28mself\u001b[39m,),\n\u001b[0;32m   (...)\u001b[0m\n\u001b[1;32m    523\u001b[0m         inputs\u001b[38;5;241m=\u001b[39minputs,\n\u001b[1;32m    524\u001b[0m     )\n\u001b[0;32m--> 525\u001b[0m \u001b[43mtorch\u001b[49m\u001b[38;5;241;43m.\u001b[39;49m\u001b[43mautograd\u001b[49m\u001b[38;5;241;43m.\u001b[39;49m\u001b[43mbackward\u001b[49m\u001b[43m(\u001b[49m\n\u001b[1;32m    526\u001b[0m \u001b[43m    \u001b[49m\u001b[38;5;28;43mself\u001b[39;49m\u001b[43m,\u001b[49m\u001b[43m \u001b[49m\u001b[43mgradient\u001b[49m\u001b[43m,\u001b[49m\u001b[43m \u001b[49m\u001b[43mretain_graph\u001b[49m\u001b[43m,\u001b[49m\u001b[43m \u001b[49m\u001b[43mcreate_graph\u001b[49m\u001b[43m,\u001b[49m\u001b[43m \u001b[49m\u001b[43minputs\u001b[49m\u001b[38;5;241;43m=\u001b[39;49m\u001b[43minputs\u001b[49m\n\u001b[1;32m    527\u001b[0m \u001b[43m\u001b[49m\u001b[43m)\u001b[49m\n",
            "File \u001b[0;32m/anaconda/envs/azureml_py310_sdkv2/lib/python3.10/site-packages/torch/autograd/__init__.py:267\u001b[0m, in \u001b[0;36mbackward\u001b[0;34m(tensors, grad_tensors, retain_graph, create_graph, grad_variables, inputs)\u001b[0m\n\u001b[1;32m    262\u001b[0m     retain_graph \u001b[38;5;241m=\u001b[39m create_graph\n\u001b[1;32m    264\u001b[0m \u001b[38;5;66;03m# The reason we repeat the same comment below is that\u001b[39;00m\n\u001b[1;32m    265\u001b[0m \u001b[38;5;66;03m# some Python versions print out the first line of a multi-line function\u001b[39;00m\n\u001b[1;32m    266\u001b[0m \u001b[38;5;66;03m# calls in the traceback and some print out the last line\u001b[39;00m\n\u001b[0;32m--> 267\u001b[0m \u001b[43m_engine_run_backward\u001b[49m\u001b[43m(\u001b[49m\n\u001b[1;32m    268\u001b[0m \u001b[43m    \u001b[49m\u001b[43mtensors\u001b[49m\u001b[43m,\u001b[49m\n\u001b[1;32m    269\u001b[0m \u001b[43m    \u001b[49m\u001b[43mgrad_tensors_\u001b[49m\u001b[43m,\u001b[49m\n\u001b[1;32m    270\u001b[0m \u001b[43m    \u001b[49m\u001b[43mretain_graph\u001b[49m\u001b[43m,\u001b[49m\n\u001b[1;32m    271\u001b[0m \u001b[43m    \u001b[49m\u001b[43mcreate_graph\u001b[49m\u001b[43m,\u001b[49m\n\u001b[1;32m    272\u001b[0m \u001b[43m    \u001b[49m\u001b[43minputs\u001b[49m\u001b[43m,\u001b[49m\n\u001b[1;32m    273\u001b[0m \u001b[43m    \u001b[49m\u001b[43mallow_unreachable\u001b[49m\u001b[38;5;241;43m=\u001b[39;49m\u001b[38;5;28;43;01mTrue\u001b[39;49;00m\u001b[43m,\u001b[49m\n\u001b[1;32m    274\u001b[0m \u001b[43m    \u001b[49m\u001b[43maccumulate_grad\u001b[49m\u001b[38;5;241;43m=\u001b[39;49m\u001b[38;5;28;43;01mTrue\u001b[39;49;00m\u001b[43m,\u001b[49m\n\u001b[1;32m    275\u001b[0m \u001b[43m\u001b[49m\u001b[43m)\u001b[49m\n",
            "File \u001b[0;32m/anaconda/envs/azureml_py310_sdkv2/lib/python3.10/site-packages/torch/autograd/graph.py:744\u001b[0m, in \u001b[0;36m_engine_run_backward\u001b[0;34m(t_outputs, *args, **kwargs)\u001b[0m\n\u001b[1;32m    742\u001b[0m     unregister_hooks \u001b[38;5;241m=\u001b[39m _register_logging_hooks_on_whole_graph(t_outputs)\n\u001b[1;32m    743\u001b[0m \u001b[38;5;28;01mtry\u001b[39;00m:\n\u001b[0;32m--> 744\u001b[0m     \u001b[38;5;28;01mreturn\u001b[39;00m \u001b[43mVariable\u001b[49m\u001b[38;5;241;43m.\u001b[39;49m\u001b[43m_execution_engine\u001b[49m\u001b[38;5;241;43m.\u001b[39;49m\u001b[43mrun_backward\u001b[49m\u001b[43m(\u001b[49m\u001b[43m  \u001b[49m\u001b[38;5;66;43;03m# Calls into the C++ engine to run the backward pass\u001b[39;49;00m\n\u001b[1;32m    745\u001b[0m \u001b[43m        \u001b[49m\u001b[43mt_outputs\u001b[49m\u001b[43m,\u001b[49m\u001b[43m \u001b[49m\u001b[38;5;241;43m*\u001b[39;49m\u001b[43margs\u001b[49m\u001b[43m,\u001b[49m\u001b[43m \u001b[49m\u001b[38;5;241;43m*\u001b[39;49m\u001b[38;5;241;43m*\u001b[39;49m\u001b[43mkwargs\u001b[49m\n\u001b[1;32m    746\u001b[0m \u001b[43m    \u001b[49m\u001b[43m)\u001b[49m  \u001b[38;5;66;03m# Calls into the C++ engine to run the backward pass\u001b[39;00m\n\u001b[1;32m    747\u001b[0m \u001b[38;5;28;01mfinally\u001b[39;00m:\n\u001b[1;32m    748\u001b[0m     \u001b[38;5;28;01mif\u001b[39;00m attach_logging_hooks:\n",
            "\u001b[0;31mKeyboardInterrupt\u001b[0m: "
          ]
        }
      ],
      "execution_count": 15,
      "metadata": {
        "gather": {
          "logged": 1717533026720
        },
        "jupyter": {
          "outputs_hidden": false
        },
        "editable": true,
        "run_control": {
          "frozen": false
        }
      }
    },
    {
      "cell_type": "code",
      "source": [
        "model.save(f\"{save_path}/{model_filename_prefix}\")"
      ],
      "outputs": [],
      "execution_count": null,
      "metadata": {
        "gather": {
          "logged": 1717533026769
        }
      }
    }
  ],
  "metadata": {
    "kernelspec": {
      "name": "python310-sdkv2",
      "language": "python",
      "display_name": "Python 3.10 - SDK v2"
    },
    "language_info": {
      "name": "python",
      "version": "3.10.11",
      "mimetype": "text/x-python",
      "codemirror_mode": {
        "name": "ipython",
        "version": 3
      },
      "pygments_lexer": "ipython3",
      "nbconvert_exporter": "python",
      "file_extension": ".py"
    },
    "kernel_info": {
      "name": "python310-sdkv2"
    },
    "nteract": {
      "version": "nteract-front-end@1.0.0"
    },
    "microsoft": {
      "host": {
        "AzureML": {
          "notebookHasBeenCompleted": true
        }
      }
    }
  },
  "nbformat": 4,
  "nbformat_minor": 2
}