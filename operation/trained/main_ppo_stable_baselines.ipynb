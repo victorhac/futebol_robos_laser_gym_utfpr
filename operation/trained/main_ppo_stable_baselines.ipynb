{
  "cells": [
    {
      "cell_type": "code",
      "execution_count": 1,
      "metadata": {
        "gather": {
          "logged": 1717541011722
        },
        "jupyter": {
          "outputs_hidden": false,
          "source_hidden": false
        },
        "nteract": {
          "transient": {
            "deleting": false
          }
        }
      },
      "outputs": [],
      "source": [
        "# %pip install stable_baselines3\n",
        "# %pip install stable_baselines3[extra]\n",
        "# %pip install ../../../rSoccer/\n",
        "# %pip install ipywidgets\n",
        "# %pip install tqdm\n",
        "# %pip install shapely"
      ]
    },
    {
      "cell_type": "code",
      "execution_count": 2,
      "metadata": {
        "gather": {
          "logged": 1717541013939
        }
      },
      "outputs": [],
      "source": [
        "from stable_baselines3 import PPO\n",
        "from stable_baselines3.common.vec_env import SubprocVecEnv\n",
        "from stable_baselines3.common.callbacks import CheckpointCallback\n",
        "\n",
        "from lib.environment.attacker.environment import Environment\n",
        "\n",
        "import os\n",
        "from datetime import datetime"
      ]
    },
    {
      "cell_type": "code",
      "execution_count": 3,
      "metadata": {
        "gather": {
          "logged": 1717541014081
        }
      },
      "outputs": [],
      "source": [
        "task_training_name = \"attacker\"\n",
        "algorithm_name = \"PPO\""
      ]
    },
    {
      "cell_type": "code",
      "execution_count": 4,
      "metadata": {
        "gather": {
          "logged": 1717541014205
        }
      },
      "outputs": [],
      "source": [
        "def create_env():\n",
        "    def _init():\n",
        "        return Environment()\n",
        "    return _init"
      ]
    },
    {
      "cell_type": "code",
      "execution_count": 5,
      "metadata": {
        "gather": {
          "logged": 1717541014335
        }
      },
      "outputs": [],
      "source": [
        "def create_folder_if_not_exists(folder_path):\n",
        "    if not os.path.exists(folder_path):\n",
        "        os.makedirs(folder_path)"
      ]
    },
    {
      "cell_type": "code",
      "execution_count": 6,
      "metadata": {
        "gather": {
          "logged": 1717541014502
        }
      },
      "outputs": [],
      "source": [
        "def get_task_models_path():\n",
        "    current_datetime = datetime.now()\n",
        "\n",
        "    year = current_datetime.year\n",
        "    month = current_datetime.month\n",
        "    day = current_datetime.day\n",
        "    hour = current_datetime.hour\n",
        "    minute = current_datetime.minute\n",
        "    second = current_datetime.second\n",
        "\n",
        "    datetime_name = f\"{year}_{month}_{day}_{hour}_{minute}_{second}\"\n",
        "\n",
        "    return f\"models/{task_training_name}/{algorithm_name}/{datetime_name}\""
      ]
    },
    {
      "cell_type": "code",
      "execution_count": 7,
      "metadata": {
        "gather": {
          "logged": 1717541014629
        }
      },
      "outputs": [],
      "source": [
        "save_path = get_task_models_path()\n",
        "\n",
        "create_folder_if_not_exists(save_path)"
      ]
    },
    {
      "cell_type": "code",
      "execution_count": 8,
      "metadata": {
        "gather": {
          "logged": 1717541014757
        }
      },
      "outputs": [],
      "source": [
        "num_threads = 10\n",
        "model_filename_prefix = f\"{algorithm_name}_model\""
      ]
    },
    {
      "cell_type": "code",
      "execution_count": 9,
      "metadata": {
        "gather": {
          "logged": 1717541018108
        }
      },
      "outputs": [
        {
          "data": {
            "text/plain": [
              "2"
            ]
          },
          "execution_count": 9,
          "metadata": {},
          "output_type": "execute_result"
        }
      ],
      "source": [
        "env = SubprocVecEnv([create_env() for i in range(num_threads)])\n",
        "\n",
        "n_actions = env.action_space.shape[-1]\n",
        "n_actions"
      ]
    },
    {
      "cell_type": "code",
      "execution_count": 10,
      "metadata": {
        "gather": {
          "logged": 1717541018252
        }
      },
      "outputs": [],
      "source": [
        "gae_lambda = 0.95\n",
        "gamma = 0.99\n",
        "learning_rate = 0.0004\n",
        "clip_range = 0.2\n",
        "policy = \"MlpPolicy\"\n",
        "batch_size = 128"
      ]
    },
    {
      "cell_type": "code",
      "execution_count": 11,
      "metadata": {
        "gather": {
          "logged": 1717541018370
        }
      },
      "outputs": [],
      "source": [
        "load_model = True\n",
        "loaded_model_path = \"models/attacker/PPO/2024_6_6_11_37_25/PPO_model.zip\""
      ]
    },
    {
      "cell_type": "code",
      "execution_count": 12,
      "metadata": {
        "gather": {
          "logged": 1717541026086
        }
      },
      "outputs": [],
      "source": [
        "model = PPO(\n",
        "    policy=policy,\n",
        "    env=env,\n",
        "    gamma=gamma,\n",
        "    gae_lambda=gae_lambda,\n",
        "    clip_range=clip_range,\n",
        "    batch_size=batch_size)\n",
        "\n",
        "if load_model:\n",
        "    model.set_parameters(loaded_model_path)"
      ]
    },
    {
      "cell_type": "code",
      "execution_count": 13,
      "metadata": {
        "gather": {
          "logged": 1717541026246
        }
      },
      "outputs": [],
      "source": [
        "total_timesteps = 50_000_000"
      ]
    },
    {
      "cell_type": "code",
      "execution_count": 14,
      "metadata": {
        "gather": {
          "logged": 1717541026370
        }
      },
      "outputs": [],
      "source": [
        "saved_model_number = 20\n",
        "save_freq = total_timesteps // (saved_model_number * num_threads)\n",
        "log_interval = total_timesteps // 10"
      ]
    },
    {
      "cell_type": "code",
      "execution_count": 15,
      "metadata": {
        "gather": {
          "logged": 1717541026497
        }
      },
      "outputs": [],
      "source": [
        "checkpoint_callback = CheckpointCallback(\n",
        "    save_freq=save_freq,\n",
        "    save_path=save_path,\n",
        "    name_prefix=model_filename_prefix)"
      ]
    },
    {
      "cell_type": "code",
      "execution_count": 16,
      "metadata": {
        "editable": true,
        "gather": {
          "logged": 1717540959648
        },
        "jupyter": {
          "outputs_hidden": false
        },
        "run_control": {
          "frozen": false
        }
      },
      "outputs": [
        {
          "data": {
            "application/vnd.jupyter.widget-view+json": {
              "model_id": "83e43126b3fd43a6bd3c11dc84270293",
              "version_major": 2,
              "version_minor": 0
            },
            "text/plain": [
              "Output()"
            ]
          },
          "metadata": {},
          "output_type": "display_data"
        },
        {
          "name": "stderr",
          "output_type": "stream",
          "text": [
            "\n",
            "ODE Message 3: LCP internal error, s <= 0 (s=0.0000e+00)\n"
          ]
        },
        {
          "name": "stderr",
          "output_type": "stream",
          "text": [
            "\n",
            "ODE Message 3: LCP internal error, s <= 0 (s=0.0000e+00)\n"
          ]
        },
        {
          "name": "stderr",
          "output_type": "stream",
          "text": [
            "\n",
            "ODE Message 3: LCP internal error, s <= 0 (s=0.0000e+00)\n",
            "\n",
            "ODE Message 3: LCP internal error, s <= 0 (s=-0.0000e+00)\n"
          ]
        },
        {
          "name": "stderr",
          "output_type": "stream",
          "text": [
            "\n",
            "ODE Message 3: LCP internal error, s <= 0 (s=0.0000e+00)\n"
          ]
        },
        {
          "name": "stderr",
          "output_type": "stream",
          "text": [
            "\n",
            "ODE Message 3: LCP internal error, s <= 0 (s=0.0000e+00)\n"
          ]
        },
        {
          "name": "stderr",
          "output_type": "stream",
          "text": [
            "\n",
            "ODE Message 3: LCP internal error, s <= 0 (s=0.0000e+00)\n"
          ]
        },
        {
          "name": "stderr",
          "output_type": "stream",
          "text": [
            "\n",
            "ODE Message 3: LCP internal error, s <= 0 (s=-0.0000e+00)\n"
          ]
        },
        {
          "name": "stderr",
          "output_type": "stream",
          "text": [
            "\n",
            "ODE Message 3: LCP internal error, s <= 0 (s=0.0000e+00)\n"
          ]
        },
        {
          "name": "stderr",
          "output_type": "stream",
          "text": [
            "\n",
            "ODE Message 3: LCP internal error, s <= 0 (s=-0.0000e+00)\n"
          ]
        },
        {
          "name": "stderr",
          "output_type": "stream",
          "text": [
            "\n",
            "ODE Message 3: LCP internal error, s <= 0 (s=0.0000e+00)\n"
          ]
        },
        {
          "name": "stderr",
          "output_type": "stream",
          "text": [
            "\n",
            "ODE Message 3: LCP internal error, s <= 0 (s=-0.0000e+00)\n",
            "\n",
            "ODE Message 3: LCP internal error, s <= 0 (s=0.0000e+00)\n"
          ]
        },
        {
          "name": "stderr",
          "output_type": "stream",
          "text": [
            "\n",
            "ODE Message 3: LCP internal error, s <= 0 (s=0.0000e+00)\n"
          ]
        },
        {
          "name": "stderr",
          "output_type": "stream",
          "text": [
            "\n",
            "ODE Message 3: LCP internal error, s <= 0 (s=0.0000e+00)\n"
          ]
        },
        {
          "name": "stderr",
          "output_type": "stream",
          "text": [
            "\n",
            "ODE Message 3: LCP internal error, s <= 0 (s=0.0000e+00)\n"
          ]
        },
        {
          "name": "stderr",
          "output_type": "stream",
          "text": [
            "\n",
            "ODE Message 3: LCP internal error, s <= 0 (s=0.0000e+00)\n",
            "\n",
            "ODE Message 3: LCP internal error, s <= 0 (s=0.0000e+00)\n"
          ]
        },
        {
          "name": "stderr",
          "output_type": "stream",
          "text": [
            "\n",
            "ODE Message 3: LCP internal error, s <= 0 (s=-0.0000e+00)\n"
          ]
        },
        {
          "name": "stderr",
          "output_type": "stream",
          "text": [
            "\n",
            "ODE Message 3: LCP internal error, s <= 0 (s=-0.0000e+00)\n"
          ]
        },
        {
          "name": "stderr",
          "output_type": "stream",
          "text": [
            "\n",
            "ODE Message 3: LCP internal error, s <= 0 (s=-0.0000e+00)\n"
          ]
        },
        {
          "name": "stderr",
          "output_type": "stream",
          "text": [
            "\n",
            "ODE Message 3: LCP internal error, s <= 0 (s=0.0000e+00)\n"
          ]
        },
        {
          "name": "stderr",
          "output_type": "stream",
          "text": [
            "\n",
            "ODE Message 3: LCP internal error, s <= 0 (s=-0.0000e+00)\n"
          ]
        },
        {
          "name": "stderr",
          "output_type": "stream",
          "text": [
            "\n",
            "ODE Message 3: LCP internal error, s <= 0 (s=0.0000e+00)\n"
          ]
        },
        {
          "name": "stderr",
          "output_type": "stream",
          "text": [
            "\n",
            "ODE Message 3: LCP internal error, s <= 0 (s=-0.0000e+00)\n"
          ]
        },
        {
          "name": "stderr",
          "output_type": "stream",
          "text": [
            "\n",
            "ODE Message 3: LCP internal error, s <= 0 (s=-0.0000e+00)\n"
          ]
        },
        {
          "name": "stderr",
          "output_type": "stream",
          "text": [
            "\n",
            "ODE Message 3: LCP internal error, s <= 0 (s=-0.0000e+00)\n",
            "\n",
            "ODE Message 3: LCP internal error, s <= 0 (s=0.0000e+00)\n"
          ]
        },
        {
          "name": "stderr",
          "output_type": "stream",
          "text": [
            "\n",
            "ODE Message 3: LCP internal error, s <= 0 (s=0.0000e+00)\n",
            "\n",
            "ODE Message 3: LCP internal error, s <= 0 (s=0.0000e+00)\n"
          ]
        },
        {
          "name": "stderr",
          "output_type": "stream",
          "text": [
            "\n",
            "ODE Message 3: LCP internal error, s <= 0 (s=-0.0000e+00)\n",
            "\n",
            "ODE Message 3: LCP internal error, s <= 0 (s=-0.0000e+00)\n"
          ]
        },
        {
          "name": "stderr",
          "output_type": "stream",
          "text": [
            "\n",
            "ODE Message 3: LCP internal error, s <= 0 (s=-0.0000e+00)\n"
          ]
        },
        {
          "name": "stderr",
          "output_type": "stream",
          "text": [
            "\n",
            "ODE Message 3: LCP internal error, s <= 0 (s=0.0000e+00)\n"
          ]
        },
        {
          "name": "stderr",
          "output_type": "stream",
          "text": [
            "\n",
            "ODE Message 3: LCP internal error, s <= 0 (s=0.0000e+00)\n"
          ]
        },
        {
          "name": "stderr",
          "output_type": "stream",
          "text": [
            "\n",
            "ODE Message 3: LCP internal error, s <= 0 (s=0.0000e+00)\n"
          ]
        },
        {
          "name": "stderr",
          "output_type": "stream",
          "text": [
            "\n",
            "ODE Message 3: LCP internal error, s <= 0 (s=0.0000e+00)\n"
          ]
        },
        {
          "name": "stderr",
          "output_type": "stream",
          "text": [
            "\n",
            "ODE Message 3: LCP internal error, s <= 0 (s=0.0000e+00)\n",
            "\n",
            "ODE Message 3: LCP internal error, s <= 0 (s=-0.0000e+00)\n"
          ]
        },
        {
          "name": "stderr",
          "output_type": "stream",
          "text": [
            "\n",
            "ODE Message 3: LCP internal error, s <= 0 (s=0.0000e+00)\n"
          ]
        },
        {
          "name": "stderr",
          "output_type": "stream",
          "text": [
            "\n",
            "ODE Message 3: LCP internal error, s <= 0 (s=-0.0000e+00)\n"
          ]
        },
        {
          "name": "stderr",
          "output_type": "stream",
          "text": [
            "\n",
            "ODE Message 3: LCP internal error, s <= 0 (s=-0.0000e+00)\n"
          ]
        },
        {
          "name": "stderr",
          "output_type": "stream",
          "text": [
            "\n",
            "ODE Message 3: LCP internal error, s <= 0 (s=0.0000e+00)\n"
          ]
        },
        {
          "name": "stderr",
          "output_type": "stream",
          "text": [
            "\n",
            "ODE Message 3: LCP internal error, s <= 0 (s=-0.0000e+00)\n"
          ]
        },
        {
          "name": "stderr",
          "output_type": "stream",
          "text": [
            "\n",
            "ODE Message 3: LCP internal error, s <= 0 (s=-0.0000e+00)\n"
          ]
        },
        {
          "name": "stderr",
          "output_type": "stream",
          "text": [
            "\n",
            "ODE Message 3: LCP internal error, s <= 0 (s=0.0000e+00)\n"
          ]
        },
        {
          "name": "stderr",
          "output_type": "stream",
          "text": [
            "\n",
            "ODE Message 3: LCP internal error, s <= 0 (s=-0.0000e+00)\n"
          ]
        },
        {
          "name": "stderr",
          "output_type": "stream",
          "text": [
            "\n",
            "ODE Message 3: LCP internal error, s <= 0 (s=-0.0000e+00)\n"
          ]
        },
        {
          "name": "stderr",
          "output_type": "stream",
          "text": [
            "\n",
            "ODE Message 3: LCP internal error, s <= 0 (s=0.0000e+00)\n"
          ]
        },
        {
          "name": "stderr",
          "output_type": "stream",
          "text": [
            "\n",
            "ODE Message 3: LCP internal error, s <= 0 (s=-0.0000e+00)\n",
            "\n",
            "ODE Message 3: LCP internal error, s <= 0 (s=-0.0000e+00)\n"
          ]
        },
        {
          "name": "stderr",
          "output_type": "stream",
          "text": [
            "\n",
            "ODE Message 3: LCP internal error, s <= 0 (s=-0.0000e+00)\n"
          ]
        },
        {
          "name": "stderr",
          "output_type": "stream",
          "text": [
            "\n",
            "ODE Message 3: LCP internal error, s <= 0 (s=0.0000e+00)\n",
            "\n",
            "ODE Message 3: LCP internal error, s <= 0 (s=-0.0000e+00)\n"
          ]
        },
        {
          "name": "stderr",
          "output_type": "stream",
          "text": [
            "\n",
            "ODE Message 3: LCP internal error, s <= 0 (s=-0.0000e+00)\n"
          ]
        },
        {
          "name": "stderr",
          "output_type": "stream",
          "text": [
            "\n",
            "ODE Message 3: LCP internal error, s <= 0 (s=-0.0000e+00)\n"
          ]
        },
        {
          "name": "stderr",
          "output_type": "stream",
          "text": [
            "\n",
            "ODE Message 3: LCP internal error, s <= 0 (s=0.0000e+00)\n"
          ]
        },
        {
          "name": "stderr",
          "output_type": "stream",
          "text": [
            "\n",
            "ODE Message 3: LCP internal error, s <= 0 (s=0.0000e+00)\n"
          ]
        },
        {
          "name": "stderr",
          "output_type": "stream",
          "text": [
            "\n",
            "ODE Message 3: LCP internal error, s <= 0 (s=0.0000e+00)\n"
          ]
        },
        {
          "name": "stderr",
          "output_type": "stream",
          "text": [
            "\n",
            "ODE Message 3: LCP internal error, s <= 0 (s=-0.0000e+00)\n"
          ]
        },
        {
          "name": "stderr",
          "output_type": "stream",
          "text": [
            "\n",
            "ODE Message 3: LCP internal error, s <= 0 (s=0.0000e+00)\n"
          ]
        },
        {
          "name": "stderr",
          "output_type": "stream",
          "text": [
            "\n",
            "ODE Message 3: LCP internal error, s <= 0 (s=0.0000e+00)\n"
          ]
        },
        {
          "name": "stderr",
          "output_type": "stream",
          "text": [
            "\n",
            "ODE Message 3: LCP internal error, s <= 0 (s=0.0000e+00)\n"
          ]
        },
        {
          "name": "stderr",
          "output_type": "stream",
          "text": [
            "\n",
            "ODE Message 3: LCP internal error, s <= 0 (s=0.0000e+00)\n"
          ]
        },
        {
          "name": "stderr",
          "output_type": "stream",
          "text": [
            "\n",
            "ODE Message 3: LCP internal error, s <= 0 (s=-0.0000e+00)\n"
          ]
        },
        {
          "name": "stderr",
          "output_type": "stream",
          "text": [
            "\n",
            "ODE Message 3: LCP internal error, s <= 0 (s=0.0000e+00)\n"
          ]
        },
        {
          "name": "stderr",
          "output_type": "stream",
          "text": [
            "\n",
            "ODE Message 3: LCP internal error, s <= 0 (s=0.0000e+00)\n"
          ]
        },
        {
          "name": "stderr",
          "output_type": "stream",
          "text": [
            "\n",
            "ODE Message 3: LCP internal error, s <= 0 (s=-0.0000e+00)\n"
          ]
        },
        {
          "name": "stderr",
          "output_type": "stream",
          "text": [
            "\n",
            "ODE Message 3: LCP internal error, s <= 0 (s=0.0000e+00)\n"
          ]
        },
        {
          "name": "stderr",
          "output_type": "stream",
          "text": [
            "\n",
            "ODE Message 3: LCP internal error, s <= 0 (s=0.0000e+00)\n"
          ]
        },
        {
          "name": "stderr",
          "output_type": "stream",
          "text": [
            "\n",
            "ODE Message 3: LCP internal error, s <= 0 (s=0.0000e+00)\n"
          ]
        },
        {
          "name": "stderr",
          "output_type": "stream",
          "text": [
            "\n",
            "ODE Message 3: LCP internal error, s <= 0 (s=-0.0000e+00)\n"
          ]
        },
        {
          "name": "stderr",
          "output_type": "stream",
          "text": [
            "\n",
            "ODE Message 3: LCP internal error, s <= 0 (s=0.0000e+00)\n"
          ]
        },
        {
          "name": "stderr",
          "output_type": "stream",
          "text": [
            "\n",
            "ODE Message 3: LCP internal error, s <= 0 (s=0.0000e+00)\n"
          ]
        },
        {
          "name": "stderr",
          "output_type": "stream",
          "text": [
            "\n",
            "ODE Message 3: LCP internal error, s <= 0 (s=0.0000e+00)\n"
          ]
        },
        {
          "name": "stderr",
          "output_type": "stream",
          "text": [
            "\n",
            "ODE Message 3: LCP internal error, s <= 0 (s=0.0000e+00)\n"
          ]
        },
        {
          "name": "stderr",
          "output_type": "stream",
          "text": [
            "\n",
            "ODE Message 3: LCP internal error, s <= 0 (s=-0.0000e+00)\n"
          ]
        },
        {
          "name": "stderr",
          "output_type": "stream",
          "text": [
            "\n",
            "ODE Message 3: LCP internal error, s <= 0 (s=-0.0000e+00)\n"
          ]
        },
        {
          "name": "stderr",
          "output_type": "stream",
          "text": [
            "\n",
            "ODE Message 3: LCP internal error, s <= 0 (s=-0.0000e+00)\n"
          ]
        },
        {
          "name": "stderr",
          "output_type": "stream",
          "text": [
            "\n",
            "ODE Message 3: LCP internal error, s <= 0 (s=0.0000e+00)\n"
          ]
        },
        {
          "name": "stderr",
          "output_type": "stream",
          "text": [
            "\n",
            "ODE Message 3: LCP internal error, s <= 0 (s=0.0000e+00)\n"
          ]
        },
        {
          "name": "stderr",
          "output_type": "stream",
          "text": [
            "\n",
            "ODE Message 3: LCP internal error, s <= 0 (s=0.0000e+00)\n"
          ]
        },
        {
          "name": "stderr",
          "output_type": "stream",
          "text": [
            "\n",
            "ODE Message 3: LCP internal error, s <= 0 (s=0.0000e+00)\n"
          ]
        },
        {
          "name": "stderr",
          "output_type": "stream",
          "text": [
            "\n",
            "ODE Message 3: LCP internal error, s <= 0 (s=0.0000e+00)\n"
          ]
        },
        {
          "name": "stderr",
          "output_type": "stream",
          "text": [
            "\n",
            "ODE Message 3: LCP internal error, s <= 0 (s=0.0000e+00)\n"
          ]
        },
        {
          "name": "stderr",
          "output_type": "stream",
          "text": [
            "\n",
            "ODE Message 3: LCP internal error, s <= 0 (s=-0.0000e+00)\n"
          ]
        },
        {
          "name": "stderr",
          "output_type": "stream",
          "text": [
            "\n",
            "ODE Message 3: LCP internal error, s <= 0 (s=-0.0000e+00)\n"
          ]
        },
        {
          "name": "stderr",
          "output_type": "stream",
          "text": [
            "\n",
            "ODE Message 3: LCP internal error, s <= 0 (s=-0.0000e+00)\n",
            "\n",
            "ODE Message 3: LCP internal error, s <= 0 (s=-0.0000e+00)\n"
          ]
        },
        {
          "name": "stderr",
          "output_type": "stream",
          "text": [
            "\n",
            "ODE Message 3: LCP internal error, s <= 0 (s=0.0000e+00)\n"
          ]
        },
        {
          "name": "stderr",
          "output_type": "stream",
          "text": [
            "\n",
            "ODE Message 3: LCP internal error, s <= 0 (s=0.0000e+00)\n"
          ]
        },
        {
          "name": "stderr",
          "output_type": "stream",
          "text": [
            "\n",
            "ODE Message 3: LCP internal error, s <= 0 (s=0.0000e+00)\n"
          ]
        },
        {
          "name": "stderr",
          "output_type": "stream",
          "text": [
            "\n",
            "ODE Message 3: LCP internal error, s <= 0 (s=-0.0000e+00)\n"
          ]
        },
        {
          "name": "stderr",
          "output_type": "stream",
          "text": [
            "\n",
            "ODE Message 3: LCP internal error, s <= 0 (s=-0.0000e+00)\n"
          ]
        },
        {
          "name": "stderr",
          "output_type": "stream",
          "text": [
            "\n",
            "ODE Message 3: LCP internal error, s <= 0 (s=-0.0000e+00)\n"
          ]
        },
        {
          "name": "stderr",
          "output_type": "stream",
          "text": [
            "\n",
            "ODE Message 3: LCP internal error, s <= 0 (s=-0.0000e+00)\n"
          ]
        },
        {
          "name": "stderr",
          "output_type": "stream",
          "text": [
            "\n",
            "ODE Message 3: LCP internal error, s <= 0 (s=-0.0000e+00)\n"
          ]
        },
        {
          "name": "stderr",
          "output_type": "stream",
          "text": [
            "\n",
            "ODE Message 3: LCP internal error, s <= 0 (s=-0.0000e+00)\n"
          ]
        },
        {
          "name": "stderr",
          "output_type": "stream",
          "text": [
            "\n",
            "ODE Message 3: LCP internal error, s <= 0 (s=0.0000e+00)\n"
          ]
        },
        {
          "name": "stderr",
          "output_type": "stream",
          "text": [
            "\n",
            "ODE Message 3: LCP internal error, s <= 0 (s=-0.0000e+00)\n"
          ]
        },
        {
          "name": "stderr",
          "output_type": "stream",
          "text": [
            "\n",
            "ODE Message 3: LCP internal error, s <= 0 (s=-0.0000e+00)\n"
          ]
        },
        {
          "name": "stderr",
          "output_type": "stream",
          "text": [
            "\n",
            "ODE Message 3: LCP internal error, s <= 0 (s=-0.0000e+00)\n"
          ]
        },
        {
          "name": "stderr",
          "output_type": "stream",
          "text": [
            "\n",
            "ODE Message 3: LCP internal error, s <= 0 (s=-0.0000e+00)\n"
          ]
        },
        {
          "name": "stderr",
          "output_type": "stream",
          "text": [
            "\n",
            "ODE Message 3: LCP internal error, s <= 0 (s=0.0000e+00)\n"
          ]
        },
        {
          "name": "stderr",
          "output_type": "stream",
          "text": [
            "\n",
            "ODE Message 3: LCP internal error, s <= 0 (s=0.0000e+00)\n"
          ]
        },
        {
          "name": "stderr",
          "output_type": "stream",
          "text": [
            "\n",
            "ODE Message 3: LCP internal error, s <= 0 (s=-0.0000e+00)\n"
          ]
        },
        {
          "name": "stderr",
          "output_type": "stream",
          "text": [
            "\n",
            "ODE Message 3: LCP internal error, s <= 0 (s=0.0000e+00)\n"
          ]
        },
        {
          "name": "stderr",
          "output_type": "stream",
          "text": [
            "\n",
            "ODE Message 3: LCP internal error, s <= 0 (s=0.0000e+00)\n"
          ]
        },
        {
          "name": "stderr",
          "output_type": "stream",
          "text": [
            "\n",
            "ODE Message 3: LCP internal error, s <= 0 (s=0.0000e+00)\n"
          ]
        },
        {
          "name": "stderr",
          "output_type": "stream",
          "text": [
            "\n",
            "ODE Message 3: LCP internal error, s <= 0 (s=-0.0000e+00)\n"
          ]
        },
        {
          "name": "stderr",
          "output_type": "stream",
          "text": [
            "\n",
            "ODE Message 3: LCP internal error, s <= 0 (s=-0.0000e+00)\n"
          ]
        },
        {
          "name": "stderr",
          "output_type": "stream",
          "text": [
            "\n",
            "ODE Message 3: LCP internal error, s <= 0 (s=-0.0000e+00)\n"
          ]
        },
        {
          "name": "stderr",
          "output_type": "stream",
          "text": [
            "\n",
            "ODE Message 3: LCP internal error, s <= 0 (s=-0.0000e+00)\n"
          ]
        },
        {
          "name": "stderr",
          "output_type": "stream",
          "text": [
            "\n",
            "ODE Message 3: LCP internal error, s <= 0 (s=-0.0000e+00)\n"
          ]
        },
        {
          "name": "stderr",
          "output_type": "stream",
          "text": [
            "\n",
            "ODE Message 3: LCP internal error, s <= 0 (s=-0.0000e+00)\n"
          ]
        },
        {
          "name": "stderr",
          "output_type": "stream",
          "text": [
            "\n",
            "ODE Message 3: LCP internal error, s <= 0 (s=0.0000e+00)\n"
          ]
        },
        {
          "name": "stderr",
          "output_type": "stream",
          "text": [
            "\n",
            "ODE Message 3: LCP internal error, s <= 0 (s=-0.0000e+00)\n"
          ]
        },
        {
          "name": "stderr",
          "output_type": "stream",
          "text": [
            "\n",
            "ODE Message 3: LCP internal error, s <= 0 (s=0.0000e+00)\n",
            "\n",
            "ODE Message 3: LCP internal error, s <= 0 (s=-0.0000e+00)\n",
            "\n",
            "ODE Message 3: LCP internal error, s <= 0 (s=-0.0000e+00)\n"
          ]
        },
        {
          "name": "stderr",
          "output_type": "stream",
          "text": [
            "\n",
            "ODE Message 3: LCP internal error, s <= 0 (s=-0.0000e+00)\n"
          ]
        },
        {
          "name": "stderr",
          "output_type": "stream",
          "text": [
            "\n",
            "ODE Message 3: LCP internal error, s <= 0 (s=0.0000e+00)\n"
          ]
        },
        {
          "name": "stderr",
          "output_type": "stream",
          "text": [
            "\n",
            "ODE Message 3: LCP internal error, s <= 0 (s=-0.0000e+00)\n"
          ]
        },
        {
          "name": "stderr",
          "output_type": "stream",
          "text": [
            "\n",
            "ODE Message 3: LCP internal error, s <= 0 (s=0.0000e+00)\n",
            "\n",
            "ODE Message 3: LCP internal error, s <= 0 (s=0.0000e+00)\n",
            "\n",
            "ODE Message 3: LCP internal error, s <= 0 (s=0.0000e+00)\n"
          ]
        },
        {
          "name": "stderr",
          "output_type": "stream",
          "text": [
            "\n",
            "ODE Message 3: LCP internal error, s <= 0 (s=-0.0000e+00)\n"
          ]
        },
        {
          "name": "stderr",
          "output_type": "stream",
          "text": [
            "\n",
            "ODE Message 3: LCP internal error, s <= 0 (s=-0.0000e+00)\n"
          ]
        },
        {
          "name": "stderr",
          "output_type": "stream",
          "text": [
            "\n",
            "ODE Message 3: LCP internal error, s <= 0 (s=-0.0000e+00)\n"
          ]
        },
        {
          "name": "stderr",
          "output_type": "stream",
          "text": [
            "\n",
            "ODE Message 3: LCP internal error, s <= 0 (s=-0.0000e+00)\n"
          ]
        },
        {
          "name": "stderr",
          "output_type": "stream",
          "text": [
            "\n",
            "ODE Message 3: LCP internal error, s <= 0 (s=-0.0000e+00)\n"
          ]
        },
        {
          "name": "stderr",
          "output_type": "stream",
          "text": [
            "\n",
            "ODE Message 3: LCP internal error, s <= 0 (s=-0.0000e+00)\n"
          ]
        },
        {
          "name": "stderr",
          "output_type": "stream",
          "text": [
            "\n",
            "ODE Message 3: LCP internal error, s <= 0 (s=0.0000e+00)\n"
          ]
        },
        {
          "name": "stderr",
          "output_type": "stream",
          "text": [
            "\n",
            "ODE Message 3: LCP internal error, s <= 0 (s=0.0000e+00)\n"
          ]
        },
        {
          "name": "stderr",
          "output_type": "stream",
          "text": [
            "\n",
            "ODE Message 3: LCP internal error, s <= 0 (s=-0.0000e+00)\n"
          ]
        },
        {
          "name": "stderr",
          "output_type": "stream",
          "text": [
            "\n",
            "ODE Message 3: LCP internal error, s <= 0 (s=0.0000e+00)\n"
          ]
        },
        {
          "name": "stderr",
          "output_type": "stream",
          "text": [
            "\n",
            "ODE Message 3: LCP internal error, s <= 0 (s=0.0000e+00)\n"
          ]
        },
        {
          "name": "stderr",
          "output_type": "stream",
          "text": [
            "\n",
            "ODE Message 3: LCP internal error, s <= 0 (s=0.0000e+00)\n"
          ]
        },
        {
          "name": "stderr",
          "output_type": "stream",
          "text": [
            "\n",
            "ODE Message 3: LCP internal error, s <= 0 (s=-0.0000e+00)\n"
          ]
        },
        {
          "name": "stderr",
          "output_type": "stream",
          "text": [
            "\n",
            "ODE Message 3: LCP internal error, s <= 0 (s=0.0000e+00)\n"
          ]
        },
        {
          "name": "stderr",
          "output_type": "stream",
          "text": [
            "\n",
            "ODE Message 3: LCP internal error, s <= 0 (s=0.0000e+00)\n"
          ]
        },
        {
          "name": "stderr",
          "output_type": "stream",
          "text": [
            "\n",
            "ODE Message 3: LCP internal error, s <= 0 (s=0.0000e+00)\n"
          ]
        },
        {
          "name": "stderr",
          "output_type": "stream",
          "text": [
            "\n",
            "ODE Message 3: LCP internal error, s <= 0 (s=0.0000e+00)\n"
          ]
        },
        {
          "name": "stderr",
          "output_type": "stream",
          "text": [
            "\n",
            "ODE Message 3: LCP internal error, s <= 0 (s=0.0000e+00)\n",
            "\n",
            "ODE Message 3: LCP internal error, s <= 0 (s=0.0000e+00)\n"
          ]
        },
        {
          "name": "stderr",
          "output_type": "stream",
          "text": [
            "\n",
            "ODE Message 3: LCP internal error, s <= 0 (s=0.0000e+00)\n"
          ]
        },
        {
          "name": "stderr",
          "output_type": "stream",
          "text": [
            "\n",
            "ODE Message 3: LCP internal error, s <= 0 (s=-0.0000e+00)\n"
          ]
        },
        {
          "name": "stderr",
          "output_type": "stream",
          "text": [
            "\n",
            "ODE Message 3: LCP internal error, s <= 0 (s=-0.0000e+00)\n"
          ]
        },
        {
          "name": "stderr",
          "output_type": "stream",
          "text": [
            "\n",
            "ODE Message 3: LCP internal error, s <= 0 (s=0.0000e+00)\n"
          ]
        },
        {
          "name": "stderr",
          "output_type": "stream",
          "text": [
            "\n",
            "ODE Message 3: LCP internal error, s <= 0 (s=0.0000e+00)\n"
          ]
        },
        {
          "name": "stderr",
          "output_type": "stream",
          "text": [
            "\n",
            "ODE Message 3: LCP internal error, s <= 0 (s=-0.0000e+00)\n"
          ]
        },
        {
          "name": "stderr",
          "output_type": "stream",
          "text": [
            "\n",
            "ODE Message 3: LCP internal error, s <= 0 (s=0.0000e+00)\n"
          ]
        },
        {
          "name": "stderr",
          "output_type": "stream",
          "text": [
            "\n",
            "ODE Message 3: LCP internal error, s <= 0 (s=0.0000e+00)\n"
          ]
        },
        {
          "name": "stderr",
          "output_type": "stream",
          "text": [
            "\n",
            "ODE Message 3: LCP internal error, s <= 0 (s=-0.0000e+00)\n"
          ]
        },
        {
          "name": "stderr",
          "output_type": "stream",
          "text": [
            "\n",
            "ODE Message 3: LCP internal error, s <= 0 (s=-0.0000e+00)\n"
          ]
        },
        {
          "name": "stderr",
          "output_type": "stream",
          "text": [
            "\n",
            "ODE Message 3: LCP internal error, s <= 0 (s=0.0000e+00)\n"
          ]
        },
        {
          "name": "stderr",
          "output_type": "stream",
          "text": [
            "\n",
            "ODE Message 3: LCP internal error, s <= 0 (s=0.0000e+00)\n",
            "\n",
            "ODE Message 3: LCP internal error, s <= 0 (s=-0.0000e+00)\n"
          ]
        },
        {
          "name": "stderr",
          "output_type": "stream",
          "text": [
            "\n",
            "ODE Message 3: LCP internal error, s <= 0 (s=-0.0000e+00)\n"
          ]
        },
        {
          "name": "stderr",
          "output_type": "stream",
          "text": [
            "\n",
            "ODE Message 3: LCP internal error, s <= 0 (s=-0.0000e+00)\n"
          ]
        },
        {
          "name": "stderr",
          "output_type": "stream",
          "text": [
            "\n",
            "ODE Message 3: LCP internal error, s <= 0 (s=0.0000e+00)\n"
          ]
        },
        {
          "name": "stderr",
          "output_type": "stream",
          "text": [
            "\n",
            "ODE Message 3: LCP internal error, s <= 0 (s=-0.0000e+00)\n"
          ]
        },
        {
          "name": "stderr",
          "output_type": "stream",
          "text": [
            "\n",
            "ODE Message 3: LCP internal error, s <= 0 (s=0.0000e+00)\n"
          ]
        },
        {
          "name": "stderr",
          "output_type": "stream",
          "text": [
            "\n",
            "ODE Message 3: LCP internal error, s <= 0 (s=0.0000e+00)\n"
          ]
        },
        {
          "name": "stderr",
          "output_type": "stream",
          "text": [
            "\n",
            "ODE Message 3: LCP internal error, s <= 0 (s=0.0000e+00)\n"
          ]
        },
        {
          "name": "stderr",
          "output_type": "stream",
          "text": [
            "\n",
            "ODE Message 3: LCP internal error, s <= 0 (s=0.0000e+00)\n"
          ]
        },
        {
          "name": "stderr",
          "output_type": "stream",
          "text": [
            "\n",
            "ODE Message 3: LCP internal error, s <= 0 (s=0.0000e+00)\n"
          ]
        },
        {
          "name": "stderr",
          "output_type": "stream",
          "text": [
            "\n",
            "ODE Message 3: LCP internal error, s <= 0 (s=-0.0000e+00)\n"
          ]
        },
        {
          "name": "stderr",
          "output_type": "stream",
          "text": [
            "\n",
            "ODE Message 3: LCP internal error, s <= 0 (s=0.0000e+00)\n"
          ]
        },
        {
          "name": "stderr",
          "output_type": "stream",
          "text": [
            "\n",
            "ODE Message 3: LCP internal error, s <= 0 (s=-0.0000e+00)\n"
          ]
        },
        {
          "name": "stderr",
          "output_type": "stream",
          "text": [
            "\n",
            "ODE Message 3: LCP internal error, s <= 0 (s=-0.0000e+00)\n"
          ]
        },
        {
          "name": "stderr",
          "output_type": "stream",
          "text": [
            "\n",
            "ODE Message 3: LCP internal error, s <= 0 (s=0.0000e+00)\n"
          ]
        },
        {
          "name": "stderr",
          "output_type": "stream",
          "text": [
            "\n",
            "ODE Message 3: LCP internal error, s <= 0 (s=0.0000e+00)\n"
          ]
        },
        {
          "name": "stderr",
          "output_type": "stream",
          "text": [
            "\n",
            "ODE Message 3: LCP internal error, s <= 0 (s=0.0000e+00)\n"
          ]
        },
        {
          "name": "stderr",
          "output_type": "stream",
          "text": [
            "\n",
            "ODE Message 3: LCP internal error, s <= 0 (s=0.0000e+00)\n",
            "\n",
            "ODE Message 3: LCP internal error, s <= 0 (s=0.0000e+00)\n"
          ]
        },
        {
          "name": "stderr",
          "output_type": "stream",
          "text": [
            "\n",
            "ODE Message 3: LCP internal error, s <= 0 (s=0.0000e+00)\n"
          ]
        },
        {
          "name": "stderr",
          "output_type": "stream",
          "text": [
            "\n",
            "ODE Message 3: LCP internal error, s <= 0 (s=0.0000e+00)\n"
          ]
        },
        {
          "name": "stderr",
          "output_type": "stream",
          "text": [
            "\n",
            "ODE Message 3: LCP internal error, s <= 0 (s=-0.0000e+00)\n"
          ]
        },
        {
          "name": "stderr",
          "output_type": "stream",
          "text": [
            "\n",
            "ODE Message 3: LCP internal error, s <= 0 (s=0.0000e+00)\n"
          ]
        },
        {
          "name": "stderr",
          "output_type": "stream",
          "text": [
            "\n",
            "ODE Message 3: LCP internal error, s <= 0 (s=0.0000e+00)\n",
            "\n",
            "ODE Message 3: LCP internal error, s <= 0 (s=-0.0000e+00)\n"
          ]
        },
        {
          "name": "stderr",
          "output_type": "stream",
          "text": [
            "\n",
            "ODE Message 3: LCP internal error, s <= 0 (s=-0.0000e+00)\n",
            "\n",
            "ODE Message 3: LCP internal error, s <= 0 (s=-0.0000e+00)\n"
          ]
        },
        {
          "name": "stderr",
          "output_type": "stream",
          "text": [
            "\n",
            "ODE Message 3: LCP internal error, s <= 0 (s=0.0000e+00)\n"
          ]
        },
        {
          "name": "stderr",
          "output_type": "stream",
          "text": [
            "\n",
            "ODE Message 3: LCP internal error, s <= 0 (s=0.0000e+00)\n"
          ]
        },
        {
          "name": "stderr",
          "output_type": "stream",
          "text": [
            "\n",
            "ODE Message 3: LCP internal error, s <= 0 (s=-0.0000e+00)\n"
          ]
        },
        {
          "name": "stderr",
          "output_type": "stream",
          "text": [
            "\n",
            "ODE Message 3: LCP internal error, s <= 0 (s=0.0000e+00)\n"
          ]
        },
        {
          "name": "stderr",
          "output_type": "stream",
          "text": [
            "\n",
            "ODE Message 3: LCP internal error, s <= 0 (s=-0.0000e+00)\n"
          ]
        },
        {
          "name": "stderr",
          "output_type": "stream",
          "text": [
            "\n",
            "ODE Message 3: LCP internal error, s <= 0 (s=-0.0000e+00)\n"
          ]
        },
        {
          "name": "stderr",
          "output_type": "stream",
          "text": [
            "\n",
            "ODE Message 3: LCP internal error, s <= 0 (s=0.0000e+00)\n"
          ]
        },
        {
          "name": "stderr",
          "output_type": "stream",
          "text": [
            "\n",
            "ODE Message 3: LCP internal error, s <= 0 (s=-0.0000e+00)\n"
          ]
        },
        {
          "name": "stderr",
          "output_type": "stream",
          "text": [
            "\n",
            "ODE Message 3: LCP internal error, s <= 0 (s=0.0000e+00)\n"
          ]
        },
        {
          "name": "stderr",
          "output_type": "stream",
          "text": [
            "\n",
            "ODE Message 3: LCP internal error, s <= 0 (s=0.0000e+00)\n"
          ]
        },
        {
          "name": "stderr",
          "output_type": "stream",
          "text": [
            "\n",
            "ODE Message 3: LCP internal error, s <= 0 (s=-0.0000e+00)\n"
          ]
        },
        {
          "name": "stderr",
          "output_type": "stream",
          "text": [
            "\n",
            "ODE Message 3: LCP internal error, s <= 0 (s=-0.0000e+00)\n"
          ]
        },
        {
          "name": "stderr",
          "output_type": "stream",
          "text": [
            "\n",
            "ODE Message 3: LCP internal error, s <= 0 (s=0.0000e+00)\n"
          ]
        },
        {
          "name": "stderr",
          "output_type": "stream",
          "text": [
            "\n",
            "ODE Message 3: LCP internal error, s <= 0 (s=-0.0000e+00)\n"
          ]
        },
        {
          "name": "stderr",
          "output_type": "stream",
          "text": [
            "\n",
            "ODE Message 3: LCP internal error, s <= 0 (s=-0.0000e+00)\n"
          ]
        },
        {
          "name": "stderr",
          "output_type": "stream",
          "text": [
            "\n",
            "ODE Message 3: LCP internal error, s <= 0 (s=-0.0000e+00)\n"
          ]
        },
        {
          "name": "stderr",
          "output_type": "stream",
          "text": [
            "\n",
            "ODE Message 3: LCP internal error, s <= 0 (s=-0.0000e+00)\n"
          ]
        },
        {
          "name": "stderr",
          "output_type": "stream",
          "text": [
            "\n",
            "ODE Message 3: LCP internal error, s <= 0 (s=0.0000e+00)\n"
          ]
        },
        {
          "name": "stderr",
          "output_type": "stream",
          "text": [
            "\n",
            "ODE Message 3: LCP internal error, s <= 0 (s=0.0000e+00)\n"
          ]
        },
        {
          "name": "stderr",
          "output_type": "stream",
          "text": [
            "\n",
            "ODE Message 3: LCP internal error, s <= 0 (s=0.0000e+00)\n"
          ]
        },
        {
          "name": "stderr",
          "output_type": "stream",
          "text": [
            "\n",
            "ODE Message 3: LCP internal error, s <= 0 (s=0.0000e+00)\n"
          ]
        },
        {
          "name": "stderr",
          "output_type": "stream",
          "text": [
            "\n",
            "ODE Message 3: LCP internal error, s <= 0 (s=0.0000e+00)\n",
            "\n",
            "ODE Message 3: LCP internal error, s <= 0 (s=0.0000e+00)\n"
          ]
        },
        {
          "name": "stderr",
          "output_type": "stream",
          "text": [
            "\n",
            "ODE Message 3: LCP internal error, s <= 0 (s=-0.0000e+00)\n",
            "\n",
            "ODE Message 3: LCP internal error, s <= 0 (s=-0.0000e+00)\n"
          ]
        },
        {
          "name": "stderr",
          "output_type": "stream",
          "text": [
            "\n",
            "ODE Message 3: LCP internal error, s <= 0 (s=0.0000e+00)\n"
          ]
        },
        {
          "name": "stderr",
          "output_type": "stream",
          "text": [
            "\n",
            "ODE Message 3: LCP internal error, s <= 0 (s=0.0000e+00)\n"
          ]
        },
        {
          "name": "stderr",
          "output_type": "stream",
          "text": [
            "\n",
            "ODE Message 3: LCP internal error, s <= 0 (s=-0.0000e+00)\n"
          ]
        },
        {
          "name": "stderr",
          "output_type": "stream",
          "text": [
            "\n",
            "ODE Message 3: LCP internal error, s <= 0 (s=0.0000e+00)\n"
          ]
        },
        {
          "name": "stderr",
          "output_type": "stream",
          "text": [
            "\n",
            "ODE Message 3: LCP internal error, s <= 0 (s=-0.0000e+00)\n"
          ]
        },
        {
          "name": "stderr",
          "output_type": "stream",
          "text": [
            "\n",
            "ODE Message 3: LCP internal error, s <= 0 (s=-0.0000e+00)\n"
          ]
        },
        {
          "name": "stderr",
          "output_type": "stream",
          "text": [
            "\n",
            "ODE Message 3: LCP internal error, s <= 0 (s=0.0000e+00)\n"
          ]
        },
        {
          "name": "stderr",
          "output_type": "stream",
          "text": [
            "\n",
            "ODE Message 3: LCP internal error, s <= 0 (s=-0.0000e+00)\n",
            "\n",
            "ODE Message 3: LCP internal error, s <= 0 (s=0.0000e+00)\n"
          ]
        },
        {
          "name": "stderr",
          "output_type": "stream",
          "text": [
            "\n",
            "ODE Message 3: LCP internal error, s <= 0 (s=-0.0000e+00)\n"
          ]
        },
        {
          "name": "stderr",
          "output_type": "stream",
          "text": [
            "\n",
            "ODE Message 3: LCP internal error, s <= 0 (s=-0.0000e+00)\n"
          ]
        },
        {
          "name": "stderr",
          "output_type": "stream",
          "text": [
            "\n",
            "ODE Message 3: LCP internal error, s <= 0 (s=0.0000e+00)\n"
          ]
        },
        {
          "name": "stderr",
          "output_type": "stream",
          "text": [
            "\n",
            "ODE Message 3: LCP internal error, s <= 0 (s=0.0000e+00)\n"
          ]
        },
        {
          "name": "stderr",
          "output_type": "stream",
          "text": [
            "\n",
            "ODE Message 3: LCP internal error, s <= 0 (s=0.0000e+00)\n"
          ]
        },
        {
          "name": "stderr",
          "output_type": "stream",
          "text": [
            "\n",
            "ODE Message 3: LCP internal error, s <= 0 (s=-0.0000e+00)\n"
          ]
        },
        {
          "name": "stderr",
          "output_type": "stream",
          "text": [
            "\n",
            "ODE Message 3: LCP internal error, s <= 0 (s=-0.0000e+00)\n"
          ]
        },
        {
          "name": "stderr",
          "output_type": "stream",
          "text": [
            "\n",
            "ODE Message 3: LCP internal error, s <= 0 (s=0.0000e+00)\n",
            "\n",
            "ODE Message 3: LCP internal error, s <= 0 (s=0.0000e+00)\n"
          ]
        },
        {
          "name": "stderr",
          "output_type": "stream",
          "text": [
            "\n",
            "ODE Message 3: LCP internal error, s <= 0 (s=-0.0000e+00)\n"
          ]
        },
        {
          "name": "stderr",
          "output_type": "stream",
          "text": [
            "\n",
            "ODE Message 3: LCP internal error, s <= 0 (s=-0.0000e+00)\n"
          ]
        },
        {
          "name": "stderr",
          "output_type": "stream",
          "text": [
            "\n",
            "ODE Message 3: LCP internal error, s <= 0 (s=0.0000e+00)\n"
          ]
        },
        {
          "name": "stderr",
          "output_type": "stream",
          "text": [
            "\n",
            "ODE Message 3: LCP internal error, s <= 0 (s=-0.0000e+00)\n"
          ]
        },
        {
          "name": "stderr",
          "output_type": "stream",
          "text": [
            "\n",
            "ODE Message 3: LCP internal error, s <= 0 (s=0.0000e+00)\n"
          ]
        },
        {
          "name": "stderr",
          "output_type": "stream",
          "text": [
            "\n",
            "ODE Message 3: LCP internal error, s <= 0 (s=0.0000e+00)\n"
          ]
        },
        {
          "name": "stderr",
          "output_type": "stream",
          "text": [
            "\n",
            "ODE Message 3: LCP internal error, s <= 0 (s=-0.0000e+00)\n"
          ]
        },
        {
          "name": "stderr",
          "output_type": "stream",
          "text": [
            "\n",
            "ODE Message 3: LCP internal error, s <= 0 (s=0.0000e+00)\n",
            "\n",
            "ODE Message 3: LCP internal error, s <= 0 (s=0.0000e+00)\n"
          ]
        },
        {
          "name": "stderr",
          "output_type": "stream",
          "text": [
            "\n",
            "ODE Message 3: LCP internal error, s <= 0 (s=-0.0000e+00)\n"
          ]
        },
        {
          "name": "stderr",
          "output_type": "stream",
          "text": [
            "\n",
            "ODE Message 3: LCP internal error, s <= 0 (s=0.0000e+00)\n"
          ]
        },
        {
          "name": "stderr",
          "output_type": "stream",
          "text": [
            "\n",
            "ODE Message 3: LCP internal error, s <= 0 (s=0.0000e+00)\n"
          ]
        },
        {
          "name": "stderr",
          "output_type": "stream",
          "text": [
            "\n",
            "ODE Message 3: LCP internal error, s <= 0 (s=0.0000e+00)\n"
          ]
        },
        {
          "name": "stderr",
          "output_type": "stream",
          "text": [
            "\n",
            "ODE Message 3: LCP internal error, s <= 0 (s=0.0000e+00)\n"
          ]
        },
        {
          "name": "stderr",
          "output_type": "stream",
          "text": [
            "\n",
            "ODE Message 3: LCP internal error, s <= 0 (s=0.0000e+00)\n"
          ]
        },
        {
          "name": "stderr",
          "output_type": "stream",
          "text": [
            "\n",
            "ODE Message 3: LCP internal error, s <= 0 (s=0.0000e+00)\n"
          ]
        },
        {
          "name": "stderr",
          "output_type": "stream",
          "text": [
            "\n",
            "ODE Message 3: LCP internal error, s <= 0 (s=-0.0000e+00)\n",
            "\n",
            "ODE Message 3: LCP internal error, s <= 0 (s=0.0000e+00)\n"
          ]
        },
        {
          "name": "stderr",
          "output_type": "stream",
          "text": [
            "\n",
            "ODE Message 3: LCP internal error, s <= 0 (s=-0.0000e+00)\n",
            "\n",
            "ODE Message 3: LCP internal error, s <= 0 (s=-0.0000e+00)\n"
          ]
        },
        {
          "name": "stderr",
          "output_type": "stream",
          "text": [
            "\n",
            "ODE Message 3: LCP internal error, s <= 0 (s=0.0000e+00)\n"
          ]
        },
        {
          "name": "stderr",
          "output_type": "stream",
          "text": [
            "\n",
            "ODE Message 3: LCP internal error, s <= 0 (s=0.0000e+00)\n"
          ]
        },
        {
          "name": "stderr",
          "output_type": "stream",
          "text": [
            "\n",
            "ODE Message 3: LCP internal error, s <= 0 (s=0.0000e+00)\n"
          ]
        },
        {
          "name": "stderr",
          "output_type": "stream",
          "text": [
            "\n",
            "ODE Message 3: LCP internal error, s <= 0 (s=0.0000e+00)\n"
          ]
        },
        {
          "name": "stderr",
          "output_type": "stream",
          "text": [
            "\n",
            "ODE Message 3: LCP internal error, s <= 0 (s=-0.0000e+00)\n"
          ]
        },
        {
          "name": "stderr",
          "output_type": "stream",
          "text": [
            "\n",
            "ODE Message 3: LCP internal error, s <= 0 (s=0.0000e+00)\n"
          ]
        },
        {
          "name": "stderr",
          "output_type": "stream",
          "text": [
            "\n",
            "ODE Message 3: LCP internal error, s <= 0 (s=0.0000e+00)\n",
            "\n",
            "ODE Message 3: LCP internal error, s <= 0 (s=0.0000e+00)\n"
          ]
        },
        {
          "name": "stderr",
          "output_type": "stream",
          "text": [
            "\n",
            "ODE Message 3: LCP internal error, s <= 0 (s=0.0000e+00)\n"
          ]
        },
        {
          "name": "stderr",
          "output_type": "stream",
          "text": [
            "\n",
            "ODE Message 3: LCP internal error, s <= 0 (s=0.0000e+00)\n"
          ]
        },
        {
          "name": "stderr",
          "output_type": "stream",
          "text": [
            "\n",
            "ODE Message 3: LCP internal error, s <= 0 (s=0.0000e+00)\n"
          ]
        },
        {
          "name": "stderr",
          "output_type": "stream",
          "text": [
            "\n",
            "ODE Message 3: LCP internal error, s <= 0 (s=0.0000e+00)\n"
          ]
        },
        {
          "name": "stderr",
          "output_type": "stream",
          "text": [
            "\n",
            "ODE Message 3: LCP internal error, s <= 0 (s=-0.0000e+00)\n"
          ]
        },
        {
          "name": "stderr",
          "output_type": "stream",
          "text": [
            "\n",
            "ODE Message 3: LCP internal error, s <= 0 (s=0.0000e+00)\n"
          ]
        },
        {
          "name": "stderr",
          "output_type": "stream",
          "text": [
            "\n",
            "ODE Message 3: LCP internal error, s <= 0 (s=0.0000e+00)\n"
          ]
        },
        {
          "name": "stderr",
          "output_type": "stream",
          "text": [
            "\n",
            "ODE Message 3: LCP internal error, s <= 0 (s=-0.0000e+00)\n"
          ]
        },
        {
          "name": "stderr",
          "output_type": "stream",
          "text": [
            "\n",
            "ODE Message 3: LCP internal error, s <= 0 (s=0.0000e+00)\n",
            "\n",
            "ODE Message 3: LCP internal error, s <= 0 (s=-0.0000e+00)\n"
          ]
        },
        {
          "name": "stderr",
          "output_type": "stream",
          "text": [
            "\n",
            "ODE Message 3: LCP internal error, s <= 0 (s=-0.0000e+00)\n",
            "\n",
            "ODE Message 3: LCP internal error, s <= 0 (s=-0.0000e+00)\n"
          ]
        },
        {
          "name": "stderr",
          "output_type": "stream",
          "text": [
            "\n",
            "ODE Message 3: LCP internal error, s <= 0 (s=-0.0000e+00)\n"
          ]
        },
        {
          "name": "stderr",
          "output_type": "stream",
          "text": [
            "\n",
            "ODE Message 3: LCP internal error, s <= 0 (s=0.0000e+00)\n"
          ]
        },
        {
          "name": "stderr",
          "output_type": "stream",
          "text": [
            "\n",
            "ODE Message 3: LCP internal error, s <= 0 (s=-0.0000e+00)\n"
          ]
        },
        {
          "name": "stderr",
          "output_type": "stream",
          "text": [
            "\n",
            "ODE Message 3: LCP internal error, s <= 0 (s=-0.0000e+00)\n"
          ]
        },
        {
          "name": "stderr",
          "output_type": "stream",
          "text": [
            "\n",
            "ODE Message 3: LCP internal error, s <= 0 (s=0.0000e+00)\n"
          ]
        },
        {
          "name": "stderr",
          "output_type": "stream",
          "text": [
            "\n",
            "ODE Message 3: LCP internal error, s <= 0 (s=0.0000e+00)\n"
          ]
        },
        {
          "name": "stderr",
          "output_type": "stream",
          "text": [
            "\n",
            "ODE Message 3: LCP internal error, s <= 0 (s=-0.0000e+00)\n"
          ]
        },
        {
          "name": "stderr",
          "output_type": "stream",
          "text": [
            "\n",
            "ODE Message 3: LCP internal error, s <= 0 (s=-0.0000e+00)\n"
          ]
        },
        {
          "name": "stderr",
          "output_type": "stream",
          "text": [
            "\n",
            "ODE Message 3: LCP internal error, s <= 0 (s=0.0000e+00)\n",
            "\n",
            "ODE Message 3: LCP internal error, s <= 0 (s=-0.0000e+00)\n"
          ]
        },
        {
          "name": "stderr",
          "output_type": "stream",
          "text": [
            "\n",
            "ODE Message 3: LCP internal error, s <= 0 (s=0.0000e+00)\n"
          ]
        },
        {
          "name": "stderr",
          "output_type": "stream",
          "text": [
            "\n",
            "ODE Message 3: LCP internal error, s <= 0 (s=0.0000e+00)\n"
          ]
        },
        {
          "name": "stderr",
          "output_type": "stream",
          "text": [
            "\n",
            "ODE Message 3: LCP internal error, s <= 0 (s=-0.0000e+00)\n"
          ]
        },
        {
          "name": "stderr",
          "output_type": "stream",
          "text": [
            "\n",
            "ODE Message 3: LCP internal error, s <= 0 (s=0.0000e+00)\n",
            "\n",
            "ODE Message 3: LCP internal error, s <= 0 (s=-0.0000e+00)\n"
          ]
        },
        {
          "name": "stderr",
          "output_type": "stream",
          "text": [
            "\n",
            "ODE Message 3: LCP internal error, s <= 0 (s=0.0000e+00)\n"
          ]
        },
        {
          "name": "stderr",
          "output_type": "stream",
          "text": [
            "\n",
            "ODE Message 3: LCP internal error, s <= 0 (s=0.0000e+00)\n"
          ]
        },
        {
          "name": "stderr",
          "output_type": "stream",
          "text": [
            "\n",
            "ODE Message 3: LCP internal error, s <= 0 (s=-0.0000e+00)\n",
            "\n",
            "ODE Message 3: LCP internal error, s <= 0 (s=-0.0000e+00)\n"
          ]
        },
        {
          "name": "stderr",
          "output_type": "stream",
          "text": [
            "\n",
            "ODE Message 3: LCP internal error, s <= 0 (s=0.0000e+00)\n"
          ]
        },
        {
          "name": "stderr",
          "output_type": "stream",
          "text": [
            "\n",
            "ODE Message 3: LCP internal error, s <= 0 (s=-0.0000e+00)\n"
          ]
        },
        {
          "name": "stderr",
          "output_type": "stream",
          "text": [
            "\n",
            "ODE Message 3: LCP internal error, s <= 0 (s=0.0000e+00)\n"
          ]
        },
        {
          "name": "stderr",
          "output_type": "stream",
          "text": [
            "\n",
            "ODE Message 3: LCP internal error, s <= 0 (s=0.0000e+00)\n"
          ]
        },
        {
          "name": "stderr",
          "output_type": "stream",
          "text": [
            "\n",
            "ODE Message 3: LCP internal error, s <= 0 (s=-0.0000e+00)\n"
          ]
        },
        {
          "name": "stderr",
          "output_type": "stream",
          "text": [
            "\n",
            "ODE Message 3: LCP internal error, s <= 0 (s=-0.0000e+00)\n"
          ]
        },
        {
          "name": "stderr",
          "output_type": "stream",
          "text": [
            "\n",
            "ODE Message 3: LCP internal error, s <= 0 (s=0.0000e+00)\n"
          ]
        },
        {
          "name": "stderr",
          "output_type": "stream",
          "text": [
            "\n",
            "ODE Message 3: LCP internal error, s <= 0 (s=0.0000e+00)\n"
          ]
        },
        {
          "name": "stderr",
          "output_type": "stream",
          "text": [
            "\n",
            "ODE Message 3: LCP internal error, s <= 0 (s=-0.0000e+00)\n"
          ]
        },
        {
          "name": "stderr",
          "output_type": "stream",
          "text": [
            "\n",
            "ODE Message 3: LCP internal error, s <= 0 (s=0.0000e+00)\n"
          ]
        },
        {
          "name": "stderr",
          "output_type": "stream",
          "text": [
            "\n",
            "ODE Message 3: LCP internal error, s <= 0 (s=0.0000e+00)\n",
            "\n",
            "ODE Message 3: LCP internal error, s <= 0 (s=0.0000e+00)\n",
            "\n",
            "ODE Message 3: LCP internal error, s <= 0 (s=-0.0000e+00)\n"
          ]
        },
        {
          "name": "stderr",
          "output_type": "stream",
          "text": [
            "\n",
            "ODE Message 3: LCP internal error, s <= 0 (s=0.0000e+00)\n"
          ]
        },
        {
          "name": "stderr",
          "output_type": "stream",
          "text": [
            "\n",
            "ODE Message 3: LCP internal error, s <= 0 (s=-0.0000e+00)\n"
          ]
        },
        {
          "name": "stderr",
          "output_type": "stream",
          "text": [
            "\n",
            "ODE Message 3: LCP internal error, s <= 0 (s=-0.0000e+00)\n"
          ]
        },
        {
          "name": "stderr",
          "output_type": "stream",
          "text": [
            "\n",
            "ODE Message 3: LCP internal error, s <= 0 (s=0.0000e+00)\n"
          ]
        },
        {
          "name": "stderr",
          "output_type": "stream",
          "text": [
            "\n",
            "ODE Message 3: LCP internal error, s <= 0 (s=0.0000e+00)\n"
          ]
        },
        {
          "name": "stderr",
          "output_type": "stream",
          "text": [
            "\n",
            "ODE Message 3: LCP internal error, s <= 0 (s=0.0000e+00)\n"
          ]
        },
        {
          "name": "stderr",
          "output_type": "stream",
          "text": [
            "\n",
            "ODE Message 3: LCP internal error, s <= 0 (s=0.0000e+00)\n"
          ]
        },
        {
          "name": "stderr",
          "output_type": "stream",
          "text": [
            "\n",
            "ODE Message 3: LCP internal error, s <= 0 (s=-0.0000e+00)\n",
            "\n",
            "ODE Message 3: LCP internal error, s <= 0 (s=0.0000e+00)\n"
          ]
        },
        {
          "name": "stderr",
          "output_type": "stream",
          "text": [
            "\n",
            "ODE Message 3: LCP internal error, s <= 0 (s=0.0000e+00)\n"
          ]
        },
        {
          "name": "stderr",
          "output_type": "stream",
          "text": [
            "\n",
            "ODE Message 3: LCP internal error, s <= 0 (s=0.0000e+00)\n"
          ]
        },
        {
          "name": "stderr",
          "output_type": "stream",
          "text": [
            "\n",
            "ODE Message 3: LCP internal error, s <= 0 (s=-0.0000e+00)\n"
          ]
        },
        {
          "name": "stderr",
          "output_type": "stream",
          "text": [
            "\n",
            "ODE Message 3: LCP internal error, s <= 0 (s=0.0000e+00)\n"
          ]
        },
        {
          "name": "stderr",
          "output_type": "stream",
          "text": [
            "\n",
            "ODE Message 3: LCP internal error, s <= 0 (s=-0.0000e+00)\n"
          ]
        },
        {
          "name": "stderr",
          "output_type": "stream",
          "text": [
            "\n",
            "ODE Message 3: LCP internal error, s <= 0 (s=0.0000e+00)\n"
          ]
        },
        {
          "name": "stderr",
          "output_type": "stream",
          "text": [
            "\n",
            "ODE Message 3: LCP internal error, s <= 0 (s=-0.0000e+00)\n"
          ]
        },
        {
          "name": "stderr",
          "output_type": "stream",
          "text": [
            "\n",
            "ODE Message 3: LCP internal error, s <= 0 (s=-0.0000e+00)\n"
          ]
        },
        {
          "name": "stderr",
          "output_type": "stream",
          "text": [
            "\n",
            "ODE Message 3: LCP internal error, s <= 0 (s=-0.0000e+00)\n"
          ]
        },
        {
          "name": "stderr",
          "output_type": "stream",
          "text": [
            "\n",
            "ODE Message 3: LCP internal error, s <= 0 (s=0.0000e+00)\n"
          ]
        },
        {
          "name": "stderr",
          "output_type": "stream",
          "text": [
            "\n",
            "ODE Message 3: LCP internal error, s <= 0 (s=0.0000e+00)\n"
          ]
        },
        {
          "name": "stderr",
          "output_type": "stream",
          "text": [
            "\n",
            "ODE Message 3: LCP internal error, s <= 0 (s=0.0000e+00)\n"
          ]
        },
        {
          "name": "stderr",
          "output_type": "stream",
          "text": [
            "\n",
            "ODE Message 3: LCP internal error, s <= 0 (s=-0.0000e+00)\n"
          ]
        },
        {
          "name": "stderr",
          "output_type": "stream",
          "text": [
            "\n",
            "ODE Message 3: LCP internal error, s <= 0 (s=0.0000e+00)\n"
          ]
        },
        {
          "name": "stderr",
          "output_type": "stream",
          "text": [
            "\n",
            "ODE Message 3: LCP internal error, s <= 0 (s=0.0000e+00)\n"
          ]
        },
        {
          "name": "stderr",
          "output_type": "stream",
          "text": [
            "\n",
            "ODE Message 3: LCP internal error, s <= 0 (s=0.0000e+00)\n"
          ]
        },
        {
          "name": "stderr",
          "output_type": "stream",
          "text": [
            "\n",
            "ODE Message 3: LCP internal error, s <= 0 (s=0.0000e+00)\n"
          ]
        },
        {
          "name": "stderr",
          "output_type": "stream",
          "text": [
            "\n",
            "ODE Message 3: LCP internal error, s <= 0 (s=0.0000e+00)\n"
          ]
        },
        {
          "name": "stderr",
          "output_type": "stream",
          "text": [
            "\n",
            "ODE Message 3: LCP internal error, s <= 0 (s=-0.0000e+00)\n"
          ]
        },
        {
          "name": "stderr",
          "output_type": "stream",
          "text": [
            "\n",
            "ODE Message 3: LCP internal error, s <= 0 (s=0.0000e+00)\n"
          ]
        },
        {
          "name": "stderr",
          "output_type": "stream",
          "text": [
            "\n",
            "ODE Message 3: LCP internal error, s <= 0 (s=-0.0000e+00)\n",
            "\n",
            "ODE Message 3: LCP internal error, s <= 0 (s=-0.0000e+00)\n"
          ]
        },
        {
          "name": "stderr",
          "output_type": "stream",
          "text": [
            "\n",
            "ODE Message 3: LCP internal error, s <= 0 (s=0.0000e+00)\n"
          ]
        },
        {
          "name": "stderr",
          "output_type": "stream",
          "text": [
            "\n",
            "ODE Message 3: LCP internal error, s <= 0 (s=0.0000e+00)\n"
          ]
        },
        {
          "name": "stderr",
          "output_type": "stream",
          "text": [
            "\n",
            "ODE Message 3: LCP internal error, s <= 0 (s=-0.0000e+00)\n"
          ]
        },
        {
          "name": "stderr",
          "output_type": "stream",
          "text": [
            "\n",
            "ODE Message 3: LCP internal error, s <= 0 (s=-0.0000e+00)\n"
          ]
        },
        {
          "name": "stderr",
          "output_type": "stream",
          "text": [
            "\n",
            "ODE Message 3: LCP internal error, s <= 0 (s=0.0000e+00)\n"
          ]
        },
        {
          "name": "stderr",
          "output_type": "stream",
          "text": [
            "\n",
            "ODE Message 3: LCP internal error, s <= 0 (s=0.0000e+00)\n",
            "\n",
            "ODE Message 3: LCP internal error, s <= 0 (s=0.0000e+00)\n"
          ]
        },
        {
          "name": "stderr",
          "output_type": "stream",
          "text": [
            "\n",
            "ODE Message 3: LCP internal error, s <= 0 (s=-0.0000e+00)\n",
            "\n",
            "ODE Message 3: LCP internal error, s <= 0 (s=0.0000e+00)\n"
          ]
        },
        {
          "name": "stderr",
          "output_type": "stream",
          "text": [
            "\n",
            "ODE Message 3: LCP internal error, s <= 0 (s=0.0000e+00)\n"
          ]
        },
        {
          "name": "stderr",
          "output_type": "stream",
          "text": [
            "\n",
            "ODE Message 3: LCP internal error, s <= 0 (s=0.0000e+00)\n",
            "\n",
            "ODE Message 3: LCP internal error, s <= 0 (s=0.0000e+00)\n"
          ]
        },
        {
          "name": "stderr",
          "output_type": "stream",
          "text": [
            "\n",
            "ODE Message 3: LCP internal error, s <= 0 (s=-0.0000e+00)\n"
          ]
        },
        {
          "name": "stderr",
          "output_type": "stream",
          "text": [
            "\n",
            "ODE Message 3: LCP internal error, s <= 0 (s=0.0000e+00)\n"
          ]
        },
        {
          "name": "stderr",
          "output_type": "stream",
          "text": [
            "\n",
            "ODE Message 3: LCP internal error, s <= 0 (s=-0.0000e+00)\n"
          ]
        },
        {
          "name": "stderr",
          "output_type": "stream",
          "text": [
            "\n",
            "ODE Message 3: LCP internal error, s <= 0 (s=0.0000e+00)\n",
            "\n",
            "ODE Message 3: LCP internal error, s <= 0 (s=0.0000e+00)\n"
          ]
        },
        {
          "name": "stderr",
          "output_type": "stream",
          "text": [
            "\n",
            "ODE Message 3: LCP internal error, s <= 0 (s=-0.0000e+00)\n"
          ]
        },
        {
          "name": "stderr",
          "output_type": "stream",
          "text": [
            "\n",
            "ODE Message 3: LCP internal error, s <= 0 (s=0.0000e+00)\n"
          ]
        },
        {
          "name": "stderr",
          "output_type": "stream",
          "text": [
            "\n",
            "ODE Message 3: LCP internal error, s <= 0 (s=-0.0000e+00)\n"
          ]
        },
        {
          "name": "stderr",
          "output_type": "stream",
          "text": [
            "\n",
            "ODE Message 3: LCP internal error, s <= 0 (s=-0.0000e+00)\n"
          ]
        },
        {
          "name": "stderr",
          "output_type": "stream",
          "text": [
            "\n",
            "ODE Message 3: LCP internal error, s <= 0 (s=-0.0000e+00)\n"
          ]
        },
        {
          "name": "stderr",
          "output_type": "stream",
          "text": [
            "\n",
            "ODE Message 3: LCP internal error, s <= 0 (s=-0.0000e+00)\n"
          ]
        },
        {
          "name": "stderr",
          "output_type": "stream",
          "text": [
            "\n",
            "ODE Message 3: LCP internal error, s <= 0 (s=0.0000e+00)\n"
          ]
        },
        {
          "name": "stderr",
          "output_type": "stream",
          "text": [
            "\n",
            "ODE Message 3: LCP internal error, s <= 0 (s=0.0000e+00)\n"
          ]
        },
        {
          "name": "stderr",
          "output_type": "stream",
          "text": [
            "\n",
            "ODE Message 3: LCP internal error, s <= 0 (s=0.0000e+00)\n"
          ]
        },
        {
          "name": "stderr",
          "output_type": "stream",
          "text": [
            "\n",
            "ODE Message 3: LCP internal error, s <= 0 (s=0.0000e+00)\n"
          ]
        },
        {
          "name": "stderr",
          "output_type": "stream",
          "text": [
            "\n",
            "ODE Message 3: LCP internal error, s <= 0 (s=0.0000e+00)\n"
          ]
        },
        {
          "name": "stderr",
          "output_type": "stream",
          "text": [
            "\n",
            "ODE Message 3: LCP internal error, s <= 0 (s=0.0000e+00)\n"
          ]
        },
        {
          "name": "stderr",
          "output_type": "stream",
          "text": [
            "\n",
            "ODE Message 3: LCP internal error, s <= 0 (s=-0.0000e+00)\n"
          ]
        },
        {
          "name": "stderr",
          "output_type": "stream",
          "text": [
            "\n",
            "ODE Message 3: LCP internal error, s <= 0 (s=-0.0000e+00)\n"
          ]
        },
        {
          "name": "stderr",
          "output_type": "stream",
          "text": [
            "\n",
            "ODE Message 3: LCP internal error, s <= 0 (s=-0.0000e+00)\n"
          ]
        },
        {
          "name": "stderr",
          "output_type": "stream",
          "text": [
            "\n",
            "ODE Message 3: LCP internal error, s <= 0 (s=0.0000e+00)\n"
          ]
        },
        {
          "name": "stderr",
          "output_type": "stream",
          "text": [
            "\n",
            "ODE Message 3: LCP internal error, s <= 0 (s=0.0000e+00)\n"
          ]
        },
        {
          "name": "stderr",
          "output_type": "stream",
          "text": [
            "\n",
            "ODE Message 3: LCP internal error, s <= 0 (s=-0.0000e+00)\n"
          ]
        },
        {
          "name": "stderr",
          "output_type": "stream",
          "text": [
            "\n",
            "ODE Message 3: LCP internal error, s <= 0 (s=0.0000e+00)\n"
          ]
        },
        {
          "name": "stderr",
          "output_type": "stream",
          "text": [
            "\n",
            "ODE Message 3: LCP internal error, s <= 0 (s=-0.0000e+00)\n"
          ]
        },
        {
          "name": "stderr",
          "output_type": "stream",
          "text": [
            "\n",
            "ODE Message 3: LCP internal error, s <= 0 (s=-0.0000e+00)\n"
          ]
        },
        {
          "name": "stderr",
          "output_type": "stream",
          "text": [
            "\n",
            "ODE Message 3: LCP internal error, s <= 0 (s=-0.0000e+00)\n",
            "\n",
            "ODE Message 3: LCP internal error, s <= 0 (s=0.0000e+00)\n"
          ]
        },
        {
          "name": "stderr",
          "output_type": "stream",
          "text": [
            "\n",
            "ODE Message 3: LCP internal error, s <= 0 (s=0.0000e+00)\n"
          ]
        },
        {
          "name": "stderr",
          "output_type": "stream",
          "text": [
            "\n",
            "ODE Message 3: LCP internal error, s <= 0 (s=0.0000e+00)\n"
          ]
        },
        {
          "name": "stderr",
          "output_type": "stream",
          "text": [
            "\n",
            "ODE Message 3: LCP internal error, s <= 0 (s=-0.0000e+00)\n"
          ]
        },
        {
          "name": "stderr",
          "output_type": "stream",
          "text": [
            "\n",
            "ODE Message 3: LCP internal error, s <= 0 (s=0.0000e+00)\n"
          ]
        },
        {
          "name": "stderr",
          "output_type": "stream",
          "text": [
            "\n",
            "ODE Message 3: LCP internal error, s <= 0 (s=0.0000e+00)\n"
          ]
        },
        {
          "name": "stderr",
          "output_type": "stream",
          "text": [
            "\n",
            "ODE Message 3: LCP internal error, s <= 0 (s=-0.0000e+00)\n",
            "\n",
            "ODE Message 3: LCP internal error, s <= 0 (s=-0.0000e+00)\n"
          ]
        },
        {
          "name": "stderr",
          "output_type": "stream",
          "text": [
            "\n",
            "ODE Message 3: LCP internal error, s <= 0 (s=-0.0000e+00)\n"
          ]
        },
        {
          "name": "stderr",
          "output_type": "stream",
          "text": [
            "\n",
            "ODE Message 3: LCP internal error, s <= 0 (s=-0.0000e+00)\n"
          ]
        },
        {
          "name": "stderr",
          "output_type": "stream",
          "text": [
            "\n",
            "ODE Message 3: LCP internal error, s <= 0 (s=-0.0000e+00)\n",
            "\n",
            "ODE Message 3: LCP internal error, s <= 0 (s=-0.0000e+00)\n"
          ]
        },
        {
          "name": "stderr",
          "output_type": "stream",
          "text": [
            "\n",
            "ODE Message 3: LCP internal error, s <= 0 (s=0.0000e+00)\n"
          ]
        },
        {
          "name": "stderr",
          "output_type": "stream",
          "text": [
            "\n",
            "ODE Message 3: LCP internal error, s <= 0 (s=0.0000e+00)\n"
          ]
        },
        {
          "name": "stderr",
          "output_type": "stream",
          "text": [
            "\n",
            "ODE Message 3: LCP internal error, s <= 0 (s=-0.0000e+00)\n"
          ]
        },
        {
          "name": "stderr",
          "output_type": "stream",
          "text": [
            "\n",
            "ODE Message 3: LCP internal error, s <= 0 (s=-0.0000e+00)\n"
          ]
        },
        {
          "name": "stderr",
          "output_type": "stream",
          "text": [
            "\n",
            "ODE Message 3: LCP internal error, s <= 0 (s=0.0000e+00)\n"
          ]
        },
        {
          "name": "stderr",
          "output_type": "stream",
          "text": [
            "\n",
            "ODE Message 3: LCP internal error, s <= 0 (s=0.0000e+00)\n"
          ]
        },
        {
          "name": "stderr",
          "output_type": "stream",
          "text": [
            "\n",
            "ODE Message 3: LCP internal error, s <= 0 (s=-0.0000e+00)\n"
          ]
        },
        {
          "name": "stderr",
          "output_type": "stream",
          "text": [
            "\n",
            "ODE Message 3: LCP internal error, s <= 0 (s=-0.0000e+00)\n"
          ]
        },
        {
          "name": "stderr",
          "output_type": "stream",
          "text": [
            "\n",
            "ODE Message 3: LCP internal error, s <= 0 (s=-0.0000e+00)\n"
          ]
        },
        {
          "name": "stderr",
          "output_type": "stream",
          "text": [
            "\n",
            "ODE Message 3: LCP internal error, s <= 0 (s=0.0000e+00)\n"
          ]
        },
        {
          "name": "stderr",
          "output_type": "stream",
          "text": [
            "\n",
            "ODE Message 3: LCP internal error, s <= 0 (s=-0.0000e+00)\n"
          ]
        },
        {
          "name": "stderr",
          "output_type": "stream",
          "text": [
            "\n",
            "ODE Message 3: LCP internal error, s <= 0 (s=0.0000e+00)\n"
          ]
        },
        {
          "name": "stderr",
          "output_type": "stream",
          "text": [
            "\n",
            "ODE Message 3: LCP internal error, s <= 0 (s=-0.0000e+00)\n"
          ]
        },
        {
          "name": "stderr",
          "output_type": "stream",
          "text": [
            "\n",
            "ODE Message 3: LCP internal error, s <= 0 (s=-0.0000e+00)\n"
          ]
        },
        {
          "name": "stderr",
          "output_type": "stream",
          "text": [
            "\n",
            "ODE Message 3: LCP internal error, s <= 0 (s=-0.0000e+00)\n"
          ]
        },
        {
          "name": "stderr",
          "output_type": "stream",
          "text": [
            "\n",
            "ODE Message 3: LCP internal error, s <= 0 (s=-0.0000e+00)\n"
          ]
        },
        {
          "name": "stderr",
          "output_type": "stream",
          "text": [
            "\n",
            "ODE Message 3: LCP internal error, s <= 0 (s=-0.0000e+00)\n"
          ]
        },
        {
          "name": "stderr",
          "output_type": "stream",
          "text": [
            "\n",
            "ODE Message 3: LCP internal error, s <= 0 (s=-0.0000e+00)\n"
          ]
        },
        {
          "name": "stderr",
          "output_type": "stream",
          "text": [
            "\n",
            "ODE Message 3: LCP internal error, s <= 0 (s=-0.0000e+00)\n"
          ]
        },
        {
          "name": "stderr",
          "output_type": "stream",
          "text": [
            "\n",
            "ODE Message 3: LCP internal error, s <= 0 (s=-0.0000e+00)\n"
          ]
        },
        {
          "name": "stderr",
          "output_type": "stream",
          "text": [
            "\n",
            "ODE Message 3: LCP internal error, s <= 0 (s=-0.0000e+00)\n"
          ]
        },
        {
          "name": "stderr",
          "output_type": "stream",
          "text": [
            "\n",
            "ODE Message 3: LCP internal error, s <= 0 (s=0.0000e+00)\n"
          ]
        },
        {
          "name": "stderr",
          "output_type": "stream",
          "text": [
            "\n",
            "ODE Message 3: LCP internal error, s <= 0 (s=-0.0000e+00)\n"
          ]
        },
        {
          "name": "stderr",
          "output_type": "stream",
          "text": [
            "\n",
            "ODE Message 3: LCP internal error, s <= 0 (s=-0.0000e+00)\n"
          ]
        },
        {
          "name": "stderr",
          "output_type": "stream",
          "text": [
            "\n",
            "ODE Message 3: LCP internal error, s <= 0 (s=0.0000e+00)\n"
          ]
        },
        {
          "name": "stderr",
          "output_type": "stream",
          "text": [
            "\n",
            "ODE Message 3: LCP internal error, s <= 0 (s=-0.0000e+00)\n"
          ]
        },
        {
          "name": "stderr",
          "output_type": "stream",
          "text": [
            "\n",
            "ODE Message 3: LCP internal error, s <= 0 (s=-0.0000e+00)\n"
          ]
        },
        {
          "name": "stderr",
          "output_type": "stream",
          "text": [
            "\n",
            "ODE Message 3: LCP internal error, s <= 0 (s=-0.0000e+00)\n"
          ]
        },
        {
          "name": "stderr",
          "output_type": "stream",
          "text": [
            "\n",
            "ODE Message 3: LCP internal error, s <= 0 (s=-0.0000e+00)\n"
          ]
        },
        {
          "name": "stderr",
          "output_type": "stream",
          "text": [
            "\n",
            "ODE Message 3: LCP internal error, s <= 0 (s=-0.0000e+00)\n"
          ]
        },
        {
          "name": "stderr",
          "output_type": "stream",
          "text": [
            "\n",
            "ODE Message 3: LCP internal error, s <= 0 (s=-0.0000e+00)\n"
          ]
        },
        {
          "name": "stderr",
          "output_type": "stream",
          "text": [
            "\n",
            "ODE Message 3: LCP internal error, s <= 0 (s=0.0000e+00)\n"
          ]
        },
        {
          "name": "stderr",
          "output_type": "stream",
          "text": [
            "\n",
            "ODE Message 3: LCP internal error, s <= 0 (s=-0.0000e+00)\n"
          ]
        },
        {
          "name": "stderr",
          "output_type": "stream",
          "text": [
            "\n",
            "ODE Message 3: LCP internal error, s <= 0 (s=0.0000e+00)\n"
          ]
        },
        {
          "name": "stderr",
          "output_type": "stream",
          "text": [
            "\n",
            "ODE Message 3: LCP internal error, s <= 0 (s=-0.0000e+00)\n"
          ]
        },
        {
          "name": "stderr",
          "output_type": "stream",
          "text": [
            "\n",
            "ODE Message 3: LCP internal error, s <= 0 (s=-0.0000e+00)\n"
          ]
        },
        {
          "name": "stderr",
          "output_type": "stream",
          "text": [
            "\n",
            "ODE Message 3: LCP internal error, s <= 0 (s=-0.0000e+00)\n",
            "\n",
            "ODE Message 3: LCP internal error, s <= 0 (s=-0.0000e+00)\n"
          ]
        },
        {
          "name": "stderr",
          "output_type": "stream",
          "text": [
            "\n",
            "ODE Message 3: LCP internal error, s <= 0 (s=-0.0000e+00)\n"
          ]
        },
        {
          "name": "stderr",
          "output_type": "stream",
          "text": [
            "\n",
            "ODE Message 3: LCP internal error, s <= 0 (s=0.0000e+00)\n"
          ]
        },
        {
          "name": "stderr",
          "output_type": "stream",
          "text": [
            "\n",
            "ODE Message 3: LCP internal error, s <= 0 (s=0.0000e+00)\n"
          ]
        },
        {
          "name": "stderr",
          "output_type": "stream",
          "text": [
            "\n",
            "ODE Message 3: LCP internal error, s <= 0 (s=0.0000e+00)\n"
          ]
        },
        {
          "name": "stderr",
          "output_type": "stream",
          "text": [
            "\n",
            "ODE Message 3: LCP internal error, s <= 0 (s=-0.0000e+00)\n"
          ]
        },
        {
          "name": "stderr",
          "output_type": "stream",
          "text": [
            "\n",
            "ODE Message 3: LCP internal error, s <= 0 (s=-0.0000e+00)\n"
          ]
        },
        {
          "name": "stderr",
          "output_type": "stream",
          "text": [
            "\n",
            "ODE Message 3: LCP internal error, s <= 0 (s=0.0000e+00)\n"
          ]
        },
        {
          "name": "stderr",
          "output_type": "stream",
          "text": [
            "\n",
            "ODE Message 3: LCP internal error, s <= 0 (s=0.0000e+00)\n"
          ]
        },
        {
          "name": "stderr",
          "output_type": "stream",
          "text": [
            "\n",
            "ODE Message 3: LCP internal error, s <= 0 (s=-0.0000e+00)\n"
          ]
        },
        {
          "name": "stderr",
          "output_type": "stream",
          "text": [
            "\n",
            "ODE Message 3: LCP internal error, s <= 0 (s=0.0000e+00)\n"
          ]
        },
        {
          "name": "stderr",
          "output_type": "stream",
          "text": [
            "\n",
            "ODE Message 3: LCP internal error, s <= 0 (s=0.0000e+00)\n"
          ]
        },
        {
          "name": "stderr",
          "output_type": "stream",
          "text": [
            "\n",
            "ODE Message 3: LCP internal error, s <= 0 (s=-0.0000e+00)\n"
          ]
        },
        {
          "name": "stderr",
          "output_type": "stream",
          "text": [
            "\n",
            "ODE Message 3: LCP internal error, s <= 0 (s=0.0000e+00)\n"
          ]
        },
        {
          "name": "stderr",
          "output_type": "stream",
          "text": [
            "\n",
            "ODE Message 3: LCP internal error, s <= 0 (s=0.0000e+00)\n"
          ]
        },
        {
          "name": "stderr",
          "output_type": "stream",
          "text": [
            "\n",
            "ODE Message 3: LCP internal error, s <= 0 (s=0.0000e+00)\n"
          ]
        },
        {
          "name": "stderr",
          "output_type": "stream",
          "text": [
            "\n",
            "ODE Message 3: LCP internal error, s <= 0 (s=0.0000e+00)\n"
          ]
        },
        {
          "name": "stderr",
          "output_type": "stream",
          "text": [
            "\n",
            "ODE Message 3: LCP internal error, s <= 0 (s=0.0000e+00)\n"
          ]
        },
        {
          "name": "stderr",
          "output_type": "stream",
          "text": [
            "\n",
            "ODE Message 3: LCP internal error, s <= 0 (s=0.0000e+00)\n"
          ]
        },
        {
          "name": "stderr",
          "output_type": "stream",
          "text": [
            "\n",
            "ODE Message 3: LCP internal error, s <= 0 (s=0.0000e+00)\n"
          ]
        },
        {
          "name": "stderr",
          "output_type": "stream",
          "text": [
            "\n",
            "ODE Message 3: LCP internal error, s <= 0 (s=-0.0000e+00)\n"
          ]
        },
        {
          "name": "stderr",
          "output_type": "stream",
          "text": [
            "\n",
            "ODE Message 3: LCP internal error, s <= 0 (s=-0.0000e+00)\n"
          ]
        },
        {
          "name": "stderr",
          "output_type": "stream",
          "text": [
            "\n",
            "ODE Message 3: LCP internal error, s <= 0 (s=0.0000e+00)\n"
          ]
        },
        {
          "name": "stderr",
          "output_type": "stream",
          "text": [
            "\n",
            "ODE Message 3: LCP internal error, s <= 0 (s=0.0000e+00)\n"
          ]
        },
        {
          "name": "stderr",
          "output_type": "stream",
          "text": [
            "\n",
            "ODE Message 3: LCP internal error, s <= 0 (s=-0.0000e+00)\n"
          ]
        },
        {
          "name": "stderr",
          "output_type": "stream",
          "text": [
            "\n",
            "ODE Message 3: LCP internal error, s <= 0 (s=0.0000e+00)\n"
          ]
        },
        {
          "name": "stderr",
          "output_type": "stream",
          "text": [
            "\n",
            "ODE Message 3: LCP internal error, s <= 0 (s=0.0000e+00)\n"
          ]
        },
        {
          "name": "stderr",
          "output_type": "stream",
          "text": [
            "\n",
            "ODE Message 3: LCP internal error, s <= 0 (s=-0.0000e+00)\n"
          ]
        },
        {
          "name": "stderr",
          "output_type": "stream",
          "text": [
            "\n",
            "ODE Message 3: LCP internal error, s <= 0 (s=-0.0000e+00)\n"
          ]
        },
        {
          "name": "stderr",
          "output_type": "stream",
          "text": [
            "\n",
            "ODE Message 3: LCP internal error, s <= 0 (s=0.0000e+00)\n",
            "\n",
            "ODE Message 3: LCP internal error, s <= 0 (s=0.0000e+00)\n",
            "\n",
            "ODE Message 3: LCP internal error, s <= 0 (s=-0.0000e+00)\n"
          ]
        },
        {
          "name": "stderr",
          "output_type": "stream",
          "text": [
            "\n",
            "ODE Message 3: LCP internal error, s <= 0 (s=-0.0000e+00)\n"
          ]
        },
        {
          "name": "stderr",
          "output_type": "stream",
          "text": [
            "\n",
            "ODE Message 3: LCP internal error, s <= 0 (s=-0.0000e+00)\n"
          ]
        },
        {
          "name": "stderr",
          "output_type": "stream",
          "text": [
            "\n",
            "ODE Message 3: LCP internal error, s <= 0 (s=-0.0000e+00)\n",
            "\n",
            "ODE Message 3: LCP internal error, s <= 0 (s=-0.0000e+00)\n"
          ]
        },
        {
          "name": "stderr",
          "output_type": "stream",
          "text": [
            "\n",
            "ODE Message 3: LCP internal error, s <= 0 (s=0.0000e+00)\n"
          ]
        },
        {
          "name": "stderr",
          "output_type": "stream",
          "text": [
            "\n",
            "ODE Message 3: LCP internal error, s <= 0 (s=0.0000e+00)\n"
          ]
        },
        {
          "name": "stderr",
          "output_type": "stream",
          "text": [
            "\n",
            "ODE Message 3: LCP internal error, s <= 0 (s=-0.0000e+00)\n"
          ]
        },
        {
          "name": "stderr",
          "output_type": "stream",
          "text": [
            "\n",
            "ODE Message 3: LCP internal error, s <= 0 (s=0.0000e+00)\n"
          ]
        },
        {
          "name": "stderr",
          "output_type": "stream",
          "text": [
            "\n",
            "ODE Message 3: LCP internal error, s <= 0 (s=0.0000e+00)\n"
          ]
        },
        {
          "name": "stderr",
          "output_type": "stream",
          "text": [
            "\n",
            "ODE Message 3: LCP internal error, s <= 0 (s=0.0000e+00)\n"
          ]
        },
        {
          "name": "stderr",
          "output_type": "stream",
          "text": [
            "\n",
            "ODE Message 3: LCP internal error, s <= 0 (s=0.0000e+00)\n"
          ]
        },
        {
          "name": "stderr",
          "output_type": "stream",
          "text": [
            "\n",
            "ODE Message 3: LCP internal error, s <= 0 (s=0.0000e+00)\n"
          ]
        },
        {
          "name": "stderr",
          "output_type": "stream",
          "text": [
            "\n",
            "ODE Message 3: LCP internal error, s <= 0 (s=0.0000e+00)\n"
          ]
        },
        {
          "name": "stderr",
          "output_type": "stream",
          "text": [
            "\n",
            "ODE Message 3: LCP internal error, s <= 0 (s=0.0000e+00)\n"
          ]
        },
        {
          "name": "stderr",
          "output_type": "stream",
          "text": [
            "\n",
            "ODE Message 3: LCP internal error, s <= 0 (s=-0.0000e+00)\n"
          ]
        },
        {
          "name": "stderr",
          "output_type": "stream",
          "text": [
            "\n",
            "ODE Message 3: LCP internal error, s <= 0 (s=0.0000e+00)\n"
          ]
        },
        {
          "name": "stderr",
          "output_type": "stream",
          "text": [
            "\n",
            "ODE Message 3: LCP internal error, s <= 0 (s=0.0000e+00)\n"
          ]
        },
        {
          "name": "stderr",
          "output_type": "stream",
          "text": [
            "\n",
            "ODE Message 3: LCP internal error, s <= 0 (s=0.0000e+00)\n"
          ]
        },
        {
          "name": "stderr",
          "output_type": "stream",
          "text": [
            "\n",
            "ODE Message 3: LCP internal error, s <= 0 (s=0.0000e+00)\n"
          ]
        },
        {
          "name": "stderr",
          "output_type": "stream",
          "text": [
            "\n",
            "ODE Message 3: LCP internal error, s <= 0 (s=-0.0000e+00)\n"
          ]
        },
        {
          "name": "stderr",
          "output_type": "stream",
          "text": [
            "\n",
            "ODE Message 3: LCP internal error, s <= 0 (s=-0.0000e+00)\n"
          ]
        },
        {
          "name": "stderr",
          "output_type": "stream",
          "text": [
            "\n",
            "ODE Message 3: LCP internal error, s <= 0 (s=0.0000e+00)\n"
          ]
        },
        {
          "name": "stderr",
          "output_type": "stream",
          "text": [
            "\n",
            "ODE Message 3: LCP internal error, s <= 0 (s=-0.0000e+00)\n"
          ]
        },
        {
          "name": "stderr",
          "output_type": "stream",
          "text": [
            "\n",
            "ODE Message 3: LCP internal error, s <= 0 (s=-0.0000e+00)\n"
          ]
        },
        {
          "name": "stderr",
          "output_type": "stream",
          "text": [
            "\n",
            "ODE Message 3: LCP internal error, s <= 0 (s=-0.0000e+00)\n"
          ]
        },
        {
          "name": "stderr",
          "output_type": "stream",
          "text": [
            "\n",
            "ODE Message 3: LCP internal error, s <= 0 (s=-0.0000e+00)\n"
          ]
        },
        {
          "name": "stderr",
          "output_type": "stream",
          "text": [
            "\n",
            "ODE Message 3: LCP internal error, s <= 0 (s=-0.0000e+00)\n",
            "\n",
            "ODE Message 3: LCP internal error, s <= 0 (s=0.0000e+00)\n"
          ]
        },
        {
          "name": "stderr",
          "output_type": "stream",
          "text": [
            "\n",
            "ODE Message 3: LCP internal error, s <= 0 (s=-0.0000e+00)\n",
            "\n",
            "ODE Message 3: LCP internal error, s <= 0 (s=0.0000e+00)\n"
          ]
        },
        {
          "name": "stderr",
          "output_type": "stream",
          "text": [
            "\n",
            "ODE Message 3: LCP internal error, s <= 0 (s=-0.0000e+00)\n"
          ]
        },
        {
          "name": "stderr",
          "output_type": "stream",
          "text": [
            "\n",
            "ODE Message 3: LCP internal error, s <= 0 (s=0.0000e+00)\n"
          ]
        },
        {
          "name": "stderr",
          "output_type": "stream",
          "text": [
            "\n",
            "ODE Message 3: LCP internal error, s <= 0 (s=0.0000e+00)\n"
          ]
        },
        {
          "name": "stderr",
          "output_type": "stream",
          "text": [
            "\n",
            "ODE Message 3: LCP internal error, s <= 0 (s=0.0000e+00)\n",
            "\n",
            "ODE Message 3: LCP internal error, s <= 0 (s=0.0000e+00)\n"
          ]
        },
        {
          "name": "stderr",
          "output_type": "stream",
          "text": [
            "\n",
            "ODE Message 3: LCP internal error, s <= 0 (s=0.0000e+00)\n"
          ]
        },
        {
          "name": "stderr",
          "output_type": "stream",
          "text": [
            "\n",
            "ODE Message 3: LCP internal error, s <= 0 (s=0.0000e+00)\n"
          ]
        },
        {
          "name": "stderr",
          "output_type": "stream",
          "text": [
            "\n",
            "ODE Message 3: LCP internal error, s <= 0 (s=-0.0000e+00)\n"
          ]
        },
        {
          "name": "stderr",
          "output_type": "stream",
          "text": [
            "\n",
            "ODE Message 3: LCP internal error, s <= 0 (s=0.0000e+00)\n"
          ]
        },
        {
          "name": "stderr",
          "output_type": "stream",
          "text": [
            "\n",
            "ODE Message 3: LCP internal error, s <= 0 (s=0.0000e+00)\n"
          ]
        },
        {
          "name": "stderr",
          "output_type": "stream",
          "text": [
            "\n",
            "ODE Message 3: LCP internal error, s <= 0 (s=0.0000e+00)\n"
          ]
        },
        {
          "name": "stderr",
          "output_type": "stream",
          "text": [
            "\n",
            "ODE Message 3: LCP internal error, s <= 0 (s=-0.0000e+00)\n"
          ]
        },
        {
          "name": "stderr",
          "output_type": "stream",
          "text": [
            "\n",
            "ODE Message 3: LCP internal error, s <= 0 (s=0.0000e+00)\n"
          ]
        },
        {
          "name": "stderr",
          "output_type": "stream",
          "text": [
            "\n",
            "ODE Message 3: LCP internal error, s <= 0 (s=0.0000e+00)\n"
          ]
        },
        {
          "name": "stderr",
          "output_type": "stream",
          "text": [
            "\n",
            "ODE Message 3: LCP internal error, s <= 0 (s=0.0000e+00)\n"
          ]
        },
        {
          "name": "stderr",
          "output_type": "stream",
          "text": [
            "\n",
            "ODE Message 3: LCP internal error, s <= 0 (s=0.0000e+00)\n"
          ]
        },
        {
          "name": "stderr",
          "output_type": "stream",
          "text": [
            "\n",
            "ODE Message 3: LCP internal error, s <= 0 (s=-0.0000e+00)\n"
          ]
        },
        {
          "name": "stderr",
          "output_type": "stream",
          "text": [
            "\n",
            "ODE Message 3: LCP internal error, s <= 0 (s=-0.0000e+00)\n"
          ]
        },
        {
          "name": "stderr",
          "output_type": "stream",
          "text": [
            "\n",
            "ODE Message 3: LCP internal error, s <= 0 (s=0.0000e+00)\n"
          ]
        },
        {
          "name": "stderr",
          "output_type": "stream",
          "text": [
            "\n",
            "ODE Message 3: LCP internal error, s <= 0 (s=0.0000e+00)\n"
          ]
        },
        {
          "name": "stderr",
          "output_type": "stream",
          "text": [
            "\n",
            "ODE Message 3: LCP internal error, s <= 0 (s=0.0000e+00)\n"
          ]
        },
        {
          "name": "stderr",
          "output_type": "stream",
          "text": [
            "\n",
            "ODE Message 3: LCP internal error, s <= 0 (s=-0.0000e+00)\n"
          ]
        },
        {
          "name": "stderr",
          "output_type": "stream",
          "text": [
            "\n",
            "ODE Message 3: LCP internal error, s <= 0 (s=0.0000e+00)\n"
          ]
        },
        {
          "name": "stderr",
          "output_type": "stream",
          "text": [
            "\n",
            "ODE Message 3: LCP internal error, s <= 0 (s=0.0000e+00)\n"
          ]
        },
        {
          "name": "stderr",
          "output_type": "stream",
          "text": [
            "\n",
            "ODE Message 3: LCP internal error, s <= 0 (s=-0.0000e+00)\n"
          ]
        },
        {
          "name": "stderr",
          "output_type": "stream",
          "text": [
            "\n",
            "ODE Message 3: LCP internal error, s <= 0 (s=0.0000e+00)\n"
          ]
        },
        {
          "name": "stderr",
          "output_type": "stream",
          "text": [
            "\n",
            "ODE Message 3: LCP internal error, s <= 0 (s=0.0000e+00)\n"
          ]
        },
        {
          "name": "stderr",
          "output_type": "stream",
          "text": [
            "\n",
            "ODE Message 3: LCP internal error, s <= 0 (s=-0.0000e+00)\n"
          ]
        },
        {
          "name": "stderr",
          "output_type": "stream",
          "text": [
            "\n",
            "ODE Message 3: LCP internal error, s <= 0 (s=-0.0000e+00)\n"
          ]
        },
        {
          "name": "stderr",
          "output_type": "stream",
          "text": [
            "\n",
            "ODE Message 3: LCP internal error, s <= 0 (s=0.0000e+00)\n"
          ]
        },
        {
          "name": "stderr",
          "output_type": "stream",
          "text": [
            "\n",
            "ODE Message 3: LCP internal error, s <= 0 (s=0.0000e+00)\n"
          ]
        },
        {
          "name": "stderr",
          "output_type": "stream",
          "text": [
            "\n",
            "ODE Message 3: LCP internal error, s <= 0 (s=0.0000e+00)\n"
          ]
        },
        {
          "name": "stderr",
          "output_type": "stream",
          "text": [
            "\n",
            "ODE Message 3: LCP internal error, s <= 0 (s=-0.0000e+00)\n"
          ]
        },
        {
          "name": "stderr",
          "output_type": "stream",
          "text": [
            "\n",
            "ODE Message 3: LCP internal error, s <= 0 (s=-0.0000e+00)\n"
          ]
        },
        {
          "name": "stderr",
          "output_type": "stream",
          "text": [
            "\n",
            "ODE Message 3: LCP internal error, s <= 0 (s=0.0000e+00)\n"
          ]
        },
        {
          "name": "stderr",
          "output_type": "stream",
          "text": [
            "\n",
            "ODE Message 3: LCP internal error, s <= 0 (s=0.0000e+00)\n"
          ]
        },
        {
          "name": "stderr",
          "output_type": "stream",
          "text": [
            "\n",
            "ODE Message 3: LCP internal error, s <= 0 (s=-0.0000e+00)\n"
          ]
        },
        {
          "name": "stderr",
          "output_type": "stream",
          "text": [
            "\n",
            "ODE Message 3: LCP internal error, s <= 0 (s=0.0000e+00)\n"
          ]
        },
        {
          "name": "stderr",
          "output_type": "stream",
          "text": [
            "\n",
            "ODE Message 3: LCP internal error, s <= 0 (s=0.0000e+00)\n"
          ]
        },
        {
          "name": "stderr",
          "output_type": "stream",
          "text": [
            "\n",
            "ODE Message 3: LCP internal error, s <= 0 (s=-0.0000e+00)\n"
          ]
        },
        {
          "name": "stderr",
          "output_type": "stream",
          "text": [
            "\n",
            "ODE Message 3: LCP internal error, s <= 0 (s=0.0000e+00)\n"
          ]
        },
        {
          "name": "stderr",
          "output_type": "stream",
          "text": [
            "\n",
            "ODE Message 3: LCP internal error, s <= 0 (s=-0.0000e+00)\n"
          ]
        },
        {
          "name": "stderr",
          "output_type": "stream",
          "text": [
            "\n",
            "ODE Message 3: LCP internal error, s <= 0 (s=0.0000e+00)\n"
          ]
        },
        {
          "name": "stderr",
          "output_type": "stream",
          "text": [
            "\n",
            "ODE Message 3: LCP internal error, s <= 0 (s=0.0000e+00)\n"
          ]
        },
        {
          "name": "stderr",
          "output_type": "stream",
          "text": [
            "\n",
            "ODE Message 3: LCP internal error, s <= 0 (s=-0.0000e+00)\n"
          ]
        },
        {
          "name": "stderr",
          "output_type": "stream",
          "text": [
            "\n",
            "ODE Message 3: LCP internal error, s <= 0 (s=-0.0000e+00)\n"
          ]
        },
        {
          "name": "stderr",
          "output_type": "stream",
          "text": [
            "\n",
            "ODE Message 3: LCP internal error, s <= 0 (s=-0.0000e+00)\n"
          ]
        },
        {
          "name": "stderr",
          "output_type": "stream",
          "text": [
            "\n",
            "ODE Message 3: LCP internal error, s <= 0 (s=0.0000e+00)\n"
          ]
        },
        {
          "name": "stderr",
          "output_type": "stream",
          "text": [
            "\n",
            "ODE Message 3: LCP internal error, s <= 0 (s=0.0000e+00)\n"
          ]
        },
        {
          "name": "stderr",
          "output_type": "stream",
          "text": [
            "\n",
            "ODE Message 3: LCP internal error, s <= 0 (s=-0.0000e+00)\n"
          ]
        },
        {
          "name": "stderr",
          "output_type": "stream",
          "text": [
            "\n",
            "ODE Message 3: LCP internal error, s <= 0 (s=0.0000e+00)\n"
          ]
        },
        {
          "name": "stderr",
          "output_type": "stream",
          "text": [
            "\n",
            "ODE Message 3: LCP internal error, s <= 0 (s=-0.0000e+00)\n"
          ]
        },
        {
          "name": "stderr",
          "output_type": "stream",
          "text": [
            "\n",
            "ODE Message 3: LCP internal error, s <= 0 (s=0.0000e+00)\n"
          ]
        },
        {
          "name": "stderr",
          "output_type": "stream",
          "text": [
            "\n",
            "ODE Message 3: LCP internal error, s <= 0 (s=-0.0000e+00)\n"
          ]
        },
        {
          "name": "stderr",
          "output_type": "stream",
          "text": [
            "\n",
            "ODE Message 3: LCP internal error, s <= 0 (s=0.0000e+00)\n"
          ]
        },
        {
          "name": "stderr",
          "output_type": "stream",
          "text": [
            "\n",
            "ODE Message 3: LCP internal error, s <= 0 (s=0.0000e+00)\n"
          ]
        },
        {
          "name": "stderr",
          "output_type": "stream",
          "text": [
            "\n",
            "ODE Message 3: LCP internal error, s <= 0 (s=0.0000e+00)\n"
          ]
        },
        {
          "name": "stderr",
          "output_type": "stream",
          "text": [
            "\n",
            "ODE Message 3: LCP internal error, s <= 0 (s=0.0000e+00)\n",
            "\n",
            "ODE Message 3: LCP internal error, s <= 0 (s=0.0000e+00)\n"
          ]
        },
        {
          "name": "stderr",
          "output_type": "stream",
          "text": [
            "\n",
            "ODE Message 3: LCP internal error, s <= 0 (s=0.0000e+00)\n"
          ]
        },
        {
          "name": "stderr",
          "output_type": "stream",
          "text": [
            "\n",
            "ODE Message 3: LCP internal error, s <= 0 (s=0.0000e+00)\n"
          ]
        },
        {
          "name": "stderr",
          "output_type": "stream",
          "text": [
            "\n",
            "ODE Message 3: LCP internal error, s <= 0 (s=-0.0000e+00)\n"
          ]
        },
        {
          "name": "stderr",
          "output_type": "stream",
          "text": [
            "\n",
            "ODE Message 3: LCP internal error, s <= 0 (s=-0.0000e+00)\n"
          ]
        },
        {
          "name": "stderr",
          "output_type": "stream",
          "text": [
            "\n",
            "ODE Message 3: LCP internal error, s <= 0 (s=-0.0000e+00)\n"
          ]
        },
        {
          "name": "stderr",
          "output_type": "stream",
          "text": [
            "\n",
            "ODE Message 3: LCP internal error, s <= 0 (s=-0.0000e+00)\n"
          ]
        },
        {
          "name": "stderr",
          "output_type": "stream",
          "text": [
            "\n",
            "ODE Message 3: LCP internal error, s <= 0 (s=0.0000e+00)\n"
          ]
        },
        {
          "name": "stderr",
          "output_type": "stream",
          "text": [
            "\n",
            "ODE Message 3: LCP internal error, s <= 0 (s=0.0000e+00)\n"
          ]
        },
        {
          "name": "stderr",
          "output_type": "stream",
          "text": [
            "\n",
            "ODE Message 3: LCP internal error, s <= 0 (s=0.0000e+00)\n"
          ]
        },
        {
          "name": "stderr",
          "output_type": "stream",
          "text": [
            "\n",
            "ODE Message 3: LCP internal error, s <= 0 (s=-0.0000e+00)\n"
          ]
        },
        {
          "name": "stderr",
          "output_type": "stream",
          "text": [
            "\n",
            "ODE Message 3: LCP internal error, s <= 0 (s=0.0000e+00)\n",
            "\n",
            "ODE Message 3: LCP internal error, s <= 0 (s=-0.0000e+00)\n"
          ]
        },
        {
          "name": "stderr",
          "output_type": "stream",
          "text": [
            "\n",
            "ODE Message 3: LCP internal error, s <= 0 (s=-0.0000e+00)\n"
          ]
        },
        {
          "name": "stderr",
          "output_type": "stream",
          "text": [
            "\n",
            "ODE Message 3: LCP internal error, s <= 0 (s=0.0000e+00)\n"
          ]
        },
        {
          "name": "stderr",
          "output_type": "stream",
          "text": [
            "\n",
            "ODE Message 3: LCP internal error, s <= 0 (s=0.0000e+00)\n"
          ]
        },
        {
          "name": "stderr",
          "output_type": "stream",
          "text": [
            "\n",
            "ODE Message 3: LCP internal error, s <= 0 (s=-0.0000e+00)\n"
          ]
        },
        {
          "name": "stderr",
          "output_type": "stream",
          "text": [
            "\n",
            "ODE Message 3: LCP internal error, s <= 0 (s=0.0000e+00)\n"
          ]
        },
        {
          "name": "stderr",
          "output_type": "stream",
          "text": [
            "\n",
            "ODE Message 3: LCP internal error, s <= 0 (s=0.0000e+00)\n"
          ]
        },
        {
          "name": "stderr",
          "output_type": "stream",
          "text": [
            "\n",
            "ODE Message 3: LCP internal error, s <= 0 (s=-0.0000e+00)\n",
            "\n",
            "ODE Message 3: LCP internal error, s <= 0 (s=0.0000e+00)\n"
          ]
        },
        {
          "name": "stderr",
          "output_type": "stream",
          "text": [
            "\n",
            "ODE Message 3: LCP internal error, s <= 0 (s=-0.0000e+00)\n"
          ]
        },
        {
          "name": "stderr",
          "output_type": "stream",
          "text": [
            "\n",
            "ODE Message 3: LCP internal error, s <= 0 (s=-0.0000e+00)\n"
          ]
        },
        {
          "name": "stderr",
          "output_type": "stream",
          "text": [
            "\n",
            "ODE Message 3: LCP internal error, s <= 0 (s=0.0000e+00)\n"
          ]
        },
        {
          "name": "stderr",
          "output_type": "stream",
          "text": [
            "\n",
            "ODE Message 3: LCP internal error, s <= 0 (s=-0.0000e+00)\n"
          ]
        },
        {
          "name": "stderr",
          "output_type": "stream",
          "text": [
            "\n",
            "ODE Message 3: LCP internal error, s <= 0 (s=0.0000e+00)\n",
            "\n",
            "ODE Message 3: LCP internal error, s <= 0 (s=-0.0000e+00)\n",
            "\n",
            "ODE Message 3: LCP internal error, s <= 0 (s=0.0000e+00)\n"
          ]
        },
        {
          "name": "stderr",
          "output_type": "stream",
          "text": [
            "\n",
            "ODE Message 3: LCP internal error, s <= 0 (s=0.0000e+00)\n"
          ]
        },
        {
          "name": "stderr",
          "output_type": "stream",
          "text": [
            "\n",
            "ODE Message 3: LCP internal error, s <= 0 (s=0.0000e+00)\n",
            "\n",
            "ODE Message 3: LCP internal error, s <= 0 (s=0.0000e+00)\n"
          ]
        },
        {
          "name": "stderr",
          "output_type": "stream",
          "text": [
            "\n",
            "ODE Message 3: LCP internal error, s <= 0 (s=0.0000e+00)\n"
          ]
        },
        {
          "name": "stderr",
          "output_type": "stream",
          "text": [
            "\n",
            "ODE Message 3: LCP internal error, s <= 0 (s=0.0000e+00)\n"
          ]
        },
        {
          "name": "stderr",
          "output_type": "stream",
          "text": [
            "\n",
            "ODE Message 3: LCP internal error, s <= 0 (s=0.0000e+00)\n"
          ]
        },
        {
          "name": "stderr",
          "output_type": "stream",
          "text": [
            "\n",
            "ODE Message 3: LCP internal error, s <= 0 (s=-0.0000e+00)\n",
            "\n",
            "ODE Message 3: LCP internal error, s <= 0 (s=0.0000e+00)\n",
            "\n",
            "ODE Message 3: LCP internal error, s <= 0 (s=-0.0000e+00)\n",
            "\n",
            "ODE Message 3: LCP internal error, s <= 0 (s=0.0000e+00)\n"
          ]
        },
        {
          "name": "stderr",
          "output_type": "stream",
          "text": [
            "\n",
            "ODE Message 3: LCP internal error, s <= 0 (s=0.0000e+00)\n",
            "\n",
            "ODE Message 3: LCP internal error, s <= 0 (s=0.0000e+00)\n"
          ]
        },
        {
          "name": "stderr",
          "output_type": "stream",
          "text": [
            "\n",
            "ODE Message 3: LCP internal error, s <= 0 (s=-0.0000e+00)\n",
            "\n",
            "ODE Message 3: LCP internal error, s <= 0 (s=-0.0000e+00)\n"
          ]
        },
        {
          "name": "stderr",
          "output_type": "stream",
          "text": [
            "\n",
            "ODE Message 3: LCP internal error, s <= 0 (s=0.0000e+00)\n",
            "\n",
            "ODE Message 3: LCP internal error, s <= 0 (s=0.0000e+00)\n"
          ]
        },
        {
          "name": "stderr",
          "output_type": "stream",
          "text": [
            "\n",
            "ODE Message 3: LCP internal error, s <= 0 (s=-0.0000e+00)\n",
            "\n",
            "ODE Message 3: LCP internal error, s <= 0 (s=0.0000e+00)\n",
            "\n",
            "ODE Message 3: LCP internal error, s <= 0 (s=-0.0000e+00)\n"
          ]
        },
        {
          "name": "stderr",
          "output_type": "stream",
          "text": [
            "\n",
            "ODE Message 3: LCP internal error, s <= 0 (s=-0.0000e+00)\n",
            "\n",
            "ODE Message 3: LCP internal error, s <= 0 (s=-0.0000e+00)\n"
          ]
        },
        {
          "name": "stderr",
          "output_type": "stream",
          "text": [
            "\n",
            "ODE Message 3: LCP internal error, s <= 0 (s=0.0000e+00)\n",
            "\n",
            "ODE Message 3: LCP internal error, s <= 0 (s=0.0000e+00)\n",
            "\n",
            "ODE Message 3: LCP internal error, s <= 0 (s=0.0000e+00)\n",
            "\n",
            "ODE Message 3: LCP internal error, s <= 0 (s=-0.0000e+00)\n",
            "\n",
            "ODE Message 3: LCP internal error, s <= 0 (s=0.0000e+00)\n"
          ]
        },
        {
          "name": "stderr",
          "output_type": "stream",
          "text": [
            "\n",
            "ODE Message 3: LCP internal error, s <= 0 (s=0.0000e+00)\n",
            "\n",
            "ODE Message 3: LCP internal error, s <= 0 (s=0.0000e+00)\n",
            "\n",
            "ODE Message 3: LCP internal error, s <= 0 (s=0.0000e+00)\n"
          ]
        },
        {
          "name": "stderr",
          "output_type": "stream",
          "text": [
            "\n",
            "ODE Message 3: LCP internal error, s <= 0 (s=-0.0000e+00)\n"
          ]
        },
        {
          "name": "stderr",
          "output_type": "stream",
          "text": [
            "\n",
            "ODE Message 3: LCP internal error, s <= 0 (s=0.0000e+00)\n",
            "\n",
            "ODE Message 3: LCP internal error, s <= 0 (s=-0.0000e+00)\n"
          ]
        },
        {
          "name": "stderr",
          "output_type": "stream",
          "text": [
            "\n",
            "ODE Message 3: LCP internal error, s <= 0 (s=0.0000e+00)\n",
            "\n",
            "ODE Message 3: LCP internal error, s <= 0 (s=-0.0000e+00)\n",
            "\n",
            "ODE Message 3: LCP internal error, s <= 0 (s=-0.0000e+00)\n"
          ]
        },
        {
          "name": "stderr",
          "output_type": "stream",
          "text": [
            "\n",
            "ODE Message 3: LCP internal error, s <= 0 (s=0.0000e+00)\n",
            "\n",
            "ODE Message 3: LCP internal error, s <= 0 (s=0.0000e+00)\n",
            "\n",
            "ODE Message 3: LCP internal error, s <= 0 (s=0.0000e+00)\n"
          ]
        },
        {
          "name": "stderr",
          "output_type": "stream",
          "text": [
            "\n",
            "ODE Message 3: LCP internal error, s <= 0 (s=-0.0000e+00)\n",
            "\n",
            "ODE Message 3: LCP internal error, s <= 0 (s=0.0000e+00)\n",
            "\n",
            "ODE Message 3: LCP internal error, s <= 0 (s=-0.0000e+00)\n",
            "\n",
            "ODE Message 3: LCP internal error, s <= 0 (s=-0.0000e+00)\n"
          ]
        },
        {
          "name": "stderr",
          "output_type": "stream",
          "text": [
            "\n",
            "ODE Message 3: LCP internal error, s <= 0 (s=0.0000e+00)\n",
            "\n",
            "ODE Message 3: LCP internal error, s <= 0 (s=-0.0000e+00)\n",
            "\n",
            "ODE Message 3: LCP internal error, s <= 0 (s=-0.0000e+00)\n"
          ]
        },
        {
          "name": "stderr",
          "output_type": "stream",
          "text": [
            "\n",
            "ODE Message 3: LCP internal error, s <= 0 (s=0.0000e+00)\n",
            "\n",
            "ODE Message 3: LCP internal error, s <= 0 (s=-0.0000e+00)\n",
            "\n",
            "ODE Message 3: LCP internal error, s <= 0 (s=0.0000e+00)\n",
            "\n",
            "ODE Message 3: LCP internal error, s <= 0 (s=-0.0000e+00)\n",
            "\n",
            "ODE Message 3: LCP internal error, s <= 0 (s=0.0000e+00)\n"
          ]
        },
        {
          "name": "stderr",
          "output_type": "stream",
          "text": [
            "\n",
            "ODE Message 3: LCP internal error, s <= 0 (s=-0.0000e+00)\n",
            "\n",
            "ODE Message 3: LCP internal error, s <= 0 (s=0.0000e+00)\n",
            "\n",
            "ODE Message 3: LCP internal error, s <= 0 (s=0.0000e+00)\n",
            "\n",
            "ODE Message 3: LCP internal error, s <= 0 (s=-0.0000e+00)\n"
          ]
        },
        {
          "name": "stderr",
          "output_type": "stream",
          "text": [
            "\n",
            "ODE Message 3: LCP internal error, s <= 0 (s=0.0000e+00)\n",
            "\n",
            "ODE Message 3: LCP internal error, s <= 0 (s=0.0000e+00)\n",
            "\n",
            "ODE Message 3: LCP internal error, s <= 0 (s=0.0000e+00)\n"
          ]
        },
        {
          "name": "stderr",
          "output_type": "stream",
          "text": [
            "\n",
            "ODE Message 3: LCP internal error, s <= 0 (s=0.0000e+00)\n",
            "\n",
            "ODE Message 3: LCP internal error, s <= 0 (s=0.0000e+00)\n"
          ]
        },
        {
          "name": "stderr",
          "output_type": "stream",
          "text": [
            "\n",
            "ODE Message 3: LCP internal error, s <= 0 (s=0.0000e+00)\n",
            "\n",
            "ODE Message 3: LCP internal error, s <= 0 (s=0.0000e+00)\n"
          ]
        },
        {
          "name": "stderr",
          "output_type": "stream",
          "text": [
            "\n",
            "ODE Message 3: LCP internal error, s <= 0 (s=0.0000e+00)\n",
            "\n",
            "ODE Message 3: LCP internal error, s <= 0 (s=0.0000e+00)\n",
            "\n",
            "ODE Message 3: LCP internal error, s <= 0 (s=0.0000e+00)\n"
          ]
        },
        {
          "name": "stderr",
          "output_type": "stream",
          "text": [
            "\n",
            "ODE Message 3: LCP internal error, s <= 0 (s=-0.0000e+00)\n"
          ]
        },
        {
          "name": "stderr",
          "output_type": "stream",
          "text": [
            "\n",
            "ODE Message 3: LCP internal error, s <= 0 (s=0.0000e+00)\n"
          ]
        },
        {
          "name": "stderr",
          "output_type": "stream",
          "text": [
            "\n",
            "ODE Message 3: LCP internal error, s <= 0 (s=-0.0000e+00)\n"
          ]
        },
        {
          "name": "stderr",
          "output_type": "stream",
          "text": [
            "\n",
            "ODE Message 3: LCP internal error, s <= 0 (s=0.0000e+00)\n"
          ]
        },
        {
          "name": "stderr",
          "output_type": "stream",
          "text": [
            "\n",
            "ODE Message 3: LCP internal error, s <= 0 (s=-0.0000e+00)\n"
          ]
        },
        {
          "name": "stderr",
          "output_type": "stream",
          "text": [
            "\n",
            "ODE Message 3: LCP internal error, s <= 0 (s=-0.0000e+00)\n"
          ]
        },
        {
          "name": "stderr",
          "output_type": "stream",
          "text": [
            "\n",
            "ODE Message 3: LCP internal error, s <= 0 (s=0.0000e+00)\n"
          ]
        },
        {
          "name": "stderr",
          "output_type": "stream",
          "text": [
            "\n",
            "ODE Message 3: LCP internal error, s <= 0 (s=0.0000e+00)\n"
          ]
        },
        {
          "name": "stderr",
          "output_type": "stream",
          "text": [
            "\n",
            "ODE Message 3: LCP internal error, s <= 0 (s=-0.0000e+00)\n"
          ]
        },
        {
          "name": "stderr",
          "output_type": "stream",
          "text": [
            "\n",
            "ODE Message 3: LCP internal error, s <= 0 (s=-0.0000e+00)\n"
          ]
        },
        {
          "name": "stderr",
          "output_type": "stream",
          "text": [
            "\n",
            "ODE Message 3: LCP internal error, s <= 0 (s=-0.0000e+00)\n",
            "\n",
            "ODE Message 3: LCP internal error, s <= 0 (s=0.0000e+00)\n"
          ]
        },
        {
          "name": "stderr",
          "output_type": "stream",
          "text": [
            "\n",
            "ODE Message 3: LCP internal error, s <= 0 (s=0.0000e+00)\n"
          ]
        },
        {
          "name": "stderr",
          "output_type": "stream",
          "text": [
            "\n",
            "ODE Message 3: LCP internal error, s <= 0 (s=-0.0000e+00)\n",
            "\n",
            "ODE Message 3: LCP internal error, s <= 0 (s=-0.0000e+00)\n",
            "\n",
            "ODE Message 3: LCP internal error, s <= 0 (s=-0.0000e+00)\n"
          ]
        },
        {
          "name": "stderr",
          "output_type": "stream",
          "text": [
            "\n",
            "ODE Message 3: LCP internal error, s <= 0 (s=-0.0000e+00)\n",
            "\n",
            "ODE Message 3: LCP internal error, s <= 0 (s=0.0000e+00)\n",
            "\n",
            "ODE Message 3: LCP internal error, s <= 0 (s=0.0000e+00)\n"
          ]
        },
        {
          "name": "stderr",
          "output_type": "stream",
          "text": [
            "\n",
            "ODE Message 3: LCP internal error, s <= 0 (s=-0.0000e+00)\n",
            "\n",
            "ODE Message 3: LCP internal error, s <= 0 (s=0.0000e+00)\n"
          ]
        },
        {
          "name": "stderr",
          "output_type": "stream",
          "text": [
            "\n",
            "ODE Message 3: LCP internal error, s <= 0 (s=-0.0000e+00)\n"
          ]
        },
        {
          "name": "stderr",
          "output_type": "stream",
          "text": [
            "\n",
            "ODE Message 3: LCP internal error, s <= 0 (s=0.0000e+00)\n"
          ]
        },
        {
          "name": "stderr",
          "output_type": "stream",
          "text": [
            "\n",
            "ODE Message 3: LCP internal error, s <= 0 (s=-0.0000e+00)\n"
          ]
        },
        {
          "name": "stderr",
          "output_type": "stream",
          "text": [
            "\n",
            "ODE Message 3: LCP internal error, s <= 0 (s=-0.0000e+00)\n"
          ]
        },
        {
          "name": "stderr",
          "output_type": "stream",
          "text": [
            "\n",
            "ODE Message 3: LCP internal error, s <= 0 (s=-0.0000e+00)\n"
          ]
        },
        {
          "name": "stderr",
          "output_type": "stream",
          "text": [
            "\n",
            "ODE Message 3: LCP internal error, s <= 0 (s=-0.0000e+00)\n"
          ]
        },
        {
          "name": "stderr",
          "output_type": "stream",
          "text": [
            "\n",
            "ODE Message 3: LCP internal error, s <= 0 (s=0.0000e+00)\n"
          ]
        },
        {
          "name": "stderr",
          "output_type": "stream",
          "text": [
            "\n",
            "ODE Message 3: LCP internal error, s <= 0 (s=0.0000e+00)\n"
          ]
        },
        {
          "name": "stderr",
          "output_type": "stream",
          "text": [
            "\n",
            "ODE Message 3: LCP internal error, s <= 0 (s=-0.0000e+00)\n"
          ]
        },
        {
          "name": "stderr",
          "output_type": "stream",
          "text": [
            "\n",
            "ODE Message 3: LCP internal error, s <= 0 (s=0.0000e+00)\n"
          ]
        },
        {
          "name": "stderr",
          "output_type": "stream",
          "text": [
            "\n",
            "ODE Message 3: LCP internal error, s <= 0 (s=-0.0000e+00)\n"
          ]
        },
        {
          "name": "stderr",
          "output_type": "stream",
          "text": [
            "\n",
            "ODE Message 3: LCP internal error, s <= 0 (s=0.0000e+00)\n"
          ]
        },
        {
          "name": "stderr",
          "output_type": "stream",
          "text": [
            "\n",
            "ODE Message 3: LCP internal error, s <= 0 (s=-0.0000e+00)\n",
            "\n",
            "ODE Message 3: LCP internal error, s <= 0 (s=-0.0000e+00)\n"
          ]
        },
        {
          "name": "stderr",
          "output_type": "stream",
          "text": [
            "\n",
            "ODE Message 3: LCP internal error, s <= 0 (s=-0.0000e+00)\n"
          ]
        },
        {
          "name": "stderr",
          "output_type": "stream",
          "text": [
            "\n",
            "ODE Message 3: LCP internal error, s <= 0 (s=0.0000e+00)\n"
          ]
        },
        {
          "name": "stderr",
          "output_type": "stream",
          "text": [
            "\n",
            "ODE Message 3: LCP internal error, s <= 0 (s=0.0000e+00)\n"
          ]
        },
        {
          "name": "stderr",
          "output_type": "stream",
          "text": [
            "\n",
            "ODE Message 3: LCP internal error, s <= 0 (s=0.0000e+00)\n"
          ]
        },
        {
          "name": "stderr",
          "output_type": "stream",
          "text": [
            "\n",
            "ODE Message 3: LCP internal error, s <= 0 (s=0.0000e+00)\n"
          ]
        },
        {
          "name": "stderr",
          "output_type": "stream",
          "text": [
            "\n",
            "ODE Message 3: LCP internal error, s <= 0 (s=0.0000e+00)\n",
            "\n",
            "ODE Message 3: LCP internal error, s <= 0 (s=-0.0000e+00)\n"
          ]
        },
        {
          "name": "stderr",
          "output_type": "stream",
          "text": [
            "\n",
            "ODE Message 3: LCP internal error, s <= 0 (s=-0.0000e+00)\n"
          ]
        },
        {
          "name": "stderr",
          "output_type": "stream",
          "text": [
            "\n",
            "ODE Message 3: LCP internal error, s <= 0 (s=0.0000e+00)\n",
            "\n",
            "ODE Message 3: LCP internal error, s <= 0 (s=0.0000e+00)\n"
          ]
        },
        {
          "name": "stderr",
          "output_type": "stream",
          "text": [
            "\n",
            "ODE Message 3: LCP internal error, s <= 0 (s=-0.0000e+00)\n",
            "\n",
            "ODE Message 3: LCP internal error, s <= 0 (s=-0.0000e+00)\n"
          ]
        },
        {
          "name": "stderr",
          "output_type": "stream",
          "text": [
            "\n",
            "ODE Message 3: LCP internal error, s <= 0 (s=0.0000e+00)\n"
          ]
        },
        {
          "name": "stderr",
          "output_type": "stream",
          "text": [
            "\n",
            "ODE Message 3: LCP internal error, s <= 0 (s=-0.0000e+00)\n",
            "\n",
            "ODE Message 3: LCP internal error, s <= 0 (s=-0.0000e+00)\n"
          ]
        },
        {
          "name": "stderr",
          "output_type": "stream",
          "text": [
            "\n",
            "ODE Message 3: LCP internal error, s <= 0 (s=-0.0000e+00)\n"
          ]
        },
        {
          "name": "stderr",
          "output_type": "stream",
          "text": [
            "\n",
            "ODE Message 3: LCP internal error, s <= 0 (s=-0.0000e+00)\n"
          ]
        },
        {
          "name": "stderr",
          "output_type": "stream",
          "text": [
            "\n",
            "ODE Message 3: LCP internal error, s <= 0 (s=-0.0000e+00)\n"
          ]
        },
        {
          "name": "stderr",
          "output_type": "stream",
          "text": [
            "\n",
            "ODE Message 3: LCP internal error, s <= 0 (s=-0.0000e+00)\n",
            "\n",
            "ODE Message 3: LCP internal error, s <= 0 (s=0.0000e+00)\n"
          ]
        },
        {
          "name": "stderr",
          "output_type": "stream",
          "text": [
            "\n",
            "ODE Message 3: LCP internal error, s <= 0 (s=0.0000e+00)\n"
          ]
        },
        {
          "name": "stderr",
          "output_type": "stream",
          "text": [
            "\n",
            "ODE Message 3: LCP internal error, s <= 0 (s=-0.0000e+00)\n",
            "\n",
            "ODE Message 3: LCP internal error, s <= 0 (s=-0.0000e+00)\n"
          ]
        },
        {
          "name": "stderr",
          "output_type": "stream",
          "text": [
            "\n",
            "ODE Message 3: LCP internal error, s <= 0 (s=-0.0000e+00)\n"
          ]
        },
        {
          "name": "stderr",
          "output_type": "stream",
          "text": [
            "\n",
            "ODE Message 3: LCP internal error, s <= 0 (s=-0.0000e+00)\n"
          ]
        },
        {
          "name": "stderr",
          "output_type": "stream",
          "text": [
            "\n",
            "ODE Message 3: LCP internal error, s <= 0 (s=0.0000e+00)\n"
          ]
        },
        {
          "name": "stderr",
          "output_type": "stream",
          "text": [
            "\n",
            "ODE Message 3: LCP internal error, s <= 0 (s=-0.0000e+00)\n"
          ]
        },
        {
          "name": "stderr",
          "output_type": "stream",
          "text": [
            "\n",
            "ODE Message 3: LCP internal error, s <= 0 (s=-0.0000e+00)\n"
          ]
        },
        {
          "name": "stderr",
          "output_type": "stream",
          "text": [
            "\n",
            "ODE Message 3: LCP internal error, s <= 0 (s=0.0000e+00)\n"
          ]
        },
        {
          "name": "stderr",
          "output_type": "stream",
          "text": [
            "\n",
            "ODE Message 3: LCP internal error, s <= 0 (s=0.0000e+00)\n"
          ]
        },
        {
          "name": "stderr",
          "output_type": "stream",
          "text": [
            "\n",
            "ODE Message 3: LCP internal error, s <= 0 (s=0.0000e+00)\n"
          ]
        },
        {
          "name": "stderr",
          "output_type": "stream",
          "text": [
            "\n",
            "ODE Message 3: LCP internal error, s <= 0 (s=0.0000e+00)\n"
          ]
        },
        {
          "name": "stderr",
          "output_type": "stream",
          "text": [
            "\n",
            "ODE Message 3: LCP internal error, s <= 0 (s=0.0000e+00)\n"
          ]
        },
        {
          "name": "stderr",
          "output_type": "stream",
          "text": [
            "\n",
            "ODE Message 3: LCP internal error, s <= 0 (s=0.0000e+00)\n"
          ]
        },
        {
          "name": "stderr",
          "output_type": "stream",
          "text": [
            "\n",
            "ODE Message 3: LCP internal error, s <= 0 (s=-0.0000e+00)\n"
          ]
        },
        {
          "name": "stderr",
          "output_type": "stream",
          "text": [
            "\n",
            "ODE Message 3: LCP internal error, s <= 0 (s=-0.0000e+00)\n"
          ]
        },
        {
          "name": "stderr",
          "output_type": "stream",
          "text": [
            "\n",
            "ODE Message 3: LCP internal error, s <= 0 (s=-0.0000e+00)\n"
          ]
        },
        {
          "name": "stderr",
          "output_type": "stream",
          "text": [
            "\n",
            "ODE Message 3: LCP internal error, s <= 0 (s=-0.0000e+00)\n"
          ]
        },
        {
          "name": "stderr",
          "output_type": "stream",
          "text": [
            "\n",
            "ODE Message 3: LCP internal error, s <= 0 (s=-0.0000e+00)\n"
          ]
        },
        {
          "name": "stderr",
          "output_type": "stream",
          "text": [
            "\n",
            "ODE Message 3: LCP internal error, s <= 0 (s=-0.0000e+00)\n"
          ]
        },
        {
          "name": "stderr",
          "output_type": "stream",
          "text": [
            "\n",
            "ODE Message 3: LCP internal error, s <= 0 (s=0.0000e+00)\n"
          ]
        },
        {
          "name": "stderr",
          "output_type": "stream",
          "text": [
            "\n",
            "ODE Message 3: LCP internal error, s <= 0 (s=0.0000e+00)\n"
          ]
        },
        {
          "name": "stderr",
          "output_type": "stream",
          "text": [
            "\n",
            "ODE Message 3: LCP internal error, s <= 0 (s=0.0000e+00)\n"
          ]
        },
        {
          "name": "stderr",
          "output_type": "stream",
          "text": [
            "\n",
            "ODE Message 3: LCP internal error, s <= 0 (s=-0.0000e+00)\n",
            "\n",
            "ODE Message 3: LCP internal error, s <= 0 (s=-0.0000e+00)\n"
          ]
        },
        {
          "name": "stderr",
          "output_type": "stream",
          "text": [
            "\n",
            "ODE Message 3: LCP internal error, s <= 0 (s=-0.0000e+00)\n",
            "\n",
            "ODE Message 3: LCP internal error, s <= 0 (s=-0.0000e+00)\n"
          ]
        },
        {
          "name": "stderr",
          "output_type": "stream",
          "text": [
            "\n",
            "ODE Message 3: LCP internal error, s <= 0 (s=0.0000e+00)\n"
          ]
        },
        {
          "name": "stderr",
          "output_type": "stream",
          "text": [
            "\n",
            "ODE Message 3: LCP internal error, s <= 0 (s=0.0000e+00)\n"
          ]
        },
        {
          "name": "stderr",
          "output_type": "stream",
          "text": [
            "\n",
            "ODE Message 3: LCP internal error, s <= 0 (s=0.0000e+00)\n",
            "\n",
            "ODE Message 3: LCP internal error, s <= 0 (s=-0.0000e+00)\n"
          ]
        },
        {
          "name": "stderr",
          "output_type": "stream",
          "text": [
            "\n",
            "ODE Message 3: LCP internal error, s <= 0 (s=-0.0000e+00)\n"
          ]
        },
        {
          "name": "stderr",
          "output_type": "stream",
          "text": [
            "\n",
            "ODE Message 3: LCP internal error, s <= 0 (s=-0.0000e+00)\n"
          ]
        },
        {
          "name": "stderr",
          "output_type": "stream",
          "text": [
            "\n",
            "ODE Message 3: LCP internal error, s <= 0 (s=-0.0000e+00)\n"
          ]
        },
        {
          "name": "stderr",
          "output_type": "stream",
          "text": [
            "\n",
            "ODE Message 3: LCP internal error, s <= 0 (s=0.0000e+00)\n"
          ]
        },
        {
          "name": "stderr",
          "output_type": "stream",
          "text": [
            "\n",
            "ODE Message 3: LCP internal error, s <= 0 (s=0.0000e+00)\n"
          ]
        },
        {
          "name": "stderr",
          "output_type": "stream",
          "text": [
            "\n",
            "ODE Message 3: LCP internal error, s <= 0 (s=-0.0000e+00)\n"
          ]
        },
        {
          "name": "stderr",
          "output_type": "stream",
          "text": [
            "\n",
            "ODE Message 3: LCP internal error, s <= 0 (s=-0.0000e+00)\n"
          ]
        },
        {
          "name": "stderr",
          "output_type": "stream",
          "text": [
            "\n",
            "ODE Message 3: LCP internal error, s <= 0 (s=-0.0000e+00)\n"
          ]
        },
        {
          "name": "stderr",
          "output_type": "stream",
          "text": [
            "\n",
            "ODE Message 3: LCP internal error, s <= 0 (s=-0.0000e+00)\n"
          ]
        },
        {
          "name": "stderr",
          "output_type": "stream",
          "text": [
            "\n",
            "ODE Message 3: LCP internal error, s <= 0 (s=0.0000e+00)\n"
          ]
        },
        {
          "name": "stderr",
          "output_type": "stream",
          "text": [
            "\n",
            "ODE Message 3: LCP internal error, s <= 0 (s=-0.0000e+00)\n"
          ]
        },
        {
          "name": "stderr",
          "output_type": "stream",
          "text": [
            "\n",
            "ODE Message 3: LCP internal error, s <= 0 (s=-0.0000e+00)\n"
          ]
        },
        {
          "name": "stderr",
          "output_type": "stream",
          "text": [
            "\n",
            "ODE Message 3: LCP internal error, s <= 0 (s=0.0000e+00)\n"
          ]
        },
        {
          "name": "stderr",
          "output_type": "stream",
          "text": [
            "\n",
            "ODE Message 3: LCP internal error, s <= 0 (s=0.0000e+00)\n"
          ]
        },
        {
          "name": "stderr",
          "output_type": "stream",
          "text": [
            "\n",
            "ODE Message 3: LCP internal error, s <= 0 (s=-0.0000e+00)\n"
          ]
        },
        {
          "name": "stderr",
          "output_type": "stream",
          "text": [
            "\n",
            "ODE Message 3: LCP internal error, s <= 0 (s=-1.3876e-09)\n"
          ]
        },
        {
          "name": "stderr",
          "output_type": "stream",
          "text": [
            "\n",
            "ODE Message 3: LCP internal error, s <= 0 (s=-0.0000e+00)\n"
          ]
        },
        {
          "name": "stderr",
          "output_type": "stream",
          "text": [
            "\n",
            "ODE Message 3: LCP internal error, s <= 0 (s=0.0000e+00)\n"
          ]
        },
        {
          "name": "stderr",
          "output_type": "stream",
          "text": [
            "\n",
            "ODE Message 3: LCP internal error, s <= 0 (s=-0.0000e+00)\n"
          ]
        },
        {
          "name": "stderr",
          "output_type": "stream",
          "text": [
            "\n",
            "ODE Message 3: LCP internal error, s <= 0 (s=0.0000e+00)\n"
          ]
        },
        {
          "name": "stderr",
          "output_type": "stream",
          "text": [
            "\n",
            "ODE Message 3: LCP internal error, s <= 0 (s=-0.0000e+00)\n"
          ]
        },
        {
          "name": "stderr",
          "output_type": "stream",
          "text": [
            "\n",
            "ODE Message 3: LCP internal error, s <= 0 (s=0.0000e+00)\n"
          ]
        },
        {
          "name": "stderr",
          "output_type": "stream",
          "text": [
            "\n",
            "ODE Message 3: LCP internal error, s <= 0 (s=0.0000e+00)\n"
          ]
        },
        {
          "name": "stderr",
          "output_type": "stream",
          "text": [
            "\n",
            "ODE Message 3: LCP internal error, s <= 0 (s=-0.0000e+00)\n"
          ]
        },
        {
          "name": "stderr",
          "output_type": "stream",
          "text": [
            "\n",
            "ODE Message 3: LCP internal error, s <= 0 (s=-0.0000e+00)\n",
            "\n",
            "ODE Message 3: LCP internal error, s <= 0 (s=0.0000e+00)\n"
          ]
        },
        {
          "name": "stderr",
          "output_type": "stream",
          "text": [
            "\n",
            "ODE Message 3: LCP internal error, s <= 0 (s=0.0000e+00)\n"
          ]
        },
        {
          "name": "stderr",
          "output_type": "stream",
          "text": [
            "\n",
            "ODE Message 3: LCP internal error, s <= 0 (s=-0.0000e+00)\n"
          ]
        },
        {
          "name": "stderr",
          "output_type": "stream",
          "text": [
            "\n",
            "ODE Message 3: LCP internal error, s <= 0 (s=-0.0000e+00)\n"
          ]
        },
        {
          "name": "stderr",
          "output_type": "stream",
          "text": [
            "\n",
            "ODE Message 3: LCP internal error, s <= 0 (s=-0.0000e+00)\n"
          ]
        },
        {
          "name": "stderr",
          "output_type": "stream",
          "text": [
            "\n",
            "ODE Message 3: LCP internal error, s <= 0 (s=-0.0000e+00)\n"
          ]
        },
        {
          "name": "stderr",
          "output_type": "stream",
          "text": [
            "\n",
            "ODE Message 3: LCP internal error, s <= 0 (s=0.0000e+00)\n"
          ]
        },
        {
          "name": "stderr",
          "output_type": "stream",
          "text": [
            "\n",
            "ODE Message 3: LCP internal error, s <= 0 (s=0.0000e+00)\n"
          ]
        },
        {
          "name": "stderr",
          "output_type": "stream",
          "text": [
            "\n",
            "ODE Message 3: LCP internal error, s <= 0 (s=0.0000e+00)\n"
          ]
        },
        {
          "name": "stderr",
          "output_type": "stream",
          "text": [
            "\n",
            "ODE Message 3: LCP internal error, s <= 0 (s=0.0000e+00)\n"
          ]
        },
        {
          "name": "stderr",
          "output_type": "stream",
          "text": [
            "\n",
            "ODE Message 3: LCP internal error, s <= 0 (s=-0.0000e+00)\n",
            "\n",
            "ODE Message 3: LCP internal error, s <= 0 (s=-0.0000e+00)\n"
          ]
        },
        {
          "name": "stderr",
          "output_type": "stream",
          "text": [
            "\n",
            "ODE Message 3: LCP internal error, s <= 0 (s=-0.0000e+00)\n",
            "\n",
            "ODE Message 3: LCP internal error, s <= 0 (s=-0.0000e+00)\n"
          ]
        },
        {
          "name": "stderr",
          "output_type": "stream",
          "text": [
            "\n",
            "ODE Message 3: LCP internal error, s <= 0 (s=0.0000e+00)\n"
          ]
        },
        {
          "name": "stderr",
          "output_type": "stream",
          "text": [
            "\n",
            "ODE Message 3: LCP internal error, s <= 0 (s=-0.0000e+00)\n"
          ]
        },
        {
          "name": "stderr",
          "output_type": "stream",
          "text": [
            "\n",
            "ODE Message 3: LCP internal error, s <= 0 (s=-0.0000e+00)\n",
            "\n",
            "ODE Message 3: LCP internal error, s <= 0 (s=0.0000e+00)\n"
          ]
        },
        {
          "name": "stderr",
          "output_type": "stream",
          "text": [
            "\n",
            "ODE Message 3: LCP internal error, s <= 0 (s=-0.0000e+00)\n",
            "\n",
            "ODE Message 3: LCP internal error, s <= 0 (s=0.0000e+00)\n",
            "\n",
            "ODE Message 3: LCP internal error, s <= 0 (s=-0.0000e+00)\n"
          ]
        },
        {
          "name": "stderr",
          "output_type": "stream",
          "text": [
            "\n",
            "ODE Message 3: LCP internal error, s <= 0 (s=-0.0000e+00)\n"
          ]
        },
        {
          "name": "stderr",
          "output_type": "stream",
          "text": [
            "\n",
            "ODE Message 3: LCP internal error, s <= 0 (s=-0.0000e+00)\n"
          ]
        },
        {
          "name": "stderr",
          "output_type": "stream",
          "text": [
            "\n",
            "ODE Message 3: LCP internal error, s <= 0 (s=-0.0000e+00)\n",
            "\n",
            "ODE Message 3: LCP internal error, s <= 0 (s=0.0000e+00)\n"
          ]
        },
        {
          "name": "stderr",
          "output_type": "stream",
          "text": [
            "\n",
            "ODE Message 3: LCP internal error, s <= 0 (s=-0.0000e+00)\n"
          ]
        },
        {
          "name": "stderr",
          "output_type": "stream",
          "text": [
            "\n",
            "ODE Message 3: LCP internal error, s <= 0 (s=-0.0000e+00)\n"
          ]
        },
        {
          "name": "stderr",
          "output_type": "stream",
          "text": [
            "\n",
            "ODE Message 3: LCP internal error, s <= 0 (s=0.0000e+00)\n"
          ]
        },
        {
          "name": "stderr",
          "output_type": "stream",
          "text": [
            "\n",
            "ODE Message 3: LCP internal error, s <= 0 (s=0.0000e+00)\n",
            "\n",
            "ODE Message 3: LCP internal error, s <= 0 (s=-0.0000e+00)\n"
          ]
        },
        {
          "name": "stderr",
          "output_type": "stream",
          "text": [
            "\n",
            "ODE Message 3: LCP internal error, s <= 0 (s=0.0000e+00)\n"
          ]
        },
        {
          "name": "stderr",
          "output_type": "stream",
          "text": [
            "\n",
            "ODE Message 3: LCP internal error, s <= 0 (s=-0.0000e+00)\n"
          ]
        },
        {
          "name": "stderr",
          "output_type": "stream",
          "text": [
            "\n",
            "ODE Message 3: LCP internal error, s <= 0 (s=0.0000e+00)\n",
            "\n",
            "ODE Message 3: LCP internal error, s <= 0 (s=-0.0000e+00)\n",
            "\n",
            "ODE Message 3: LCP internal error, s <= 0 (s=-0.0000e+00)\n",
            "\n",
            "ODE Message 3: LCP internal error, s <= 0 (s=-0.0000e+00)\n"
          ]
        },
        {
          "name": "stderr",
          "output_type": "stream",
          "text": [
            "\n",
            "ODE Message 3: LCP internal error, s <= 0 (s=-0.0000e+00)\n"
          ]
        },
        {
          "name": "stderr",
          "output_type": "stream",
          "text": [
            "\n",
            "ODE Message 3: LCP internal error, s <= 0 (s=0.0000e+00)\n"
          ]
        },
        {
          "name": "stderr",
          "output_type": "stream",
          "text": [
            "\n",
            "ODE Message 3: LCP internal error, s <= 0 (s=0.0000e+00)\n"
          ]
        },
        {
          "name": "stderr",
          "output_type": "stream",
          "text": [
            "\n",
            "ODE Message 3: LCP internal error, s <= 0 (s=0.0000e+00)\n"
          ]
        },
        {
          "name": "stderr",
          "output_type": "stream",
          "text": [
            "\n",
            "ODE Message 3: LCP internal error, s <= 0 (s=-0.0000e+00)\n"
          ]
        },
        {
          "name": "stderr",
          "output_type": "stream",
          "text": [
            "\n",
            "ODE Message 3: LCP internal error, s <= 0 (s=0.0000e+00)\n"
          ]
        },
        {
          "name": "stderr",
          "output_type": "stream",
          "text": [
            "\n",
            "ODE Message 3: LCP internal error, s <= 0 (s=0.0000e+00)\n"
          ]
        },
        {
          "name": "stderr",
          "output_type": "stream",
          "text": [
            "\n",
            "ODE Message 3: LCP internal error, s <= 0 (s=-0.0000e+00)\n"
          ]
        },
        {
          "name": "stderr",
          "output_type": "stream",
          "text": [
            "\n",
            "ODE Message 3: LCP internal error, s <= 0 (s=0.0000e+00)\n"
          ]
        },
        {
          "name": "stderr",
          "output_type": "stream",
          "text": [
            "\n",
            "ODE Message 3: LCP internal error, s <= 0 (s=-0.0000e+00)\n",
            "\n",
            "ODE Message 3: LCP internal error, s <= 0 (s=0.0000e+00)\n"
          ]
        },
        {
          "name": "stderr",
          "output_type": "stream",
          "text": [
            "\n",
            "ODE Message 3: LCP internal error, s <= 0 (s=0.0000e+00)\n",
            "\n",
            "ODE Message 3: LCP internal error, s <= 0 (s=-0.0000e+00)\n"
          ]
        },
        {
          "name": "stderr",
          "output_type": "stream",
          "text": [
            "\n",
            "ODE Message 3: LCP internal error, s <= 0 (s=-0.0000e+00)\n",
            "\n",
            "ODE Message 3: LCP internal error, s <= 0 (s=0.0000e+00)\n"
          ]
        },
        {
          "name": "stderr",
          "output_type": "stream",
          "text": [
            "\n",
            "ODE Message 3: LCP internal error, s <= 0 (s=-0.0000e+00)\n"
          ]
        },
        {
          "name": "stderr",
          "output_type": "stream",
          "text": [
            "\n",
            "ODE Message 3: LCP internal error, s <= 0 (s=-0.0000e+00)\n"
          ]
        },
        {
          "name": "stderr",
          "output_type": "stream",
          "text": [
            "\n",
            "ODE Message 3: LCP internal error, s <= 0 (s=-0.0000e+00)\n"
          ]
        },
        {
          "name": "stderr",
          "output_type": "stream",
          "text": [
            "\n",
            "ODE Message 3: LCP internal error, s <= 0 (s=0.0000e+00)\n"
          ]
        },
        {
          "name": "stderr",
          "output_type": "stream",
          "text": [
            "\n",
            "ODE Message 3: LCP internal error, s <= 0 (s=0.0000e+00)\n"
          ]
        },
        {
          "name": "stderr",
          "output_type": "stream",
          "text": [
            "\n",
            "ODE Message 3: LCP internal error, s <= 0 (s=-0.0000e+00)\n",
            "\n",
            "ODE Message 3: LCP internal error, s <= 0 (s=-0.0000e+00)\n",
            "\n",
            "ODE Message 3: LCP internal error, s <= 0 (s=0.0000e+00)\n"
          ]
        },
        {
          "name": "stderr",
          "output_type": "stream",
          "text": [
            "\n",
            "ODE Message 3: LCP internal error, s <= 0 (s=-0.0000e+00)\n"
          ]
        },
        {
          "name": "stderr",
          "output_type": "stream",
          "text": [
            "\n",
            "ODE Message 3: LCP internal error, s <= 0 (s=-0.0000e+00)\n"
          ]
        },
        {
          "name": "stderr",
          "output_type": "stream",
          "text": [
            "\n",
            "ODE Message 3: LCP internal error, s <= 0 (s=0.0000e+00)\n"
          ]
        },
        {
          "name": "stderr",
          "output_type": "stream",
          "text": [
            "\n",
            "ODE Message 3: LCP internal error, s <= 0 (s=0.0000e+00)\n",
            "\n",
            "ODE Message 3: LCP internal error, s <= 0 (s=0.0000e+00)\n",
            "\n",
            "ODE Message 3: LCP internal error, s <= 0 (s=-0.0000e+00)\n"
          ]
        },
        {
          "name": "stderr",
          "output_type": "stream",
          "text": [
            "\n",
            "ODE Message 3: LCP internal error, s <= 0 (s=0.0000e+00)\n"
          ]
        },
        {
          "name": "stderr",
          "output_type": "stream",
          "text": [
            "\n",
            "ODE Message 3: LCP internal error, s <= 0 (s=0.0000e+00)\n",
            "\n",
            "ODE Message 3: LCP internal error, s <= 0 (s=-0.0000e+00)\n"
          ]
        },
        {
          "name": "stderr",
          "output_type": "stream",
          "text": [
            "\n",
            "ODE Message 3: LCP internal error, s <= 0 (s=-0.0000e+00)\n"
          ]
        },
        {
          "name": "stderr",
          "output_type": "stream",
          "text": [
            "\n",
            "ODE Message 3: LCP internal error, s <= 0 (s=-0.0000e+00)\n",
            "\n",
            "ODE Message 3: LCP internal error, s <= 0 (s=0.0000e+00)\n",
            "\n",
            "ODE Message 3: LCP internal error, s <= 0 (s=0.0000e+00)\n"
          ]
        },
        {
          "name": "stderr",
          "output_type": "stream",
          "text": [
            "\n",
            "ODE Message 3: LCP internal error, s <= 0 (s=-0.0000e+00)\n"
          ]
        },
        {
          "name": "stderr",
          "output_type": "stream",
          "text": [
            "\n",
            "ODE Message 3: LCP internal error, s <= 0 (s=0.0000e+00)\n",
            "\n",
            "ODE Message 3: LCP internal error, s <= 0 (s=0.0000e+00)\n"
          ]
        },
        {
          "name": "stderr",
          "output_type": "stream",
          "text": [
            "\n",
            "ODE Message 3: LCP internal error, s <= 0 (s=-0.0000e+00)\n"
          ]
        },
        {
          "name": "stderr",
          "output_type": "stream",
          "text": [
            "\n",
            "ODE Message 3: LCP internal error, s <= 0 (s=0.0000e+00)\n"
          ]
        },
        {
          "name": "stderr",
          "output_type": "stream",
          "text": [
            "\n",
            "ODE Message 3: LCP internal error, s <= 0 (s=0.0000e+00)\n",
            "\n",
            "ODE Message 3: LCP internal error, s <= 0 (s=0.0000e+00)\n"
          ]
        },
        {
          "name": "stderr",
          "output_type": "stream",
          "text": [
            "\n",
            "ODE Message 3: LCP internal error, s <= 0 (s=0.0000e+00)\n"
          ]
        },
        {
          "name": "stderr",
          "output_type": "stream",
          "text": [
            "\n",
            "ODE Message 3: LCP internal error, s <= 0 (s=0.0000e+00)\n"
          ]
        },
        {
          "name": "stderr",
          "output_type": "stream",
          "text": [
            "\n",
            "ODE Message 3: LCP internal error, s <= 0 (s=0.0000e+00)\n"
          ]
        },
        {
          "name": "stderr",
          "output_type": "stream",
          "text": [
            "\n",
            "ODE Message 3: LCP internal error, s <= 0 (s=-0.0000e+00)\n",
            "\n",
            "ODE Message 3: LCP internal error, s <= 0 (s=-0.0000e+00)\n"
          ]
        },
        {
          "name": "stderr",
          "output_type": "stream",
          "text": [
            "\n",
            "ODE Message 3: LCP internal error, s <= 0 (s=-0.0000e+00)\n",
            "\n",
            "ODE Message 3: LCP internal error, s <= 0 (s=-0.0000e+00)\n",
            "\n",
            "ODE Message 3: LCP internal error, s <= 0 (s=-0.0000e+00)\n"
          ]
        },
        {
          "name": "stderr",
          "output_type": "stream",
          "text": [
            "\n",
            "ODE Message 3: LCP internal error, s <= 0 (s=-0.0000e+00)\n"
          ]
        },
        {
          "name": "stderr",
          "output_type": "stream",
          "text": [
            "\n",
            "ODE Message 3: LCP internal error, s <= 0 (s=0.0000e+00)\n",
            "\n",
            "ODE Message 3: LCP internal error, s <= 0 (s=-0.0000e+00)\n"
          ]
        },
        {
          "name": "stderr",
          "output_type": "stream",
          "text": [
            "\n",
            "ODE Message 3: LCP internal error, s <= 0 (s=0.0000e+00)\n"
          ]
        },
        {
          "name": "stderr",
          "output_type": "stream",
          "text": [
            "\n",
            "ODE Message 3: LCP internal error, s <= 0 (s=0.0000e+00)\n"
          ]
        },
        {
          "name": "stderr",
          "output_type": "stream",
          "text": [
            "\n",
            "ODE Message 3: LCP internal error, s <= 0 (s=0.0000e+00)\n"
          ]
        },
        {
          "name": "stderr",
          "output_type": "stream",
          "text": [
            "\n",
            "ODE Message 3: LCP internal error, s <= 0 (s=0.0000e+00)\n",
            "\n",
            "ODE Message 3: LCP internal error, s <= 0 (s=-0.0000e+00)\n"
          ]
        },
        {
          "name": "stderr",
          "output_type": "stream",
          "text": [
            "\n",
            "ODE Message 3: LCP internal error, s <= 0 (s=-0.0000e+00)\n",
            "\n",
            "ODE Message 3: LCP internal error, s <= 0 (s=0.0000e+00)\n",
            "\n",
            "ODE Message 3: LCP internal error, s <= 0 (s=0.0000e+00)\n"
          ]
        },
        {
          "name": "stderr",
          "output_type": "stream",
          "text": [
            "\n",
            "ODE Message 3: LCP internal error, s <= 0 (s=-0.0000e+00)\n"
          ]
        },
        {
          "name": "stderr",
          "output_type": "stream",
          "text": [
            "\n",
            "ODE Message 3: LCP internal error, s <= 0 (s=-0.0000e+00)\n"
          ]
        },
        {
          "name": "stderr",
          "output_type": "stream",
          "text": [
            "\n",
            "ODE Message 3: LCP internal error, s <= 0 (s=0.0000e+00)\n",
            "\n",
            "ODE Message 3: LCP internal error, s <= 0 (s=0.0000e+00)\n",
            "\n",
            "ODE Message 3: LCP internal error, s <= 0 (s=-0.0000e+00)\n"
          ]
        },
        {
          "name": "stderr",
          "output_type": "stream",
          "text": [
            "\n",
            "ODE Message 3: LCP internal error, s <= 0 (s=0.0000e+00)\n",
            "\n",
            "ODE Message 3: LCP internal error, s <= 0 (s=0.0000e+00)\n",
            "\n",
            "ODE Message 3: LCP internal error, s <= 0 (s=0.0000e+00)\n"
          ]
        },
        {
          "name": "stderr",
          "output_type": "stream",
          "text": [
            "\n",
            "ODE Message 3: LCP internal error, s <= 0 (s=0.0000e+00)\n"
          ]
        },
        {
          "name": "stderr",
          "output_type": "stream",
          "text": [
            "\n",
            "ODE Message 3: LCP internal error, s <= 0 (s=-0.0000e+00)\n",
            "\n",
            "ODE Message 3: LCP internal error, s <= 0 (s=0.0000e+00)\n"
          ]
        },
        {
          "name": "stderr",
          "output_type": "stream",
          "text": [
            "\n",
            "ODE Message 3: LCP internal error, s <= 0 (s=-0.0000e+00)\n",
            "\n",
            "ODE Message 3: LCP internal error, s <= 0 (s=0.0000e+00)\n"
          ]
        },
        {
          "name": "stderr",
          "output_type": "stream",
          "text": [
            "\n",
            "ODE Message 3: LCP internal error, s <= 0 (s=-0.0000e+00)\n",
            "\n",
            "ODE Message 3: LCP internal error, s <= 0 (s=0.0000e+00)\n"
          ]
        },
        {
          "name": "stderr",
          "output_type": "stream",
          "text": [
            "\n",
            "ODE Message 3: LCP internal error, s <= 0 (s=-0.0000e+00)\n"
          ]
        },
        {
          "name": "stderr",
          "output_type": "stream",
          "text": [
            "\n",
            "ODE Message 3: LCP internal error, s <= 0 (s=0.0000e+00)\n"
          ]
        },
        {
          "name": "stderr",
          "output_type": "stream",
          "text": [
            "\n",
            "ODE Message 3: LCP internal error, s <= 0 (s=0.0000e+00)\n"
          ]
        },
        {
          "name": "stderr",
          "output_type": "stream",
          "text": [
            "\n",
            "ODE Message 3: LCP internal error, s <= 0 (s=0.0000e+00)\n"
          ]
        },
        {
          "name": "stderr",
          "output_type": "stream",
          "text": [
            "\n",
            "ODE Message 3: LCP internal error, s <= 0 (s=0.0000e+00)\n",
            "\n",
            "ODE Message 3: LCP internal error, s <= 0 (s=0.0000e+00)\n"
          ]
        },
        {
          "name": "stderr",
          "output_type": "stream",
          "text": [
            "\n",
            "ODE Message 3: LCP internal error, s <= 0 (s=-0.0000e+00)\n",
            "\n",
            "ODE Message 3: LCP internal error, s <= 0 (s=-0.0000e+00)\n",
            "\n",
            "ODE Message 3: LCP internal error, s <= 0 (s=0.0000e+00)\n"
          ]
        },
        {
          "name": "stderr",
          "output_type": "stream",
          "text": [
            "\n",
            "ODE Message 3: LCP internal error, s <= 0 (s=-0.0000e+00)\n",
            "\n",
            "ODE Message 3: LCP internal error, s <= 0 (s=-0.0000e+00)\n",
            "\n",
            "ODE Message 3: LCP internal error, s <= 0 (s=0.0000e+00)\n"
          ]
        },
        {
          "name": "stderr",
          "output_type": "stream",
          "text": [
            "\n",
            "ODE Message 3: LCP internal error, s <= 0 (s=-0.0000e+00)\n",
            "\n",
            "ODE Message 3: LCP internal error, s <= 0 (s=-0.0000e+00)\n",
            "\n",
            "ODE Message 3: LCP internal error, s <= 0 (s=0.0000e+00)\n"
          ]
        },
        {
          "name": "stderr",
          "output_type": "stream",
          "text": [
            "\n",
            "ODE Message 3: LCP internal error, s <= 0 (s=-0.0000e+00)\n"
          ]
        },
        {
          "name": "stderr",
          "output_type": "stream",
          "text": [
            "\n",
            "ODE Message 3: LCP internal error, s <= 0 (s=0.0000e+00)\n",
            "\n",
            "ODE Message 3: LCP internal error, s <= 0 (s=-0.0000e+00)\n"
          ]
        },
        {
          "name": "stderr",
          "output_type": "stream",
          "text": [
            "\n",
            "ODE Message 3: LCP internal error, s <= 0 (s=0.0000e+00)\n"
          ]
        },
        {
          "name": "stderr",
          "output_type": "stream",
          "text": [
            "\n",
            "ODE Message 3: LCP internal error, s <= 0 (s=0.0000e+00)\n"
          ]
        },
        {
          "name": "stderr",
          "output_type": "stream",
          "text": [
            "\n",
            "ODE Message 3: LCP internal error, s <= 0 (s=0.0000e+00)\n"
          ]
        },
        {
          "name": "stderr",
          "output_type": "stream",
          "text": [
            "\n",
            "ODE Message 3: LCP internal error, s <= 0 (s=0.0000e+00)\n"
          ]
        },
        {
          "name": "stderr",
          "output_type": "stream",
          "text": [
            "\n",
            "ODE Message 3: LCP internal error, s <= 0 (s=0.0000e+00)\n"
          ]
        },
        {
          "name": "stderr",
          "output_type": "stream",
          "text": [
            "\n",
            "ODE Message 3: LCP internal error, s <= 0 (s=-0.0000e+00)\n"
          ]
        },
        {
          "name": "stderr",
          "output_type": "stream",
          "text": [
            "\n",
            "ODE Message 3: LCP internal error, s <= 0 (s=0.0000e+00)\n",
            "\n",
            "ODE Message 3: LCP internal error, s <= 0 (s=0.0000e+00)\n",
            "\n",
            "ODE Message 3: LCP internal error, s <= 0 (s=0.0000e+00)\n"
          ]
        },
        {
          "name": "stderr",
          "output_type": "stream",
          "text": [
            "\n",
            "ODE Message 3: LCP internal error, s <= 0 (s=-0.0000e+00)\n",
            "\n",
            "ODE Message 3: LCP internal error, s <= 0 (s=0.0000e+00)\n"
          ]
        },
        {
          "name": "stderr",
          "output_type": "stream",
          "text": [
            "\n",
            "ODE Message 3: LCP internal error, s <= 0 (s=0.0000e+00)\n",
            "\n",
            "ODE Message 3: LCP internal error, s <= 0 (s=0.0000e+00)\n"
          ]
        },
        {
          "name": "stderr",
          "output_type": "stream",
          "text": [
            "\n",
            "ODE Message 3: LCP internal error, s <= 0 (s=-0.0000e+00)\n",
            "\n",
            "ODE Message 3: LCP internal error, s <= 0 (s=0.0000e+00)\n"
          ]
        },
        {
          "name": "stderr",
          "output_type": "stream",
          "text": [
            "\n",
            "ODE Message 3: LCP internal error, s <= 0 (s=-0.0000e+00)\n"
          ]
        },
        {
          "name": "stderr",
          "output_type": "stream",
          "text": [
            "\n",
            "ODE Message 3: LCP internal error, s <= 0 (s=-0.0000e+00)\n"
          ]
        },
        {
          "name": "stderr",
          "output_type": "stream",
          "text": [
            "\n",
            "ODE Message 3: LCP internal error, s <= 0 (s=-0.0000e+00)\n",
            "\n",
            "ODE Message 3: LCP internal error, s <= 0 (s=0.0000e+00)\n"
          ]
        },
        {
          "name": "stderr",
          "output_type": "stream",
          "text": [
            "\n",
            "ODE Message 3: LCP internal error, s <= 0 (s=-0.0000e+00)\n",
            "\n",
            "ODE Message 3: LCP internal error, s <= 0 (s=-0.0000e+00)\n"
          ]
        },
        {
          "name": "stderr",
          "output_type": "stream",
          "text": [
            "\n",
            "ODE Message 3: LCP internal error, s <= 0 (s=-0.0000e+00)\n"
          ]
        },
        {
          "name": "stderr",
          "output_type": "stream",
          "text": [
            "\n",
            "ODE Message 3: LCP internal error, s <= 0 (s=0.0000e+00)\n",
            "\n",
            "ODE Message 3: LCP internal error, s <= 0 (s=0.0000e+00)\n"
          ]
        },
        {
          "name": "stderr",
          "output_type": "stream",
          "text": [
            "\n",
            "ODE Message 3: LCP internal error, s <= 0 (s=0.0000e+00)\n",
            "\n",
            "ODE Message 3: LCP internal error, s <= 0 (s=-0.0000e+00)\n",
            "\n",
            "ODE Message 3: LCP internal error, s <= 0 (s=-0.0000e+00)\n"
          ]
        },
        {
          "name": "stderr",
          "output_type": "stream",
          "text": [
            "\n",
            "ODE Message 3: LCP internal error, s <= 0 (s=0.0000e+00)\n",
            "\n",
            "ODE Message 3: LCP internal error, s <= 0 (s=-0.0000e+00)\n"
          ]
        },
        {
          "name": "stderr",
          "output_type": "stream",
          "text": [
            "\n",
            "ODE Message 3: LCP internal error, s <= 0 (s=0.0000e+00)\n",
            "\n",
            "ODE Message 3: LCP internal error, s <= 0 (s=0.0000e+00)\n",
            "\n",
            "ODE Message 3: LCP internal error, s <= 0 (s=0.0000e+00)\n"
          ]
        },
        {
          "name": "stderr",
          "output_type": "stream",
          "text": [
            "\n",
            "ODE Message 3: LCP internal error, s <= 0 (s=-0.0000e+00)\n"
          ]
        },
        {
          "name": "stderr",
          "output_type": "stream",
          "text": [
            "\n",
            "ODE Message 3: LCP internal error, s <= 0 (s=0.0000e+00)\n",
            "\n",
            "ODE Message 3: LCP internal error, s <= 0 (s=-0.0000e+00)\n",
            "\n",
            "ODE Message 3: LCP internal error, s <= 0 (s=-0.0000e+00)\n",
            "\n",
            "ODE Message 3: LCP internal error, s <= 0 (s=0.0000e+00)\n",
            "\n",
            "ODE Message 3: LCP internal error, s <= 0 (s=-0.0000e+00)\n"
          ]
        },
        {
          "name": "stderr",
          "output_type": "stream",
          "text": [
            "\n",
            "ODE Message 3: LCP internal error, s <= 0 (s=0.0000e+00)\n"
          ]
        },
        {
          "name": "stderr",
          "output_type": "stream",
          "text": [
            "\n",
            "ODE Message 3: LCP internal error, s <= 0 (s=-0.0000e+00)\n",
            "\n",
            "ODE Message 3: LCP internal error, s <= 0 (s=-0.0000e+00)\n"
          ]
        },
        {
          "name": "stderr",
          "output_type": "stream",
          "text": [
            "\n",
            "ODE Message 3: LCP internal error, s <= 0 (s=0.0000e+00)\n",
            "\n",
            "ODE Message 3: LCP internal error, s <= 0 (s=-0.0000e+00)\n"
          ]
        },
        {
          "name": "stderr",
          "output_type": "stream",
          "text": [
            "\n",
            "ODE Message 3: LCP internal error, s <= 0 (s=-0.0000e+00)\n",
            "\n",
            "ODE Message 3: LCP internal error, s <= 0 (s=-0.0000e+00)\n"
          ]
        },
        {
          "name": "stderr",
          "output_type": "stream",
          "text": [
            "\n",
            "ODE Message 3: LCP internal error, s <= 0 (s=-0.0000e+00)\n",
            "\n",
            "ODE Message 3: LCP internal error, s <= 0 (s=-0.0000e+00)\n",
            "\n",
            "ODE Message 3: LCP internal error, s <= 0 (s=-0.0000e+00)\n",
            "\n",
            "ODE Message 3: LCP internal error, s <= 0 (s=-0.0000e+00)\n"
          ]
        },
        {
          "name": "stderr",
          "output_type": "stream",
          "text": [
            "\n",
            "ODE Message 3: LCP internal error, s <= 0 (s=0.0000e+00)\n"
          ]
        },
        {
          "name": "stderr",
          "output_type": "stream",
          "text": [
            "\n",
            "ODE Message 3: LCP internal error, s <= 0 (s=-0.0000e+00)\n",
            "\n",
            "ODE Message 3: LCP internal error, s <= 0 (s=-0.0000e+00)\n"
          ]
        },
        {
          "name": "stderr",
          "output_type": "stream",
          "text": [
            "\n",
            "ODE Message 3: LCP internal error, s <= 0 (s=0.0000e+00)\n",
            "\n",
            "ODE Message 3: LCP internal error, s <= 0 (s=0.0000e+00)\n"
          ]
        },
        {
          "name": "stderr",
          "output_type": "stream",
          "text": [
            "\n",
            "ODE Message 3: LCP internal error, s <= 0 (s=-0.0000e+00)\n"
          ]
        },
        {
          "name": "stderr",
          "output_type": "stream",
          "text": [
            "\n",
            "ODE Message 3: LCP internal error, s <= 0 (s=0.0000e+00)\n"
          ]
        },
        {
          "name": "stderr",
          "output_type": "stream",
          "text": [
            "\n",
            "ODE Message 3: LCP internal error, s <= 0 (s=0.0000e+00)\n"
          ]
        },
        {
          "name": "stderr",
          "output_type": "stream",
          "text": [
            "\n",
            "ODE Message 3: LCP internal error, s <= 0 (s=0.0000e+00)\n"
          ]
        },
        {
          "name": "stderr",
          "output_type": "stream",
          "text": [
            "\n",
            "ODE Message 3: LCP internal error, s <= 0 (s=0.0000e+00)\n"
          ]
        },
        {
          "name": "stderr",
          "output_type": "stream",
          "text": [
            "\n",
            "ODE Message 3: LCP internal error, s <= 0 (s=0.0000e+00)\n",
            "\n",
            "ODE Message 3: LCP internal error, s <= 0 (s=-0.0000e+00)\n"
          ]
        },
        {
          "name": "stderr",
          "output_type": "stream",
          "text": [
            "\n",
            "ODE Message 3: LCP internal error, s <= 0 (s=-0.0000e+00)\n",
            "\n",
            "ODE Message 3: LCP internal error, s <= 0 (s=-0.0000e+00)\n",
            "\n",
            "ODE Message 3: LCP internal error, s <= 0 (s=-0.0000e+00)\n",
            "\n",
            "ODE Message 3: LCP internal error, s <= 0 (s=0.0000e+00)\n"
          ]
        },
        {
          "name": "stderr",
          "output_type": "stream",
          "text": [
            "\n",
            "ODE Message 3: LCP internal error, s <= 0 (s=-0.0000e+00)\n",
            "\n",
            "ODE Message 3: LCP internal error, s <= 0 (s=0.0000e+00)\n"
          ]
        },
        {
          "name": "stderr",
          "output_type": "stream",
          "text": [
            "\n",
            "ODE Message 3: LCP internal error, s <= 0 (s=0.0000e+00)\n",
            "\n",
            "ODE Message 3: LCP internal error, s <= 0 (s=0.0000e+00)\n"
          ]
        },
        {
          "name": "stderr",
          "output_type": "stream",
          "text": [
            "\n",
            "ODE Message 3: LCP internal error, s <= 0 (s=0.0000e+00)\n"
          ]
        },
        {
          "name": "stderr",
          "output_type": "stream",
          "text": [
            "\n",
            "ODE Message 3: LCP internal error, s <= 0 (s=0.0000e+00)\n",
            "\n",
            "ODE Message 3: LCP internal error, s <= 0 (s=-0.0000e+00)\n"
          ]
        },
        {
          "name": "stderr",
          "output_type": "stream",
          "text": [
            "\n",
            "ODE Message 3: LCP internal error, s <= 0 (s=-0.0000e+00)\n",
            "\n",
            "ODE Message 3: LCP internal error, s <= 0 (s=0.0000e+00)\n",
            "\n",
            "ODE Message 3: LCP internal error, s <= 0 (s=0.0000e+00)\n"
          ]
        },
        {
          "name": "stderr",
          "output_type": "stream",
          "text": [
            "\n",
            "ODE Message 3: LCP internal error, s <= 0 (s=-0.0000e+00)\n",
            "\n",
            "ODE Message 3: LCP internal error, s <= 0 (s=0.0000e+00)\n"
          ]
        },
        {
          "name": "stderr",
          "output_type": "stream",
          "text": [
            "\n",
            "ODE Message 3: LCP internal error, s <= 0 (s=0.0000e+00)\n",
            "\n",
            "ODE Message 3: LCP internal error, s <= 0 (s=0.0000e+00)\n",
            "\n",
            "ODE Message 3: LCP internal error, s <= 0 (s=0.0000e+00)\n"
          ]
        },
        {
          "name": "stderr",
          "output_type": "stream",
          "text": [
            "\n",
            "ODE Message 3: LCP internal error, s <= 0 (s=0.0000e+00)\n",
            "\n",
            "ODE Message 3: LCP internal error, s <= 0 (s=0.0000e+00)\n"
          ]
        },
        {
          "name": "stderr",
          "output_type": "stream",
          "text": [
            "\n",
            "ODE Message 3: LCP internal error, s <= 0 (s=0.0000e+00)\n",
            "\n",
            "ODE Message 3: LCP internal error, s <= 0 (s=-0.0000e+00)\n"
          ]
        },
        {
          "name": "stderr",
          "output_type": "stream",
          "text": [
            "\n",
            "ODE Message 3: LCP internal error, s <= 0 (s=0.0000e+00)\n",
            "\n",
            "ODE Message 3: LCP internal error, s <= 0 (s=0.0000e+00)\n"
          ]
        },
        {
          "name": "stderr",
          "output_type": "stream",
          "text": [
            "\n",
            "ODE Message 3: LCP internal error, s <= 0 (s=0.0000e+00)\n",
            "\n",
            "ODE Message 3: LCP internal error, s <= 0 (s=0.0000e+00)\n"
          ]
        },
        {
          "name": "stderr",
          "output_type": "stream",
          "text": [
            "\n",
            "ODE Message 3: LCP internal error, s <= 0 (s=-0.0000e+00)\n",
            "\n",
            "ODE Message 3: LCP internal error, s <= 0 (s=0.0000e+00)\n"
          ]
        },
        {
          "name": "stderr",
          "output_type": "stream",
          "text": [
            "\n",
            "ODE Message 3: LCP internal error, s <= 0 (s=-0.0000e+00)\n",
            "\n",
            "ODE Message 3: LCP internal error, s <= 0 (s=-0.0000e+00)\n"
          ]
        },
        {
          "name": "stderr",
          "output_type": "stream",
          "text": [
            "\n",
            "ODE Message 3: LCP internal error, s <= 0 (s=0.0000e+00)\n"
          ]
        },
        {
          "name": "stderr",
          "output_type": "stream",
          "text": [
            "\n",
            "ODE Message 3: LCP internal error, s <= 0 (s=-0.0000e+00)\n",
            "\n",
            "ODE Message 3: LCP internal error, s <= 0 (s=0.0000e+00)\n"
          ]
        },
        {
          "name": "stderr",
          "output_type": "stream",
          "text": [
            "\n",
            "ODE Message 3: LCP internal error, s <= 0 (s=0.0000e+00)\n",
            "\n",
            "ODE Message 3: LCP internal error, s <= 0 (s=-0.0000e+00)\n"
          ]
        },
        {
          "name": "stderr",
          "output_type": "stream",
          "text": [
            "\n",
            "ODE Message 3: LCP internal error, s <= 0 (s=0.0000e+00)\n",
            "\n",
            "ODE Message 3: LCP internal error, s <= 0 (s=0.0000e+00)\n"
          ]
        },
        {
          "name": "stderr",
          "output_type": "stream",
          "text": [
            "\n",
            "ODE Message 3: LCP internal error, s <= 0 (s=0.0000e+00)\n",
            "\n",
            "ODE Message 3: LCP internal error, s <= 0 (s=0.0000e+00)\n"
          ]
        },
        {
          "name": "stderr",
          "output_type": "stream",
          "text": [
            "\n",
            "ODE Message 3: LCP internal error, s <= 0 (s=-0.0000e+00)\n",
            "\n",
            "ODE Message 3: LCP internal error, s <= 0 (s=0.0000e+00)\n"
          ]
        },
        {
          "name": "stderr",
          "output_type": "stream",
          "text": [
            "\n",
            "ODE Message 3: LCP internal error, s <= 0 (s=0.0000e+00)\n",
            "\n",
            "ODE Message 3: LCP internal error, s <= 0 (s=-0.0000e+00)\n"
          ]
        },
        {
          "name": "stderr",
          "output_type": "stream",
          "text": [
            "\n",
            "ODE Message 3: LCP internal error, s <= 0 (s=-0.0000e+00)\n",
            "\n",
            "ODE Message 3: LCP internal error, s <= 0 (s=-0.0000e+00)\n"
          ]
        },
        {
          "name": "stderr",
          "output_type": "stream",
          "text": [
            "\n",
            "ODE Message 3: LCP internal error, s <= 0 (s=-0.0000e+00)\n",
            "\n",
            "ODE Message 3: LCP internal error, s <= 0 (s=0.0000e+00)\n"
          ]
        },
        {
          "name": "stderr",
          "output_type": "stream",
          "text": [
            "\n",
            "ODE Message 3: LCP internal error, s <= 0 (s=-0.0000e+00)\n"
          ]
        },
        {
          "name": "stderr",
          "output_type": "stream",
          "text": [
            "\n",
            "ODE Message 3: LCP internal error, s <= 0 (s=-0.0000e+00)\n"
          ]
        },
        {
          "name": "stderr",
          "output_type": "stream",
          "text": [
            "\n",
            "ODE Message 3: LCP internal error, s <= 0 (s=0.0000e+00)\n"
          ]
        },
        {
          "name": "stderr",
          "output_type": "stream",
          "text": [
            "\n",
            "ODE Message 3: LCP internal error, s <= 0 (s=-0.0000e+00)\n",
            "\n",
            "ODE Message 3: LCP internal error, s <= 0 (s=0.0000e+00)\n"
          ]
        },
        {
          "name": "stderr",
          "output_type": "stream",
          "text": [
            "\n",
            "ODE Message 3: LCP internal error, s <= 0 (s=-0.0000e+00)\n"
          ]
        },
        {
          "name": "stderr",
          "output_type": "stream",
          "text": [
            "\n",
            "ODE Message 3: LCP internal error, s <= 0 (s=0.0000e+00)\n"
          ]
        },
        {
          "name": "stderr",
          "output_type": "stream",
          "text": [
            "\n",
            "ODE Message 3: LCP internal error, s <= 0 (s=-0.0000e+00)\n"
          ]
        },
        {
          "name": "stderr",
          "output_type": "stream",
          "text": [
            "\n",
            "ODE Message 3: LCP internal error, s <= 0 (s=0.0000e+00)\n"
          ]
        },
        {
          "name": "stderr",
          "output_type": "stream",
          "text": [
            "\n",
            "ODE Message 3: LCP internal error, s <= 0 (s=-0.0000e+00)\n"
          ]
        },
        {
          "name": "stderr",
          "output_type": "stream",
          "text": [
            "\n",
            "ODE Message 3: LCP internal error, s <= 0 (s=0.0000e+00)\n",
            "\n",
            "ODE Message 3: LCP internal error, s <= 0 (s=-0.0000e+00)\n"
          ]
        },
        {
          "name": "stderr",
          "output_type": "stream",
          "text": [
            "\n",
            "ODE Message 3: LCP internal error, s <= 0 (s=0.0000e+00)\n"
          ]
        },
        {
          "name": "stderr",
          "output_type": "stream",
          "text": [
            "\n",
            "ODE Message 3: LCP internal error, s <= 0 (s=0.0000e+00)\n",
            "\n",
            "ODE Message 3: LCP internal error, s <= 0 (s=-0.0000e+00)\n",
            "\n",
            "ODE Message 3: LCP internal error, s <= 0 (s=0.0000e+00)\n"
          ]
        },
        {
          "name": "stderr",
          "output_type": "stream",
          "text": [
            "\n",
            "ODE Message 3: LCP internal error, s <= 0 (s=0.0000e+00)\n",
            "\n",
            "ODE Message 3: LCP internal error, s <= 0 (s=0.0000e+00)\n",
            "\n",
            "ODE Message 3: LCP internal error, s <= 0 (s=-0.0000e+00)\n",
            "\n",
            "ODE Message 3: LCP internal error, s <= 0 (s=-0.0000e+00)\n"
          ]
        },
        {
          "name": "stderr",
          "output_type": "stream",
          "text": [
            "\n",
            "ODE Message 3: LCP internal error, s <= 0 (s=-0.0000e+00)\n",
            "\n",
            "ODE Message 3: LCP internal error, s <= 0 (s=-0.0000e+00)\n"
          ]
        },
        {
          "name": "stderr",
          "output_type": "stream",
          "text": [
            "\n",
            "ODE Message 3: LCP internal error, s <= 0 (s=-0.0000e+00)\n",
            "\n",
            "ODE Message 3: LCP internal error, s <= 0 (s=0.0000e+00)\n"
          ]
        },
        {
          "name": "stderr",
          "output_type": "stream",
          "text": [
            "\n",
            "ODE Message 3: LCP internal error, s <= 0 (s=0.0000e+00)\n",
            "\n",
            "ODE Message 3: LCP internal error, s <= 0 (s=-0.0000e+00)\n",
            "\n",
            "ODE Message 3: LCP internal error, s <= 0 (s=0.0000e+00)\n"
          ]
        },
        {
          "name": "stderr",
          "output_type": "stream",
          "text": [
            "\n",
            "ODE Message 3: LCP internal error, s <= 0 (s=0.0000e+00)\n",
            "\n",
            "ODE Message 3: LCP internal error, s <= 0 (s=0.0000e+00)\n"
          ]
        },
        {
          "name": "stderr",
          "output_type": "stream",
          "text": [
            "\n",
            "ODE Message 3: LCP internal error, s <= 0 (s=-0.0000e+00)\n",
            "\n",
            "ODE Message 3: LCP internal error, s <= 0 (s=0.0000e+00)\n",
            "\n",
            "ODE Message 3: LCP internal error, s <= 0 (s=0.0000e+00)\n",
            "\n",
            "ODE Message 3: LCP internal error, s <= 0 (s=0.0000e+00)\n"
          ]
        },
        {
          "name": "stderr",
          "output_type": "stream",
          "text": [
            "\n",
            "ODE Message 3: LCP internal error, s <= 0 (s=-0.0000e+00)\n",
            "\n",
            "ODE Message 3: LCP internal error, s <= 0 (s=-0.0000e+00)\n"
          ]
        },
        {
          "name": "stderr",
          "output_type": "stream",
          "text": [
            "\n",
            "ODE Message 3: LCP internal error, s <= 0 (s=-0.0000e+00)\n",
            "\n",
            "ODE Message 3: LCP internal error, s <= 0 (s=0.0000e+00)\n",
            "\n",
            "ODE Message 3: LCP internal error, s <= 0 (s=0.0000e+00)\n"
          ]
        },
        {
          "name": "stderr",
          "output_type": "stream",
          "text": [
            "\n",
            "ODE Message 3: LCP internal error, s <= 0 (s=0.0000e+00)\n",
            "\n",
            "ODE Message 3: LCP internal error, s <= 0 (s=-0.0000e+00)\n",
            "\n",
            "ODE Message 3: LCP internal error, s <= 0 (s=0.0000e+00)\n"
          ]
        },
        {
          "name": "stderr",
          "output_type": "stream",
          "text": [
            "\n",
            "ODE Message 3: LCP internal error, s <= 0 (s=-0.0000e+00)\n"
          ]
        },
        {
          "name": "stderr",
          "output_type": "stream",
          "text": [
            "\n",
            "ODE Message 3: LCP internal error, s <= 0 (s=0.0000e+00)\n",
            "\n",
            "ODE Message 3: LCP internal error, s <= 0 (s=0.0000e+00)\n"
          ]
        },
        {
          "name": "stderr",
          "output_type": "stream",
          "text": [
            "\n",
            "ODE Message 3: LCP internal error, s <= 0 (s=-0.0000e+00)\n",
            "\n",
            "ODE Message 3: LCP internal error, s <= 0 (s=0.0000e+00)\n",
            "\n",
            "ODE Message 3: LCP internal error, s <= 0 (s=-0.0000e+00)\n",
            "\n",
            "ODE Message 3: LCP internal error, s <= 0 (s=0.0000e+00)\n"
          ]
        },
        {
          "name": "stderr",
          "output_type": "stream",
          "text": [
            "\n",
            "ODE Message 3: LCP internal error, s <= 0 (s=0.0000e+00)\n",
            "\n",
            "ODE Message 3: LCP internal error, s <= 0 (s=0.0000e+00)\n",
            "\n",
            "ODE Message 3: LCP internal error, s <= 0 (s=-0.0000e+00)\n"
          ]
        },
        {
          "name": "stderr",
          "output_type": "stream",
          "text": [
            "\n",
            "ODE Message 3: LCP internal error, s <= 0 (s=0.0000e+00)\n",
            "\n",
            "ODE Message 3: LCP internal error, s <= 0 (s=0.0000e+00)\n",
            "\n",
            "ODE Message 3: LCP internal error, s <= 0 (s=-0.0000e+00)\n"
          ]
        },
        {
          "name": "stderr",
          "output_type": "stream",
          "text": [
            "\n",
            "ODE Message 3: LCP internal error, s <= 0 (s=0.0000e+00)\n",
            "\n",
            "ODE Message 3: LCP internal error, s <= 0 (s=-0.0000e+00)\n",
            "\n",
            "ODE Message 3: LCP internal error, s <= 0 (s=0.0000e+00)\n"
          ]
        },
        {
          "name": "stderr",
          "output_type": "stream",
          "text": [
            "\n",
            "ODE Message 3: LCP internal error, s <= 0 (s=0.0000e+00)\n",
            "\n",
            "ODE Message 3: LCP internal error, s <= 0 (s=-0.0000e+00)\n"
          ]
        },
        {
          "name": "stderr",
          "output_type": "stream",
          "text": [
            "\n",
            "ODE Message 3: LCP internal error, s <= 0 (s=-0.0000e+00)\n",
            "\n",
            "ODE Message 3: LCP internal error, s <= 0 (s=0.0000e+00)\n",
            "\n",
            "ODE Message 3: LCP internal error, s <= 0 (s=-0.0000e+00)\n",
            "\n",
            "ODE Message 3: LCP internal error, s <= 0 (s=0.0000e+00)\n"
          ]
        },
        {
          "name": "stderr",
          "output_type": "stream",
          "text": [
            "\n",
            "ODE Message 3: LCP internal error, s <= 0 (s=-0.0000e+00)\n",
            "\n",
            "ODE Message 3: LCP internal error, s <= 0 (s=-0.0000e+00)\n",
            "\n",
            "ODE Message 3: LCP internal error, s <= 0 (s=0.0000e+00)\n"
          ]
        },
        {
          "name": "stderr",
          "output_type": "stream",
          "text": [
            "\n",
            "ODE Message 3: LCP internal error, s <= 0 (s=0.0000e+00)\n",
            "\n",
            "ODE Message 3: LCP internal error, s <= 0 (s=-0.0000e+00)\n"
          ]
        },
        {
          "name": "stderr",
          "output_type": "stream",
          "text": [
            "\n",
            "ODE Message 3: LCP internal error, s <= 0 (s=0.0000e+00)\n",
            "\n",
            "ODE Message 3: LCP internal error, s <= 0 (s=0.0000e+00)\n",
            "\n",
            "ODE Message 3: LCP internal error, s <= 0 (s=0.0000e+00)\n",
            "\n",
            "ODE Message 3: LCP internal error, s <= 0 (s=0.0000e+00)\n"
          ]
        },
        {
          "name": "stderr",
          "output_type": "stream",
          "text": [
            "\n",
            "ODE Message 3: LCP internal error, s <= 0 (s=-0.0000e+00)\n",
            "\n",
            "ODE Message 3: LCP internal error, s <= 0 (s=-0.0000e+00)\n",
            "\n",
            "ODE Message 3: LCP internal error, s <= 0 (s=-0.0000e+00)\n",
            "\n",
            "ODE Message 3: LCP internal error, s <= 0 (s=-0.0000e+00)\n"
          ]
        },
        {
          "name": "stderr",
          "output_type": "stream",
          "text": [
            "\n",
            "ODE Message 3: LCP internal error, s <= 0 (s=0.0000e+00)\n",
            "\n",
            "ODE Message 3: LCP internal error, s <= 0 (s=-0.0000e+00)\n",
            "\n",
            "ODE Message 3: LCP internal error, s <= 0 (s=0.0000e+00)\n",
            "\n",
            "ODE Message 3: LCP internal error, s <= 0 (s=0.0000e+00)\n"
          ]
        },
        {
          "name": "stderr",
          "output_type": "stream",
          "text": [
            "\n",
            "ODE Message 3: LCP internal error, s <= 0 (s=-0.0000e+00)\n",
            "\n",
            "ODE Message 3: LCP internal error, s <= 0 (s=0.0000e+00)\n",
            "\n",
            "ODE Message 3: LCP internal error, s <= 0 (s=0.0000e+00)\n"
          ]
        },
        {
          "name": "stderr",
          "output_type": "stream",
          "text": [
            "\n",
            "ODE Message 3: LCP internal error, s <= 0 (s=0.0000e+00)\n",
            "\n",
            "ODE Message 3: LCP internal error, s <= 0 (s=0.0000e+00)\n"
          ]
        },
        {
          "name": "stderr",
          "output_type": "stream",
          "text": [
            "\n",
            "ODE Message 3: LCP internal error, s <= 0 (s=0.0000e+00)\n",
            "\n",
            "ODE Message 3: LCP internal error, s <= 0 (s=-0.0000e+00)\n",
            "\n",
            "ODE Message 3: LCP internal error, s <= 0 (s=0.0000e+00)\n"
          ]
        },
        {
          "name": "stderr",
          "output_type": "stream",
          "text": [
            "\n",
            "ODE Message 3: LCP internal error, s <= 0 (s=-0.0000e+00)\n",
            "\n",
            "ODE Message 3: LCP internal error, s <= 0 (s=0.0000e+00)\n"
          ]
        },
        {
          "name": "stderr",
          "output_type": "stream",
          "text": [
            "\n",
            "ODE Message 3: LCP internal error, s <= 0 (s=-0.0000e+00)\n",
            "\n",
            "ODE Message 3: LCP internal error, s <= 0 (s=-0.0000e+00)\n"
          ]
        },
        {
          "name": "stderr",
          "output_type": "stream",
          "text": [
            "\n",
            "ODE Message 3: LCP internal error, s <= 0 (s=-0.0000e+00)\n",
            "\n",
            "ODE Message 3: LCP internal error, s <= 0 (s=0.0000e+00)\n",
            "\n",
            "ODE Message 3: LCP internal error, s <= 0 (s=0.0000e+00)\n",
            "\n",
            "ODE Message 3: LCP internal error, s <= 0 (s=-0.0000e+00)\n"
          ]
        },
        {
          "name": "stderr",
          "output_type": "stream",
          "text": [
            "\n",
            "ODE Message 3: LCP internal error, s <= 0 (s=0.0000e+00)\n",
            "\n",
            "ODE Message 3: LCP internal error, s <= 0 (s=-0.0000e+00)\n"
          ]
        },
        {
          "name": "stderr",
          "output_type": "stream",
          "text": [
            "\n",
            "ODE Message 3: LCP internal error, s <= 0 (s=0.0000e+00)\n"
          ]
        },
        {
          "name": "stderr",
          "output_type": "stream",
          "text": [
            "\n",
            "ODE Message 3: LCP internal error, s <= 0 (s=0.0000e+00)\n",
            "\n",
            "ODE Message 3: LCP internal error, s <= 0 (s=-0.0000e+00)\n"
          ]
        },
        {
          "name": "stderr",
          "output_type": "stream",
          "text": [
            "\n",
            "ODE Message 3: LCP internal error, s <= 0 (s=0.0000e+00)\n",
            "\n",
            "ODE Message 3: LCP internal error, s <= 0 (s=0.0000e+00)\n"
          ]
        },
        {
          "name": "stderr",
          "output_type": "stream",
          "text": [
            "\n",
            "ODE Message 3: LCP internal error, s <= 0 (s=-0.0000e+00)\n",
            "\n",
            "ODE Message 3: LCP internal error, s <= 0 (s=-0.0000e+00)\n",
            "\n",
            "ODE Message 3: LCP internal error, s <= 0 (s=0.0000e+00)\n"
          ]
        },
        {
          "name": "stderr",
          "output_type": "stream",
          "text": [
            "\n",
            "ODE Message 3: LCP internal error, s <= 0 (s=-0.0000e+00)\n",
            "\n",
            "ODE Message 3: LCP internal error, s <= 0 (s=-0.0000e+00)\n",
            "\n",
            "ODE Message 3: LCP internal error, s <= 0 (s=-0.0000e+00)\n",
            "\n",
            "ODE Message 3: LCP internal error, s <= 0 (s=0.0000e+00)\n"
          ]
        },
        {
          "name": "stderr",
          "output_type": "stream",
          "text": [
            "\n",
            "ODE Message 3: LCP internal error, s <= 0 (s=0.0000e+00)\n",
            "\n",
            "ODE Message 3: LCP internal error, s <= 0 (s=0.0000e+00)\n",
            "\n",
            "ODE Message 3: LCP internal error, s <= 0 (s=-0.0000e+00)\n"
          ]
        },
        {
          "name": "stderr",
          "output_type": "stream",
          "text": [
            "\n",
            "ODE Message 3: LCP internal error, s <= 0 (s=0.0000e+00)\n",
            "\n",
            "ODE Message 3: LCP internal error, s <= 0 (s=-0.0000e+00)\n"
          ]
        },
        {
          "name": "stderr",
          "output_type": "stream",
          "text": [
            "\n",
            "ODE Message 3: LCP internal error, s <= 0 (s=0.0000e+00)\n",
            "\n",
            "ODE Message 3: LCP internal error, s <= 0 (s=0.0000e+00)\n",
            "\n",
            "ODE Message 3: LCP internal error, s <= 0 (s=0.0000e+00)\n"
          ]
        },
        {
          "name": "stderr",
          "output_type": "stream",
          "text": [
            "\n",
            "ODE Message 3: LCP internal error, s <= 0 (s=0.0000e+00)\n",
            "\n",
            "ODE Message 3: LCP internal error, s <= 0 (s=0.0000e+00)\n",
            "\n",
            "ODE Message 3: LCP internal error, s <= 0 (s=-0.0000e+00)\n"
          ]
        },
        {
          "name": "stderr",
          "output_type": "stream",
          "text": [
            "\n",
            "ODE Message 3: LCP internal error, s <= 0 (s=0.0000e+00)\n",
            "\n",
            "ODE Message 3: LCP internal error, s <= 0 (s=-0.0000e+00)\n",
            "\n",
            "ODE Message 3: LCP internal error, s <= 0 (s=0.0000e+00)\n"
          ]
        },
        {
          "name": "stderr",
          "output_type": "stream",
          "text": [
            "\n",
            "ODE Message 3: LCP internal error, s <= 0 (s=0.0000e+00)\n",
            "\n",
            "ODE Message 3: LCP internal error, s <= 0 (s=-0.0000e+00)\n"
          ]
        },
        {
          "name": "stderr",
          "output_type": "stream",
          "text": [
            "\n",
            "ODE Message 3: LCP internal error, s <= 0 (s=0.0000e+00)\n",
            "\n",
            "ODE Message 3: LCP internal error, s <= 0 (s=0.0000e+00)\n"
          ]
        },
        {
          "name": "stderr",
          "output_type": "stream",
          "text": [
            "\n",
            "ODE Message 3: LCP internal error, s <= 0 (s=0.0000e+00)\n",
            "\n",
            "ODE Message 3: LCP internal error, s <= 0 (s=-0.0000e+00)\n",
            "\n",
            "ODE Message 3: LCP internal error, s <= 0 (s=0.0000e+00)\n",
            "\n",
            "ODE Message 3: LCP internal error, s <= 0 (s=-0.0000e+00)\n",
            "\n",
            "ODE Message 3: LCP internal error, s <= 0 (s=0.0000e+00)\n"
          ]
        },
        {
          "name": "stderr",
          "output_type": "stream",
          "text": [
            "\n",
            "ODE Message 3: LCP internal error, s <= 0 (s=0.0000e+00)\n",
            "\n",
            "ODE Message 3: LCP internal error, s <= 0 (s=-0.0000e+00)\n"
          ]
        },
        {
          "name": "stderr",
          "output_type": "stream",
          "text": [
            "\n",
            "ODE Message 3: LCP internal error, s <= 0 (s=0.0000e+00)\n",
            "\n",
            "ODE Message 3: LCP internal error, s <= 0 (s=0.0000e+00)\n",
            "\n",
            "ODE Message 3: LCP internal error, s <= 0 (s=0.0000e+00)\n",
            "\n",
            "ODE Message 3: LCP internal error, s <= 0 (s=0.0000e+00)\n",
            "\n",
            "ODE Message 3: LCP internal error, s <= 0 (s=0.0000e+00)\n"
          ]
        },
        {
          "name": "stderr",
          "output_type": "stream",
          "text": [
            "\n",
            "ODE Message 3: LCP internal error, s <= 0 (s=0.0000e+00)\n",
            "\n",
            "ODE Message 3: LCP internal error, s <= 0 (s=-0.0000e+00)\n"
          ]
        },
        {
          "name": "stderr",
          "output_type": "stream",
          "text": [
            "\n",
            "ODE Message 3: LCP internal error, s <= 0 (s=-0.0000e+00)\n",
            "\n",
            "ODE Message 3: LCP internal error, s <= 0 (s=0.0000e+00)\n"
          ]
        },
        {
          "name": "stderr",
          "output_type": "stream",
          "text": [
            "\n",
            "ODE Message 3: LCP internal error, s <= 0 (s=0.0000e+00)\n",
            "\n",
            "ODE Message 3: LCP internal error, s <= 0 (s=-0.0000e+00)\n"
          ]
        },
        {
          "name": "stderr",
          "output_type": "stream",
          "text": [
            "\n",
            "ODE Message 3: LCP internal error, s <= 0 (s=0.0000e+00)\n",
            "\n",
            "ODE Message 3: LCP internal error, s <= 0 (s=0.0000e+00)\n",
            "\n",
            "ODE Message 3: LCP internal error, s <= 0 (s=-0.0000e+00)\n",
            "\n",
            "ODE Message 3: LCP internal error, s <= 0 (s=0.0000e+00)\n"
          ]
        },
        {
          "name": "stderr",
          "output_type": "stream",
          "text": [
            "\n",
            "ODE Message 3: LCP internal error, s <= 0 (s=-0.0000e+00)\n",
            "\n",
            "ODE Message 3: LCP internal error, s <= 0 (s=-0.0000e+00)\n",
            "\n",
            "ODE Message 3: LCP internal error, s <= 0 (s=-0.0000e+00)\n"
          ]
        },
        {
          "name": "stderr",
          "output_type": "stream",
          "text": [
            "\n",
            "ODE Message 3: LCP internal error, s <= 0 (s=-0.0000e+00)\n",
            "\n",
            "ODE Message 3: LCP internal error, s <= 0 (s=-0.0000e+00)\n"
          ]
        },
        {
          "name": "stderr",
          "output_type": "stream",
          "text": [
            "\n",
            "ODE Message 3: LCP internal error, s <= 0 (s=-0.0000e+00)\n",
            "\n",
            "ODE Message 3: LCP internal error, s <= 0 (s=-0.0000e+00)\n"
          ]
        },
        {
          "name": "stderr",
          "output_type": "stream",
          "text": [
            "\n",
            "ODE Message 3: LCP internal error, s <= 0 (s=0.0000e+00)\n",
            "\n",
            "ODE Message 3: LCP internal error, s <= 0 (s=0.0000e+00)\n",
            "\n",
            "ODE Message 3: LCP internal error, s <= 0 (s=0.0000e+00)\n"
          ]
        },
        {
          "name": "stderr",
          "output_type": "stream",
          "text": [
            "\n",
            "ODE Message 3: LCP internal error, s <= 0 (s=0.0000e+00)\n"
          ]
        },
        {
          "name": "stderr",
          "output_type": "stream",
          "text": [
            "\n",
            "ODE Message 3: LCP internal error, s <= 0 (s=0.0000e+00)\n"
          ]
        },
        {
          "name": "stderr",
          "output_type": "stream",
          "text": [
            "\n",
            "ODE Message 3: LCP internal error, s <= 0 (s=-0.0000e+00)\n",
            "\n",
            "ODE Message 3: LCP internal error, s <= 0 (s=0.0000e+00)\n",
            "\n",
            "ODE Message 3: LCP internal error, s <= 0 (s=-0.0000e+00)\n"
          ]
        },
        {
          "name": "stderr",
          "output_type": "stream",
          "text": [
            "\n",
            "ODE Message 3: LCP internal error, s <= 0 (s=-0.0000e+00)\n"
          ]
        },
        {
          "name": "stderr",
          "output_type": "stream",
          "text": [
            "\n",
            "ODE Message 3: LCP internal error, s <= 0 (s=0.0000e+00)\n"
          ]
        },
        {
          "name": "stderr",
          "output_type": "stream",
          "text": [
            "\n",
            "ODE Message 3: LCP internal error, s <= 0 (s=-0.0000e+00)\n"
          ]
        },
        {
          "name": "stderr",
          "output_type": "stream",
          "text": [
            "\n",
            "ODE Message 3: LCP internal error, s <= 0 (s=0.0000e+00)\n"
          ]
        },
        {
          "name": "stderr",
          "output_type": "stream",
          "text": [
            "\n",
            "ODE Message 3: LCP internal error, s <= 0 (s=0.0000e+00)\n"
          ]
        },
        {
          "name": "stderr",
          "output_type": "stream",
          "text": [
            "\n",
            "ODE Message 3: LCP internal error, s <= 0 (s=0.0000e+00)\n"
          ]
        },
        {
          "name": "stderr",
          "output_type": "stream",
          "text": [
            "\n",
            "ODE Message 3: LCP internal error, s <= 0 (s=0.0000e+00)\n",
            "\n",
            "ODE Message 3: LCP internal error, s <= 0 (s=-0.0000e+00)\n"
          ]
        },
        {
          "name": "stderr",
          "output_type": "stream",
          "text": [
            "\n",
            "ODE Message 3: LCP internal error, s <= 0 (s=0.0000e+00)\n",
            "\n",
            "ODE Message 3: LCP internal error, s <= 0 (s=0.0000e+00)\n"
          ]
        },
        {
          "name": "stderr",
          "output_type": "stream",
          "text": [
            "\n",
            "ODE Message 3: LCP internal error, s <= 0 (s=-0.0000e+00)\n",
            "\n",
            "ODE Message 3: LCP internal error, s <= 0 (s=0.0000e+00)\n"
          ]
        },
        {
          "name": "stderr",
          "output_type": "stream",
          "text": [
            "\n",
            "ODE Message 3: LCP internal error, s <= 0 (s=-0.0000e+00)\n"
          ]
        }
      ],
      "source": [
        "model.learn(\n",
        "    total_timesteps=total_timesteps,\n",
        "    log_interval=log_interval,\n",
        "    callback=checkpoint_callback,\n",
        "    progress_bar=True)"
      ]
    },
    {
      "cell_type": "code",
      "execution_count": null,
      "metadata": {
        "gather": {
          "logged": 1717540959713
        }
      },
      "outputs": [],
      "source": [
        "model.save(f\"{save_path}/{model_filename_prefix}\")"
      ]
    }
  ],
  "metadata": {
    "kernel_info": {
      "name": "python310-sdkv2"
    },
    "kernelspec": {
      "display_name": "Python 3",
      "language": "python",
      "name": "python3"
    },
    "language_info": {
      "codemirror_mode": {
        "name": "ipython",
        "version": 3
      },
      "file_extension": ".py",
      "mimetype": "text/x-python",
      "name": "python",
      "nbconvert_exporter": "python",
      "pygments_lexer": "ipython3",
      "version": "3.10.12"
    },
    "microsoft": {
      "host": {
        "AzureML": {
          "notebookHasBeenCompleted": true
        }
      }
    },
    "nteract": {
      "version": "nteract-front-end@1.0.0"
    }
  },
  "nbformat": 4,
  "nbformat_minor": 2
}
