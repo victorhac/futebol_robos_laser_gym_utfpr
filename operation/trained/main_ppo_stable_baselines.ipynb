{
 "cells": [
  {
   "cell_type": "code",
   "execution_count": null,
   "metadata": {},
   "outputs": [],
   "source": [
    "from stable_baselines3 import PPO\n",
    "from stable_baselines3.common.vec_env import SubprocVecEnv\n",
    "from stable_baselines3.common.callbacks import CheckpointCallback\n",
    "\n",
    "from lib.environment.attacker.environment import Environment\n",
    "\n",
    "import numpy as np\n",
    "import os\n",
    "from datetime import datetime\n",
    "\n",
    "from lib.helpers.configuration_helper import ConfigurationHelper"
   ]
  },
  {
   "cell_type": "code",
   "execution_count": null,
   "metadata": {},
   "outputs": [],
   "source": [
    "task_training_name = \"attacker\"\n",
    "algorithm_name = \"ppo\""
   ]
  },
  {
   "cell_type": "code",
   "execution_count": null,
   "metadata": {},
   "outputs": [],
   "source": [
    "def create_env():\n",
    "    def _init():\n",
    "        return Environment()\n",
    "    return _init"
   ]
  },
  {
   "cell_type": "code",
   "execution_count": null,
   "metadata": {},
   "outputs": [],
   "source": [
    "def create_folder_if_not_exists(folder_path):\n",
    "    if not os.path.exists(folder_path):\n",
    "        os.makedirs(folder_path)"
   ]
  },
  {
   "cell_type": "code",
   "execution_count": null,
   "metadata": {},
   "outputs": [],
   "source": [
    "def get_task_models_path():\n",
    "    current_datetime = datetime.now()\n",
    "\n",
    "    year = current_datetime.year\n",
    "    month = current_datetime.month\n",
    "    day = current_datetime.day\n",
    "    hour = current_datetime.hour\n",
    "    minute = current_datetime.minute\n",
    "    second = current_datetime.second\n",
    "\n",
    "    datetime_name = f\"{year}_{month}_{day}_{hour}_{minute}_{second}\"\n",
    "\n",
    "    return f\"models/{task_training_name}/{algorithm_name}/{datetime_name}\""
   ]
  },
  {
   "cell_type": "code",
   "execution_count": null,
   "metadata": {},
   "outputs": [],
   "source": [
    "save_path = get_task_models_path()\n",
    "\n",
    "create_folder_if_not_exists(save_path)"
   ]
  },
  {
   "cell_type": "code",
   "execution_count": null,
   "metadata": {},
   "outputs": [],
   "source": [
    "num_threads = 1\n",
    "model_filename_prefix = \"PPO_model\""
   ]
  },
  {
   "cell_type": "code",
   "execution_count": null,
   "metadata": {},
   "outputs": [],
   "source": [
    "env = SubprocVecEnv([create_env() for i in range(num_threads)])\n",
    "\n",
    "n_actions = env.action_space.shape[-1]\n",
    "n_actions"
   ]
  },
  {
   "cell_type": "code",
   "execution_count": null,
   "metadata": {},
   "outputs": [],
   "source": [
    "gae_lambda = 0.95\n",
    "gamma = 0.99\n",
    "learning_rate = 0.0004\n",
    "clip_range = 0.2\n",
    "policy = \"MlpPolicy\"\n",
    "batch_size = 128"
   ]
  },
  {
   "cell_type": "code",
   "execution_count": null,
   "metadata": {},
   "outputs": [],
   "source": [
    "load_model = False\n",
    "loaded_model_path = \"\""
   ]
  },
  {
   "cell_type": "code",
   "execution_count": null,
   "metadata": {},
   "outputs": [],
   "source": [
    "model = PPO(\n",
    "    policy=policy,\n",
    "    env=env,\n",
    "    gamma=gamma,\n",
    "    gae_lambda=gae_lambda,\n",
    "    clip_range=clip_range,\n",
    "    batch_size=batch_size)\n",
    "\n",
    "if load_model:\n",
    "    model.set_parameters(loaded_model_path)"
   ]
  },
  {
   "cell_type": "code",
   "execution_count": null,
   "metadata": {},
   "outputs": [],
   "source": [
    "total_timesteps = 2000000"
   ]
  },
  {
   "cell_type": "code",
   "execution_count": null,
   "metadata": {},
   "outputs": [],
   "source": [
    "saved_model_number = 10\n",
    "save_freq = total_timesteps // (saved_model_number * num_threads)\n",
    "log_interval = total_timesteps // 10"
   ]
  },
  {
   "cell_type": "code",
   "execution_count": null,
   "metadata": {},
   "outputs": [],
   "source": [
    "checkpoint_callback = CheckpointCallback(\n",
    "    save_freq=save_freq,\n",
    "    save_path=save_path,\n",
    "    name_prefix=model_filename_prefix)"
   ]
  },
  {
   "cell_type": "code",
   "execution_count": null,
   "metadata": {},
   "outputs": [],
   "source": [
    "model.learn(\n",
    "    total_timesteps=total_timesteps,\n",
    "    log_interval=log_interval,\n",
    "    callback=checkpoint_callback,\n",
    "    progress_bar=True)"
   ]
  },
  {
   "cell_type": "code",
   "execution_count": null,
   "metadata": {},
   "outputs": [],
   "source": [
    "model.save(f\"{save_path}/{model_filename_prefix}\")"
   ]
  }
 ],
 "metadata": {
  "kernelspec": {
   "display_name": "Python 3",
   "language": "python",
   "name": "python3"
  },
  "language_info": {
   "codemirror_mode": {
    "name": "ipython",
    "version": 3
   },
   "file_extension": ".py",
   "mimetype": "text/x-python",
   "name": "python",
   "nbconvert_exporter": "python",
   "pygments_lexer": "ipython3",
   "version": "3.10.12"
  }
 },
 "nbformat": 4,
 "nbformat_minor": 2
}
