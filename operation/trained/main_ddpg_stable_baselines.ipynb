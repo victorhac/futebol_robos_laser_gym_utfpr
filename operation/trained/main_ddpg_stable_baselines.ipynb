{
 "cells": [
  {
   "cell_type": "code",
   "execution_count": null,
   "metadata": {},
   "outputs": [],
   "source": [
    "from stable_baselines3 import DDPG\n",
    "from stable_baselines3.common.vec_env import SubprocVecEnv\n",
    "from stable_baselines3.common.callbacks import CheckpointCallback\n",
    "\n",
    "from stable_baselines3.common.noise import OrnsteinUhlenbeckActionNoise\n",
    "from lib.environment.ball_following.environment import Environment\n",
    "import numpy as np\n",
    "import os\n",
    "from datetime import datetime"
   ]
  },
  {
   "cell_type": "code",
   "execution_count": null,
   "metadata": {},
   "outputs": [],
   "source": [
    "task_training_name = \"ball_following\""
   ]
  },
  {
   "cell_type": "code",
   "execution_count": null,
   "metadata": {},
   "outputs": [],
   "source": [
    "def create_env():\n",
    "    def _init():\n",
    "        return Environment()\n",
    "    return _init"
   ]
  },
  {
   "cell_type": "code",
   "execution_count": null,
   "metadata": {},
   "outputs": [],
   "source": [
    "def create_folder_if_not_exists(folder_path):\n",
    "    if not os.path.exists(folder_path):\n",
    "        os.makedirs(folder_path)"
   ]
  },
  {
   "cell_type": "code",
   "execution_count": null,
   "metadata": {},
   "outputs": [],
   "source": [
    "def get_task_models_path():\n",
    "    current_datetime = datetime.now()\n",
    "\n",
    "    year = current_datetime.year\n",
    "    month = current_datetime.month\n",
    "    day = current_datetime.day\n",
    "    hour = current_datetime.hour\n",
    "    minute = current_datetime.minute\n",
    "    second = current_datetime.second\n",
    "\n",
    "    datetime_name = f\"{year}_{month}_{day}_{hour}_{minute}_{second}\"\n",
    "\n",
    "    return f\"models/{task_training_name}/{datetime_name}\""
   ]
  },
  {
   "cell_type": "code",
   "execution_count": null,
   "metadata": {},
   "outputs": [],
   "source": [
    "save_path = get_task_models_path()\n",
    "\n",
    "create_folder_if_not_exists(save_path)"
   ]
  },
  {
   "cell_type": "code",
   "execution_count": null,
   "metadata": {},
   "outputs": [],
   "source": [
    "num_threads = 4\n",
    "model_filename_prefix = \"DDPG_model\""
   ]
  },
  {
   "cell_type": "code",
   "execution_count": null,
   "metadata": {},
   "outputs": [],
   "source": [
    "env = SubprocVecEnv([create_env() for i in range(num_threads)])\n",
    "\n",
    "n_actions = env.action_space.shape[-1]\n",
    "n_actions"
   ]
  },
  {
   "cell_type": "code",
   "execution_count": null,
   "metadata": {},
   "outputs": [],
   "source": [
    "std_dev = 0.2\n",
    "tau = 0.005\n",
    "gamma = 0.99\n",
    "learning_rate = 0.001\n",
    "policy = \"MlpPolicy\""
   ]
  },
  {
   "cell_type": "code",
   "execution_count": null,
   "metadata": {},
   "outputs": [],
   "source": [
    "action_noise = OrnsteinUhlenbeckActionNoise(mean=np.zeros(n_actions), sigma=0.1 * np.ones(n_actions))"
   ]
  },
  {
   "cell_type": "code",
   "execution_count": null,
   "metadata": {},
   "outputs": [],
   "source": [
    "model = DDPG(\n",
    "    policy=policy,\n",
    "    env=env,\n",
    "    tau=tau,\n",
    "    gamma=gamma,\n",
    "    action_noise=action_noise,\n",
    "    learning_rate=learning_rate,\n",
    "    verbose=2)"
   ]
  },
  {
   "cell_type": "code",
   "execution_count": null,
   "metadata": {},
   "outputs": [],
   "source": [
    "total_timesteps = 1000000"
   ]
  },
  {
   "cell_type": "code",
   "execution_count": null,
   "metadata": {},
   "outputs": [],
   "source": [
    "saved_model_number = 5\n",
    "save_freq = total_timesteps / (saved_model_number * num_threads)\n",
    "log_interval = total_timesteps / 10"
   ]
  },
  {
   "cell_type": "code",
   "execution_count": null,
   "metadata": {},
   "outputs": [],
   "source": [
    "checkpoint_callback = CheckpointCallback(\n",
    "    save_freq=save_freq,\n",
    "    save_path=save_path,\n",
    "    name_prefix=model_filename_prefix)"
   ]
  },
  {
   "cell_type": "code",
   "execution_count": null,
   "metadata": {},
   "outputs": [],
   "source": [
    "model.learn(\n",
    "    total_timesteps=total_timesteps,\n",
    "    log_interval=log_interval,\n",
    "    callback=checkpoint_callback,\n",
    "    progress_bar=True)"
   ]
  },
  {
   "cell_type": "code",
   "execution_count": null,
   "metadata": {},
   "outputs": [],
   "source": [
    "evaluation_env = Environment()\n",
    "\n",
    "for i in range(100):\n",
    "    obs = evaluation_env.reset()\n",
    "    reward = 0\n",
    "    done = False\n",
    "\n",
    "    while done is False:\n",
    "        action, state = model.predict(obs)\n",
    "        obs, recompensa, done, info = evaluation_env.step(action)\n",
    "        evaluation_env.render()"
   ]
  }
 ],
 "metadata": {
  "kernelspec": {
   "display_name": "Python 3",
   "language": "python",
   "name": "python3"
  },
  "language_info": {
   "codemirror_mode": {
    "name": "ipython",
    "version": 3
   },
   "file_extension": ".py",
   "mimetype": "text/x-python",
   "name": "python",
   "nbconvert_exporter": "python",
   "pygments_lexer": "ipython3",
   "version": "3.11.9"
  }
 },
 "nbformat": 4,
 "nbformat_minor": 2
}
