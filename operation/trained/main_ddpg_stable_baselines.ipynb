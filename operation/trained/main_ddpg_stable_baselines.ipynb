{
 "cells": [
  {
   "cell_type": "code",
   "execution_count": 1,
   "metadata": {},
   "outputs": [],
   "source": [
    "from stable_baselines3 import DDPG\n",
    "from stable_baselines3.common.vec_env import SubprocVecEnv\n",
    "from stable_baselines3.common.callbacks import CheckpointCallback\n",
    "\n",
    "from stable_baselines3.common.noise import OrnsteinUhlenbeckActionNoise\n",
    "from lib.environment.defensor.environment import Environment\n",
    "\n",
    "import numpy as np\n",
    "import os\n",
    "from datetime import datetime\n",
    "\n",
    "from lib.helpers.configuration_helper import ConfigurationHelper"
   ]
  },
  {
   "cell_type": "code",
   "execution_count": 2,
   "metadata": {},
   "outputs": [],
   "source": [
    "task_training_name = \"defensor\""
   ]
  },
  {
   "cell_type": "code",
   "execution_count": 3,
   "metadata": {},
   "outputs": [],
   "source": [
    "def create_env():\n",
    "    def _init():\n",
    "        return Environment()\n",
    "    return _init"
   ]
  },
  {
   "cell_type": "code",
   "execution_count": 4,
   "metadata": {},
   "outputs": [],
   "source": [
    "def create_folder_if_not_exists(folder_path):\n",
    "    if not os.path.exists(folder_path):\n",
    "        os.makedirs(folder_path)"
   ]
  },
  {
   "cell_type": "code",
   "execution_count": 5,
   "metadata": {},
   "outputs": [],
   "source": [
    "def get_task_models_path():\n",
    "    current_datetime = datetime.now()\n",
    "\n",
    "    year = current_datetime.year\n",
    "    month = current_datetime.month\n",
    "    day = current_datetime.day\n",
    "    hour = current_datetime.hour\n",
    "    minute = current_datetime.minute\n",
    "    second = current_datetime.second\n",
    "\n",
    "    datetime_name = f\"{year}_{month}_{day}_{hour}_{minute}_{second}\"\n",
    "\n",
    "    return f\"models/{task_training_name}/{datetime_name}\""
   ]
  },
  {
   "cell_type": "code",
   "execution_count": 6,
   "metadata": {},
   "outputs": [],
   "source": [
    "save_path = get_task_models_path()\n",
    "\n",
    "create_folder_if_not_exists(save_path)"
   ]
  },
  {
   "cell_type": "code",
   "execution_count": 7,
   "metadata": {},
   "outputs": [],
   "source": [
    "num_threads = 10\n",
    "model_filename_prefix = \"DDPG_model\""
   ]
  },
  {
   "cell_type": "code",
   "execution_count": 8,
   "metadata": {},
   "outputs": [
    {
     "name": "stderr",
     "output_type": "stream",
     "text": [
      "/home/informatica/.local/lib/python3.10/site-packages/stable_baselines3/common/vec_env/patch_gym.py:49: UserWarning: You provided an OpenAI Gym environment. We strongly recommend transitioning to Gymnasium environments. Stable-Baselines3 is automatically wrapping your environments in a compatibility layer, which could potentially cause issues.\n",
      "  warnings.warn(\n",
      "/home/informatica/.local/lib/python3.10/site-packages/stable_baselines3/common/vec_env/patch_gym.py:49: UserWarning: You provided an OpenAI Gym environment. We strongly recommend transitioning to Gymnasium environments. Stable-Baselines3 is automatically wrapping your environments in a compatibility layer, which could potentially cause issues.\n",
      "  warnings.warn(\n",
      "/home/informatica/.local/lib/python3.10/site-packages/stable_baselines3/common/vec_env/patch_gym.py:49: UserWarning: You provided an OpenAI Gym environment. We strongly recommend transitioning to Gymnasium environments. Stable-Baselines3 is automatically wrapping your environments in a compatibility layer, which could potentially cause issues.\n",
      "  warnings.warn(\n",
      "/home/informatica/.local/lib/python3.10/site-packages/stable_baselines3/common/vec_env/patch_gym.py:49: UserWarning: You provided an OpenAI Gym environment. We strongly recommend transitioning to Gymnasium environments. Stable-Baselines3 is automatically wrapping your environments in a compatibility layer, which could potentially cause issues.\n",
      "  warnings.warn(\n",
      "/home/informatica/.local/lib/python3.10/site-packages/stable_baselines3/common/vec_env/patch_gym.py:49: UserWarning: You provided an OpenAI Gym environment. We strongly recommend transitioning to Gymnasium environments. Stable-Baselines3 is automatically wrapping your environments in a compatibility layer, which could potentially cause issues.\n",
      "  warnings.warn(\n",
      "/home/informatica/.local/lib/python3.10/site-packages/stable_baselines3/common/vec_env/patch_gym.py:49: UserWarning: You provided an OpenAI Gym environment. We strongly recommend transitioning to Gymnasium environments. Stable-Baselines3 is automatically wrapping your environments in a compatibility layer, which could potentially cause issues.\n",
      "  warnings.warn(\n",
      "/home/informatica/.local/lib/python3.10/site-packages/stable_baselines3/common/vec_env/patch_gym.py:49: UserWarning: You provided an OpenAI Gym environment. We strongly recommend transitioning to Gymnasium environments. Stable-Baselines3 is automatically wrapping your environments in a compatibility layer, which could potentially cause issues.\n",
      "  warnings.warn(\n",
      "/home/informatica/.local/lib/python3.10/site-packages/stable_baselines3/common/vec_env/patch_gym.py:49: UserWarning: You provided an OpenAI Gym environment. We strongly recommend transitioning to Gymnasium environments. Stable-Baselines3 is automatically wrapping your environments in a compatibility layer, which could potentially cause issues.\n",
      "  warnings.warn(\n",
      "/home/informatica/.local/lib/python3.10/site-packages/stable_baselines3/common/vec_env/patch_gym.py:49: UserWarning: You provided an OpenAI Gym environment. We strongly recommend transitioning to Gymnasium environments. Stable-Baselines3 is automatically wrapping your environments in a compatibility layer, which could potentially cause issues.\n",
      "  warnings.warn(\n",
      "/home/informatica/.local/lib/python3.10/site-packages/stable_baselines3/common/vec_env/patch_gym.py:49: UserWarning: You provided an OpenAI Gym environment. We strongly recommend transitioning to Gymnasium environments. Stable-Baselines3 is automatically wrapping your environments in a compatibility layer, which could potentially cause issues.\n",
      "  warnings.warn(\n"
     ]
    },
    {
     "data": {
      "text/plain": [
       "2"
      ]
     },
     "execution_count": 8,
     "metadata": {},
     "output_type": "execute_result"
    }
   ],
   "source": [
    "env = SubprocVecEnv([create_env() for i in range(num_threads)])\n",
    "\n",
    "n_actions = env.action_space.shape[-1]\n",
    "n_actions"
   ]
  },
  {
   "cell_type": "code",
   "execution_count": 9,
   "metadata": {},
   "outputs": [],
   "source": [
    "time_step = ConfigurationHelper.get_rsoccer_training_time_step_seconds()"
   ]
  },
  {
   "cell_type": "code",
   "execution_count": 10,
   "metadata": {},
   "outputs": [],
   "source": [
    "action_noise = OrnsteinUhlenbeckActionNoise(mean=np.zeros(n_actions), sigma=.1 * np.ones(n_actions), dt=time_step)"
   ]
  },
  {
   "cell_type": "code",
   "execution_count": 11,
   "metadata": {},
   "outputs": [],
   "source": [
    "tau = 0.005\n",
    "gamma = 0.99\n",
    "learning_rate = 0.001\n",
    "policy = \"MlpPolicy\"\n",
    "buffer_size = 5_000_000\n",
    "batch_size = 128"
   ]
  },
  {
   "cell_type": "code",
   "execution_count": 12,
   "metadata": {},
   "outputs": [],
   "source": [
    "load_model = True\n",
    "loaded_model_path = \"models/defensor/2024_5_25_13_32_29/DDPG_model\""
   ]
  },
  {
   "cell_type": "code",
   "execution_count": 13,
   "metadata": {},
   "outputs": [
    {
     "name": "stdout",
     "output_type": "stream",
     "text": [
      "Using cpu device\n"
     ]
    }
   ],
   "source": [
    "model = DDPG(\n",
    "    policy=policy,\n",
    "    env=env,\n",
    "    tau=tau,\n",
    "    gamma=gamma,\n",
    "    action_noise=action_noise,\n",
    "    learning_rate=learning_rate,\n",
    "    buffer_size=buffer_size,\n",
    "    batch_size=batch_size)\n",
    "\n",
    "if load_model:\n",
    "    model.set_parameters(loaded_model_path)"
   ]
  },
  {
   "cell_type": "code",
   "execution_count": 14,
   "metadata": {},
   "outputs": [],
   "source": [
    "total_timesteps = 2000000"
   ]
  },
  {
   "cell_type": "code",
   "execution_count": 15,
   "metadata": {},
   "outputs": [],
   "source": [
    "saved_model_number = 10\n",
    "save_freq = total_timesteps // (saved_model_number * num_threads)\n",
    "log_interval = total_timesteps // 10"
   ]
  },
  {
   "cell_type": "code",
   "execution_count": 16,
   "metadata": {},
   "outputs": [],
   "source": [
    "checkpoint_callback = CheckpointCallback(\n",
    "    save_freq=save_freq,\n",
    "    save_path=save_path,\n",
    "    name_prefix=model_filename_prefix)"
   ]
  },
  {
   "cell_type": "code",
   "execution_count": 17,
   "metadata": {},
   "outputs": [
    {
     "data": {
      "application/vnd.jupyter.widget-view+json": {
       "model_id": "55522e66c27246c3a5c94447b628aced",
       "version_major": 2,
       "version_minor": 0
      },
      "text/plain": [
       "Output()"
      ]
     },
     "metadata": {},
     "output_type": "display_data"
    },
    {
     "name": "stderr",
     "output_type": "stream",
     "text": [
      "\n",
      "ODE Message 3: LCP internal error, s <= 0 (s=-0.0000e+00)\n"
     ]
    },
    {
     "name": "stderr",
     "output_type": "stream",
     "text": [
      "\n",
      "ODE Message 3: LCP internal error, s <= 0 (s=0.0000e+00)\n"
     ]
    },
    {
     "name": "stderr",
     "output_type": "stream",
     "text": [
      "\n",
      "ODE Message 3: LCP internal error, s <= 0 (s=-0.0000e+00)\n"
     ]
    },
    {
     "name": "stderr",
     "output_type": "stream",
     "text": [
      "\n",
      "ODE Message 3: LCP internal error, s <= 0 (s=-0.0000e+00)\n"
     ]
    },
    {
     "name": "stderr",
     "output_type": "stream",
     "text": [
      "\n",
      "ODE Message 3: LCP internal error, s <= 0 (s=0.0000e+00)\n"
     ]
    },
    {
     "name": "stderr",
     "output_type": "stream",
     "text": [
      "\n",
      "ODE Message 3: LCP internal error, s <= 0 (s=0.0000e+00)\n"
     ]
    },
    {
     "name": "stderr",
     "output_type": "stream",
     "text": [
      "\n",
      "ODE Message 3: LCP internal error, s <= 0 (s=-0.0000e+00)\n"
     ]
    },
    {
     "name": "stderr",
     "output_type": "stream",
     "text": [
      "\n",
      "ODE Message 3: LCP internal error, s <= 0 (s=0.0000e+00)\n"
     ]
    },
    {
     "name": "stderr",
     "output_type": "stream",
     "text": [
      "\n",
      "ODE Message 3: LCP internal error, s <= 0 (s=-0.0000e+00)\n"
     ]
    },
    {
     "name": "stderr",
     "output_type": "stream",
     "text": [
      "\n",
      "ODE Message 3: LCP internal error, s <= 0 (s=0.0000e+00)\n"
     ]
    },
    {
     "name": "stderr",
     "output_type": "stream",
     "text": [
      "\n",
      "ODE Message 3: LCP internal error, s <= 0 (s=0.0000e+00)\n"
     ]
    },
    {
     "name": "stderr",
     "output_type": "stream",
     "text": [
      "\n",
      "ODE Message 3: LCP internal error, s <= 0 (s=-0.0000e+00)\n"
     ]
    },
    {
     "name": "stderr",
     "output_type": "stream",
     "text": [
      "\n",
      "ODE Message 3: LCP internal error, s <= 0 (s=-0.0000e+00)\n"
     ]
    },
    {
     "name": "stderr",
     "output_type": "stream",
     "text": [
      "\n",
      "ODE Message 3: LCP internal error, s <= 0 (s=-0.0000e+00)\n"
     ]
    },
    {
     "name": "stderr",
     "output_type": "stream",
     "text": [
      "\n",
      "ODE Message 3: LCP internal error, s <= 0 (s=0.0000e+00)\n"
     ]
    },
    {
     "name": "stderr",
     "output_type": "stream",
     "text": [
      "\n",
      "ODE Message 3: LCP internal error, s <= 0 (s=0.0000e+00)\n"
     ]
    },
    {
     "name": "stderr",
     "output_type": "stream",
     "text": [
      "\n",
      "ODE Message 3: LCP internal error, s <= 0 (s=0.0000e+00)\n"
     ]
    },
    {
     "name": "stderr",
     "output_type": "stream",
     "text": [
      "\n",
      "ODE Message 3: LCP internal error, s <= 0 (s=-0.0000e+00)\n"
     ]
    },
    {
     "name": "stderr",
     "output_type": "stream",
     "text": [
      "\n",
      "ODE Message 3: LCP internal error, s <= 0 (s=0.0000e+00)\n"
     ]
    },
    {
     "name": "stderr",
     "output_type": "stream",
     "text": [
      "\n",
      "ODE Message 3: LCP internal error, s <= 0 (s=-0.0000e+00)\n"
     ]
    },
    {
     "name": "stderr",
     "output_type": "stream",
     "text": [
      "\n",
      "ODE Message 3: LCP internal error, s <= 0 (s=-0.0000e+00)\n"
     ]
    },
    {
     "name": "stderr",
     "output_type": "stream",
     "text": [
      "\n",
      "ODE Message 3: LCP internal error, s <= 0 (s=-0.0000e+00)\n"
     ]
    },
    {
     "name": "stderr",
     "output_type": "stream",
     "text": [
      "\n",
      "ODE Message 3: LCP internal error, s <= 0 (s=0.0000e+00)\n"
     ]
    },
    {
     "name": "stderr",
     "output_type": "stream",
     "text": [
      "\n",
      "ODE Message 3: LCP internal error, s <= 0 (s=-0.0000e+00)\n"
     ]
    },
    {
     "name": "stderr",
     "output_type": "stream",
     "text": [
      "\n",
      "ODE Message 3: LCP internal error, s <= 0 (s=0.0000e+00)\n"
     ]
    },
    {
     "name": "stderr",
     "output_type": "stream",
     "text": [
      "\n",
      "ODE Message 3: LCP internal error, s <= 0 (s=-0.0000e+00)\n"
     ]
    },
    {
     "name": "stderr",
     "output_type": "stream",
     "text": [
      "\n",
      "ODE Message 3: LCP internal error, s <= 0 (s=-0.0000e+00)\n"
     ]
    },
    {
     "name": "stderr",
     "output_type": "stream",
     "text": [
      "\n",
      "ODE Message 3: LCP internal error, s <= 0 (s=-0.0000e+00)\n"
     ]
    },
    {
     "name": "stderr",
     "output_type": "stream",
     "text": [
      "\n",
      "ODE Message 3: LCP internal error, s <= 0 (s=0.0000e+00)\n"
     ]
    },
    {
     "name": "stderr",
     "output_type": "stream",
     "text": [
      "\n",
      "ODE Message 3: LCP internal error, s <= 0 (s=0.0000e+00)\n"
     ]
    },
    {
     "name": "stderr",
     "output_type": "stream",
     "text": [
      "\n",
      "ODE Message 3: LCP internal error, s <= 0 (s=-0.0000e+00)\n"
     ]
    },
    {
     "name": "stderr",
     "output_type": "stream",
     "text": [
      "\n",
      "ODE Message 3: LCP internal error, s <= 0 (s=0.0000e+00)\n"
     ]
    },
    {
     "name": "stderr",
     "output_type": "stream",
     "text": [
      "\n",
      "ODE Message 3: LCP internal error, s <= 0 (s=-0.0000e+00)\n"
     ]
    },
    {
     "name": "stderr",
     "output_type": "stream",
     "text": [
      "\n",
      "ODE Message 3: LCP internal error, s <= 0 (s=0.0000e+00)\n"
     ]
    },
    {
     "name": "stderr",
     "output_type": "stream",
     "text": [
      "\n",
      "ODE Message 3: LCP internal error, s <= 0 (s=-0.0000e+00)\n"
     ]
    },
    {
     "name": "stderr",
     "output_type": "stream",
     "text": [
      "\n",
      "ODE Message 3: LCP internal error, s <= 0 (s=-0.0000e+00)\n"
     ]
    },
    {
     "name": "stderr",
     "output_type": "stream",
     "text": [
      "\n",
      "ODE Message 3: LCP internal error, s <= 0 (s=-0.0000e+00)\n"
     ]
    },
    {
     "name": "stderr",
     "output_type": "stream",
     "text": [
      "\n",
      "ODE Message 3: LCP internal error, s <= 0 (s=-0.0000e+00)\n"
     ]
    },
    {
     "name": "stderr",
     "output_type": "stream",
     "text": [
      "\n",
      "ODE Message 3: LCP internal error, s <= 0 (s=-0.0000e+00)\n"
     ]
    },
    {
     "name": "stderr",
     "output_type": "stream",
     "text": [
      "\n",
      "ODE Message 3: LCP internal error, s <= 0 (s=0.0000e+00)\n"
     ]
    },
    {
     "name": "stderr",
     "output_type": "stream",
     "text": [
      "\n",
      "ODE Message 3: LCP internal error, s <= 0 (s=0.0000e+00)\n"
     ]
    },
    {
     "name": "stderr",
     "output_type": "stream",
     "text": [
      "\n",
      "ODE Message 3: LCP internal error, s <= 0 (s=-0.0000e+00)\n"
     ]
    },
    {
     "name": "stderr",
     "output_type": "stream",
     "text": [
      "\n",
      "ODE Message 3: LCP internal error, s <= 0 (s=0.0000e+00)\n"
     ]
    },
    {
     "name": "stderr",
     "output_type": "stream",
     "text": [
      "\n",
      "ODE Message 3: LCP internal error, s <= 0 (s=-0.0000e+00)\n"
     ]
    },
    {
     "name": "stderr",
     "output_type": "stream",
     "text": [
      "\n",
      "ODE Message 3: LCP internal error, s <= 0 (s=-0.0000e+00)\n"
     ]
    },
    {
     "name": "stderr",
     "output_type": "stream",
     "text": [
      "\n",
      "ODE Message 3: LCP internal error, s <= 0 (s=0.0000e+00)\n"
     ]
    },
    {
     "name": "stderr",
     "output_type": "stream",
     "text": [
      "\n",
      "ODE Message 3: LCP internal error, s <= 0 (s=0.0000e+00)\n"
     ]
    },
    {
     "name": "stderr",
     "output_type": "stream",
     "text": [
      "\n",
      "ODE Message 3: LCP internal error, s <= 0 (s=-0.0000e+00)\n"
     ]
    },
    {
     "name": "stderr",
     "output_type": "stream",
     "text": [
      "\n",
      "ODE Message 3: LCP internal error, s <= 0 (s=-0.0000e+00)\n"
     ]
    },
    {
     "name": "stderr",
     "output_type": "stream",
     "text": [
      "\n",
      "ODE Message 3: LCP internal error, s <= 0 (s=-0.0000e+00)\n"
     ]
    },
    {
     "name": "stderr",
     "output_type": "stream",
     "text": [
      "\n",
      "ODE Message 3: LCP internal error, s <= 0 (s=-0.0000e+00)\n"
     ]
    },
    {
     "name": "stderr",
     "output_type": "stream",
     "text": [
      "\n",
      "ODE Message 3: LCP internal error, s <= 0 (s=-0.0000e+00)\n"
     ]
    },
    {
     "name": "stderr",
     "output_type": "stream",
     "text": [
      "\n",
      "ODE Message 3: LCP internal error, s <= 0 (s=0.0000e+00)\n"
     ]
    },
    {
     "name": "stderr",
     "output_type": "stream",
     "text": [
      "\n",
      "ODE Message 3: LCP internal error, s <= 0 (s=-0.0000e+00)\n"
     ]
    },
    {
     "name": "stderr",
     "output_type": "stream",
     "text": [
      "\n",
      "ODE Message 3: LCP internal error, s <= 0 (s=0.0000e+00)\n"
     ]
    },
    {
     "name": "stderr",
     "output_type": "stream",
     "text": [
      "\n",
      "ODE Message 3: LCP internal error, s <= 0 (s=-0.0000e+00)\n"
     ]
    },
    {
     "name": "stderr",
     "output_type": "stream",
     "text": [
      "\n",
      "ODE Message 3: LCP internal error, s <= 0 (s=-0.0000e+00)\n"
     ]
    },
    {
     "name": "stderr",
     "output_type": "stream",
     "text": [
      "\n",
      "ODE Message 3: LCP internal error, s <= 0 (s=-0.0000e+00)\n"
     ]
    },
    {
     "name": "stderr",
     "output_type": "stream",
     "text": [
      "\n",
      "ODE Message 3: LCP internal error, s <= 0 (s=0.0000e+00)\n"
     ]
    },
    {
     "name": "stderr",
     "output_type": "stream",
     "text": [
      "\n",
      "ODE Message 3: LCP internal error, s <= 0 (s=-0.0000e+00)\n"
     ]
    },
    {
     "name": "stderr",
     "output_type": "stream",
     "text": [
      "\n",
      "ODE Message 3: LCP internal error, s <= 0 (s=-0.0000e+00)\n"
     ]
    },
    {
     "name": "stderr",
     "output_type": "stream",
     "text": [
      "\n",
      "ODE Message 3: LCP internal error, s <= 0 (s=-0.0000e+00)\n"
     ]
    },
    {
     "name": "stderr",
     "output_type": "stream",
     "text": [
      "\n",
      "ODE Message 3: LCP internal error, s <= 0 (s=0.0000e+00)\n"
     ]
    },
    {
     "name": "stderr",
     "output_type": "stream",
     "text": [
      "\n",
      "ODE Message 3: LCP internal error, s <= 0 (s=0.0000e+00)\n"
     ]
    },
    {
     "name": "stderr",
     "output_type": "stream",
     "text": [
      "\n",
      "ODE Message 3: LCP internal error, s <= 0 (s=0.0000e+00)\n"
     ]
    },
    {
     "name": "stderr",
     "output_type": "stream",
     "text": [
      "\n",
      "ODE Message 3: LCP internal error, s <= 0 (s=0.0000e+00)\n"
     ]
    },
    {
     "name": "stderr",
     "output_type": "stream",
     "text": [
      "\n",
      "ODE Message 3: LCP internal error, s <= 0 (s=-0.0000e+00)\n"
     ]
    },
    {
     "name": "stderr",
     "output_type": "stream",
     "text": [
      "\n",
      "ODE Message 3: LCP internal error, s <= 0 (s=0.0000e+00)\n"
     ]
    },
    {
     "name": "stderr",
     "output_type": "stream",
     "text": [
      "\n",
      "ODE Message 3: LCP internal error, s <= 0 (s=-0.0000e+00)\n"
     ]
    },
    {
     "name": "stderr",
     "output_type": "stream",
     "text": [
      "\n",
      "ODE Message 3: LCP internal error, s <= 0 (s=0.0000e+00)\n"
     ]
    },
    {
     "name": "stderr",
     "output_type": "stream",
     "text": [
      "\n",
      "ODE Message 3: LCP internal error, s <= 0 (s=-0.0000e+00)\n"
     ]
    },
    {
     "name": "stderr",
     "output_type": "stream",
     "text": [
      "\n",
      "ODE Message 3: LCP internal error, s <= 0 (s=-0.0000e+00)\n"
     ]
    },
    {
     "name": "stderr",
     "output_type": "stream",
     "text": [
      "\n",
      "ODE Message 3: LCP internal error, s <= 0 (s=0.0000e+00)\n"
     ]
    },
    {
     "name": "stderr",
     "output_type": "stream",
     "text": [
      "\n",
      "ODE Message 3: LCP internal error, s <= 0 (s=-0.0000e+00)\n"
     ]
    },
    {
     "name": "stderr",
     "output_type": "stream",
     "text": [
      "\n",
      "ODE Message 3: LCP internal error, s <= 0 (s=-0.0000e+00)\n"
     ]
    },
    {
     "name": "stderr",
     "output_type": "stream",
     "text": [
      "\n",
      "ODE Message 3: LCP internal error, s <= 0 (s=-0.0000e+00)\n"
     ]
    },
    {
     "name": "stderr",
     "output_type": "stream",
     "text": [
      "\n",
      "ODE Message 3: LCP internal error, s <= 0 (s=0.0000e+00)\n"
     ]
    },
    {
     "name": "stderr",
     "output_type": "stream",
     "text": [
      "\n",
      "ODE Message 3: LCP internal error, s <= 0 (s=-0.0000e+00)\n"
     ]
    },
    {
     "name": "stderr",
     "output_type": "stream",
     "text": [
      "\n",
      "ODE Message 3: LCP internal error, s <= 0 (s=0.0000e+00)\n"
     ]
    },
    {
     "name": "stderr",
     "output_type": "stream",
     "text": [
      "\n",
      "ODE Message 3: LCP internal error, s <= 0 (s=-0.0000e+00)\n"
     ]
    },
    {
     "name": "stderr",
     "output_type": "stream",
     "text": [
      "\n",
      "ODE Message 3: LCP internal error, s <= 0 (s=0.0000e+00)\n"
     ]
    },
    {
     "name": "stderr",
     "output_type": "stream",
     "text": [
      "\n",
      "ODE Message 3: LCP internal error, s <= 0 (s=0.0000e+00)\n"
     ]
    },
    {
     "name": "stderr",
     "output_type": "stream",
     "text": [
      "\n",
      "ODE Message 3: LCP internal error, s <= 0 (s=0.0000e+00)\n"
     ]
    },
    {
     "name": "stderr",
     "output_type": "stream",
     "text": [
      "\n",
      "ODE Message 3: LCP internal error, s <= 0 (s=0.0000e+00)\n"
     ]
    },
    {
     "name": "stderr",
     "output_type": "stream",
     "text": [
      "\n",
      "ODE Message 3: LCP internal error, s <= 0 (s=-0.0000e+00)\n"
     ]
    },
    {
     "name": "stderr",
     "output_type": "stream",
     "text": [
      "\n",
      "ODE Message 3: LCP internal error, s <= 0 (s=0.0000e+00)\n"
     ]
    },
    {
     "name": "stderr",
     "output_type": "stream",
     "text": [
      "\n",
      "ODE Message 3: LCP internal error, s <= 0 (s=0.0000e+00)\n"
     ]
    },
    {
     "name": "stderr",
     "output_type": "stream",
     "text": [
      "\n",
      "ODE Message 3: LCP internal error, s <= 0 (s=-0.0000e+00)\n"
     ]
    },
    {
     "name": "stderr",
     "output_type": "stream",
     "text": [
      "\n",
      "ODE Message 3: LCP internal error, s <= 0 (s=-0.0000e+00)\n"
     ]
    },
    {
     "name": "stderr",
     "output_type": "stream",
     "text": [
      "\n",
      "ODE Message 3: LCP internal error, s <= 0 (s=0.0000e+00)\n"
     ]
    },
    {
     "name": "stderr",
     "output_type": "stream",
     "text": [
      "\n",
      "ODE Message 3: LCP internal error, s <= 0 (s=-0.0000e+00)\n"
     ]
    },
    {
     "name": "stderr",
     "output_type": "stream",
     "text": [
      "\n",
      "ODE Message 3: LCP internal error, s <= 0 (s=-0.0000e+00)\n"
     ]
    },
    {
     "name": "stderr",
     "output_type": "stream",
     "text": [
      "\n",
      "ODE Message 3: LCP internal error, s <= 0 (s=0.0000e+00)\n"
     ]
    },
    {
     "name": "stderr",
     "output_type": "stream",
     "text": [
      "\n",
      "ODE Message 3: LCP internal error, s <= 0 (s=0.0000e+00)\n"
     ]
    },
    {
     "name": "stderr",
     "output_type": "stream",
     "text": [
      "\n",
      "ODE Message 3: LCP internal error, s <= 0 (s=-0.0000e+00)\n"
     ]
    },
    {
     "name": "stderr",
     "output_type": "stream",
     "text": [
      "\n",
      "ODE Message 3: LCP internal error, s <= 0 (s=0.0000e+00)\n"
     ]
    },
    {
     "name": "stderr",
     "output_type": "stream",
     "text": [
      "\n",
      "ODE Message 3: LCP internal error, s <= 0 (s=-0.0000e+00)\n",
      "\n",
      "ODE Message 3: LCP internal error, s <= 0 (s=-0.0000e+00)\n"
     ]
    },
    {
     "name": "stderr",
     "output_type": "stream",
     "text": [
      "\n",
      "ODE Message 3: LCP internal error, s <= 0 (s=-0.0000e+00)\n"
     ]
    },
    {
     "name": "stderr",
     "output_type": "stream",
     "text": [
      "\n",
      "ODE Message 3: LCP internal error, s <= 0 (s=0.0000e+00)\n"
     ]
    },
    {
     "name": "stderr",
     "output_type": "stream",
     "text": [
      "\n",
      "ODE Message 3: LCP internal error, s <= 0 (s=0.0000e+00)\n"
     ]
    },
    {
     "name": "stderr",
     "output_type": "stream",
     "text": [
      "\n",
      "ODE Message 3: LCP internal error, s <= 0 (s=-0.0000e+00)\n"
     ]
    },
    {
     "name": "stderr",
     "output_type": "stream",
     "text": [
      "\n",
      "ODE Message 3: LCP internal error, s <= 0 (s=0.0000e+00)\n"
     ]
    },
    {
     "name": "stderr",
     "output_type": "stream",
     "text": [
      "\n",
      "ODE Message 3: LCP internal error, s <= 0 (s=0.0000e+00)\n"
     ]
    },
    {
     "name": "stderr",
     "output_type": "stream",
     "text": [
      "\n",
      "ODE Message 3: LCP internal error, s <= 0 (s=0.0000e+00)\n"
     ]
    },
    {
     "name": "stderr",
     "output_type": "stream",
     "text": [
      "\n",
      "ODE Message 3: LCP internal error, s <= 0 (s=-0.0000e+00)\n"
     ]
    },
    {
     "name": "stderr",
     "output_type": "stream",
     "text": [
      "\n",
      "ODE Message 3: LCP internal error, s <= 0 (s=-0.0000e+00)\n"
     ]
    },
    {
     "name": "stderr",
     "output_type": "stream",
     "text": [
      "\n",
      "ODE Message 3: LCP internal error, s <= 0 (s=-0.0000e+00)\n"
     ]
    },
    {
     "name": "stderr",
     "output_type": "stream",
     "text": [
      "\n",
      "ODE Message 3: LCP internal error, s <= 0 (s=0.0000e+00)\n"
     ]
    },
    {
     "name": "stderr",
     "output_type": "stream",
     "text": [
      "\n",
      "ODE Message 3: LCP internal error, s <= 0 (s=-0.0000e+00)\n"
     ]
    },
    {
     "name": "stderr",
     "output_type": "stream",
     "text": [
      "\n",
      "ODE Message 3: LCP internal error, s <= 0 (s=-0.0000e+00)\n"
     ]
    },
    {
     "name": "stderr",
     "output_type": "stream",
     "text": [
      "\n",
      "ODE Message 3: LCP internal error, s <= 0 (s=0.0000e+00)\n"
     ]
    },
    {
     "name": "stderr",
     "output_type": "stream",
     "text": [
      "\n",
      "ODE Message 3: LCP internal error, s <= 0 (s=0.0000e+00)\n"
     ]
    },
    {
     "name": "stderr",
     "output_type": "stream",
     "text": [
      "\n",
      "ODE Message 3: LCP internal error, s <= 0 (s=-0.0000e+00)\n"
     ]
    },
    {
     "name": "stderr",
     "output_type": "stream",
     "text": [
      "\n",
      "ODE Message 3: LCP internal error, s <= 0 (s=-0.0000e+00)\n"
     ]
    },
    {
     "name": "stderr",
     "output_type": "stream",
     "text": [
      "\n",
      "ODE Message 3: LCP internal error, s <= 0 (s=-0.0000e+00)\n"
     ]
    },
    {
     "name": "stderr",
     "output_type": "stream",
     "text": [
      "\n",
      "ODE Message 3: LCP internal error, s <= 0 (s=-0.0000e+00)\n"
     ]
    },
    {
     "name": "stderr",
     "output_type": "stream",
     "text": [
      "\n",
      "ODE Message 3: LCP internal error, s <= 0 (s=0.0000e+00)\n"
     ]
    },
    {
     "name": "stderr",
     "output_type": "stream",
     "text": [
      "\n",
      "ODE Message 3: LCP internal error, s <= 0 (s=-0.0000e+00)\n"
     ]
    },
    {
     "name": "stderr",
     "output_type": "stream",
     "text": [
      "\n",
      "ODE Message 3: LCP internal error, s <= 0 (s=0.0000e+00)\n"
     ]
    },
    {
     "name": "stderr",
     "output_type": "stream",
     "text": [
      "\n",
      "ODE Message 3: LCP internal error, s <= 0 (s=0.0000e+00)\n"
     ]
    },
    {
     "name": "stderr",
     "output_type": "stream",
     "text": [
      "\n",
      "ODE Message 3: LCP internal error, s <= 0 (s=0.0000e+00)\n"
     ]
    },
    {
     "name": "stderr",
     "output_type": "stream",
     "text": [
      "\n",
      "ODE Message 3: LCP internal error, s <= 0 (s=-0.0000e+00)\n"
     ]
    },
    {
     "name": "stderr",
     "output_type": "stream",
     "text": [
      "\n",
      "ODE Message 3: LCP internal error, s <= 0 (s=0.0000e+00)\n"
     ]
    },
    {
     "name": "stderr",
     "output_type": "stream",
     "text": [
      "\n",
      "ODE Message 3: LCP internal error, s <= 0 (s=0.0000e+00)\n"
     ]
    },
    {
     "name": "stderr",
     "output_type": "stream",
     "text": [
      "\n",
      "ODE Message 3: LCP internal error, s <= 0 (s=-0.0000e+00)\n"
     ]
    },
    {
     "name": "stderr",
     "output_type": "stream",
     "text": [
      "\n",
      "ODE Message 3: LCP internal error, s <= 0 (s=-0.0000e+00)\n"
     ]
    },
    {
     "name": "stderr",
     "output_type": "stream",
     "text": [
      "\n",
      "ODE Message 3: LCP internal error, s <= 0 (s=-1.5730e-08)\n"
     ]
    },
    {
     "name": "stderr",
     "output_type": "stream",
     "text": [
      "\n",
      "ODE Message 3: LCP internal error, s <= 0 (s=-0.0000e+00)\n"
     ]
    },
    {
     "name": "stderr",
     "output_type": "stream",
     "text": [
      "\n",
      "ODE Message 3: LCP internal error, s <= 0 (s=-0.0000e+00)\n"
     ]
    },
    {
     "name": "stderr",
     "output_type": "stream",
     "text": [
      "\n",
      "ODE Message 3: LCP internal error, s <= 0 (s=-0.0000e+00)\n"
     ]
    },
    {
     "name": "stderr",
     "output_type": "stream",
     "text": [
      "\n",
      "ODE Message 3: LCP internal error, s <= 0 (s=-0.0000e+00)\n"
     ]
    },
    {
     "name": "stderr",
     "output_type": "stream",
     "text": [
      "\n",
      "ODE Message 3: LCP internal error, s <= 0 (s=-1.6799e-10)\n"
     ]
    },
    {
     "name": "stderr",
     "output_type": "stream",
     "text": [
      "\n",
      "ODE Message 3: LCP internal error, s <= 0 (s=0.0000e+00)\n"
     ]
    },
    {
     "name": "stderr",
     "output_type": "stream",
     "text": [
      "\n",
      "ODE Message 3: LCP internal error, s <= 0 (s=0.0000e+00)\n"
     ]
    },
    {
     "name": "stderr",
     "output_type": "stream",
     "text": [
      "\n",
      "ODE Message 3: LCP internal error, s <= 0 (s=-0.0000e+00)\n"
     ]
    },
    {
     "name": "stderr",
     "output_type": "stream",
     "text": [
      "\n",
      "ODE Message 3: LCP internal error, s <= 0 (s=0.0000e+00)\n"
     ]
    },
    {
     "name": "stderr",
     "output_type": "stream",
     "text": [
      "\n",
      "ODE Message 3: LCP internal error, s <= 0 (s=-0.0000e+00)\n"
     ]
    },
    {
     "name": "stderr",
     "output_type": "stream",
     "text": [
      "\n",
      "ODE Message 3: LCP internal error, s <= 0 (s=0.0000e+00)\n"
     ]
    },
    {
     "name": "stderr",
     "output_type": "stream",
     "text": [
      "\n",
      "ODE Message 3: LCP internal error, s <= 0 (s=-0.0000e+00)\n"
     ]
    },
    {
     "name": "stderr",
     "output_type": "stream",
     "text": [
      "\n",
      "ODE Message 3: LCP internal error, s <= 0 (s=0.0000e+00)\n"
     ]
    },
    {
     "name": "stderr",
     "output_type": "stream",
     "text": [
      "\n",
      "ODE Message 3: LCP internal error, s <= 0 (s=-0.0000e+00)\n"
     ]
    },
    {
     "name": "stderr",
     "output_type": "stream",
     "text": [
      "\n",
      "ODE Message 3: LCP internal error, s <= 0 (s=0.0000e+00)\n"
     ]
    },
    {
     "name": "stderr",
     "output_type": "stream",
     "text": [
      "\n",
      "ODE Message 3: LCP internal error, s <= 0 (s=-0.0000e+00)\n"
     ]
    },
    {
     "name": "stderr",
     "output_type": "stream",
     "text": [
      "\n",
      "ODE Message 3: LCP internal error, s <= 0 (s=-0.0000e+00)\n"
     ]
    },
    {
     "name": "stderr",
     "output_type": "stream",
     "text": [
      "\n",
      "ODE Message 3: LCP internal error, s <= 0 (s=0.0000e+00)\n"
     ]
    },
    {
     "name": "stderr",
     "output_type": "stream",
     "text": [
      "\n",
      "ODE Message 3: LCP internal error, s <= 0 (s=0.0000e+00)\n"
     ]
    },
    {
     "name": "stderr",
     "output_type": "stream",
     "text": [
      "\n",
      "ODE Message 3: LCP internal error, s <= 0 (s=-0.0000e+00)\n"
     ]
    },
    {
     "name": "stderr",
     "output_type": "stream",
     "text": [
      "\n",
      "ODE Message 3: LCP internal error, s <= 0 (s=-0.0000e+00)\n"
     ]
    },
    {
     "name": "stderr",
     "output_type": "stream",
     "text": [
      "\n",
      "ODE Message 3: LCP internal error, s <= 0 (s=-0.0000e+00)\n"
     ]
    },
    {
     "name": "stderr",
     "output_type": "stream",
     "text": [
      "\n",
      "ODE Message 3: LCP internal error, s <= 0 (s=-0.0000e+00)\n"
     ]
    },
    {
     "name": "stderr",
     "output_type": "stream",
     "text": [
      "\n",
      "ODE Message 3: LCP internal error, s <= 0 (s=-0.0000e+00)\n"
     ]
    },
    {
     "name": "stderr",
     "output_type": "stream",
     "text": [
      "\n",
      "ODE Message 3: LCP internal error, s <= 0 (s=0.0000e+00)\n"
     ]
    },
    {
     "name": "stderr",
     "output_type": "stream",
     "text": [
      "\n",
      "ODE Message 3: LCP internal error, s <= 0 (s=0.0000e+00)\n"
     ]
    },
    {
     "name": "stderr",
     "output_type": "stream",
     "text": [
      "\n",
      "ODE Message 3: LCP internal error, s <= 0 (s=-0.0000e+00)\n"
     ]
    },
    {
     "name": "stderr",
     "output_type": "stream",
     "text": [
      "\n",
      "ODE Message 3: LCP internal error, s <= 0 (s=0.0000e+00)\n"
     ]
    },
    {
     "name": "stderr",
     "output_type": "stream",
     "text": [
      "\n",
      "ODE Message 3: LCP internal error, s <= 0 (s=0.0000e+00)\n"
     ]
    },
    {
     "name": "stderr",
     "output_type": "stream",
     "text": [
      "\n",
      "ODE Message 3: LCP internal error, s <= 0 (s=0.0000e+00)\n"
     ]
    },
    {
     "name": "stderr",
     "output_type": "stream",
     "text": [
      "\n",
      "ODE Message 3: LCP internal error, s <= 0 (s=0.0000e+00)\n"
     ]
    },
    {
     "name": "stderr",
     "output_type": "stream",
     "text": [
      "\n",
      "ODE Message 3: LCP internal error, s <= 0 (s=0.0000e+00)\n"
     ]
    },
    {
     "name": "stderr",
     "output_type": "stream",
     "text": [
      "\n",
      "ODE Message 3: LCP internal error, s <= 0 (s=0.0000e+00)\n"
     ]
    },
    {
     "name": "stderr",
     "output_type": "stream",
     "text": [
      "\n",
      "ODE Message 3: LCP internal error, s <= 0 (s=0.0000e+00)\n"
     ]
    },
    {
     "name": "stderr",
     "output_type": "stream",
     "text": [
      "\n",
      "ODE Message 3: LCP internal error, s <= 0 (s=0.0000e+00)\n"
     ]
    },
    {
     "name": "stderr",
     "output_type": "stream",
     "text": [
      "\n",
      "ODE Message 3: LCP internal error, s <= 0 (s=-0.0000e+00)\n"
     ]
    },
    {
     "name": "stderr",
     "output_type": "stream",
     "text": [
      "\n",
      "ODE Message 3: LCP internal error, s <= 0 (s=0.0000e+00)\n"
     ]
    },
    {
     "name": "stderr",
     "output_type": "stream",
     "text": [
      "\n",
      "ODE Message 3: LCP internal error, s <= 0 (s=-0.0000e+00)\n"
     ]
    },
    {
     "name": "stderr",
     "output_type": "stream",
     "text": [
      "\n",
      "ODE Message 3: LCP internal error, s <= 0 (s=-0.0000e+00)\n"
     ]
    },
    {
     "name": "stderr",
     "output_type": "stream",
     "text": [
      "\n",
      "ODE Message 3: LCP internal error, s <= 0 (s=0.0000e+00)\n"
     ]
    },
    {
     "name": "stderr",
     "output_type": "stream",
     "text": [
      "\n",
      "ODE Message 3: LCP internal error, s <= 0 (s=0.0000e+00)\n"
     ]
    },
    {
     "name": "stderr",
     "output_type": "stream",
     "text": [
      "\n",
      "ODE Message 3: LCP internal error, s <= 0 (s=-0.0000e+00)\n"
     ]
    },
    {
     "name": "stderr",
     "output_type": "stream",
     "text": [
      "\n",
      "ODE Message 3: LCP internal error, s <= 0 (s=0.0000e+00)\n"
     ]
    },
    {
     "name": "stderr",
     "output_type": "stream",
     "text": [
      "\n",
      "ODE Message 3: LCP internal error, s <= 0 (s=-0.0000e+00)\n"
     ]
    },
    {
     "name": "stderr",
     "output_type": "stream",
     "text": [
      "\n",
      "ODE Message 3: LCP internal error, s <= 0 (s=0.0000e+00)\n"
     ]
    },
    {
     "name": "stderr",
     "output_type": "stream",
     "text": [
      "\n",
      "ODE Message 3: LCP internal error, s <= 0 (s=-0.0000e+00)\n"
     ]
    },
    {
     "name": "stderr",
     "output_type": "stream",
     "text": [
      "\n",
      "ODE Message 3: LCP internal error, s <= 0 (s=-0.0000e+00)\n"
     ]
    },
    {
     "name": "stderr",
     "output_type": "stream",
     "text": [
      "\n",
      "ODE Message 3: LCP internal error, s <= 0 (s=0.0000e+00)\n"
     ]
    },
    {
     "name": "stderr",
     "output_type": "stream",
     "text": [
      "\n",
      "ODE Message 3: LCP internal error, s <= 0 (s=-0.0000e+00)\n"
     ]
    },
    {
     "name": "stderr",
     "output_type": "stream",
     "text": [
      "\n",
      "ODE Message 3: LCP internal error, s <= 0 (s=0.0000e+00)\n"
     ]
    },
    {
     "name": "stderr",
     "output_type": "stream",
     "text": [
      "\n",
      "ODE Message 3: LCP internal error, s <= 0 (s=0.0000e+00)\n"
     ]
    },
    {
     "name": "stderr",
     "output_type": "stream",
     "text": [
      "\n",
      "ODE Message 3: LCP internal error, s <= 0 (s=0.0000e+00)\n"
     ]
    },
    {
     "name": "stderr",
     "output_type": "stream",
     "text": [
      "\n",
      "ODE Message 3: LCP internal error, s <= 0 (s=-0.0000e+00)\n"
     ]
    },
    {
     "name": "stderr",
     "output_type": "stream",
     "text": [
      "\n",
      "ODE Message 3: LCP internal error, s <= 0 (s=-0.0000e+00)\n"
     ]
    },
    {
     "name": "stderr",
     "output_type": "stream",
     "text": [
      "\n",
      "ODE Message 3: LCP internal error, s <= 0 (s=0.0000e+00)\n"
     ]
    },
    {
     "name": "stderr",
     "output_type": "stream",
     "text": [
      "\n",
      "ODE Message 3: LCP internal error, s <= 0 (s=-0.0000e+00)\n"
     ]
    },
    {
     "name": "stderr",
     "output_type": "stream",
     "text": [
      "\n",
      "ODE Message 3: LCP internal error, s <= 0 (s=0.0000e+00)\n"
     ]
    },
    {
     "name": "stderr",
     "output_type": "stream",
     "text": [
      "\n",
      "ODE Message 3: LCP internal error, s <= 0 (s=-0.0000e+00)\n"
     ]
    },
    {
     "name": "stderr",
     "output_type": "stream",
     "text": [
      "\n",
      "ODE Message 3: LCP internal error, s <= 0 (s=0.0000e+00)\n"
     ]
    },
    {
     "name": "stderr",
     "output_type": "stream",
     "text": [
      "\n",
      "ODE Message 3: LCP internal error, s <= 0 (s=0.0000e+00)\n"
     ]
    },
    {
     "name": "stderr",
     "output_type": "stream",
     "text": [
      "\n",
      "ODE Message 3: LCP internal error, s <= 0 (s=-0.0000e+00)\n"
     ]
    },
    {
     "name": "stderr",
     "output_type": "stream",
     "text": [
      "\n",
      "ODE Message 3: LCP internal error, s <= 0 (s=-0.0000e+00)\n"
     ]
    },
    {
     "name": "stderr",
     "output_type": "stream",
     "text": [
      "\n",
      "ODE Message 3: LCP internal error, s <= 0 (s=-0.0000e+00)\n"
     ]
    },
    {
     "name": "stderr",
     "output_type": "stream",
     "text": [
      "\n",
      "ODE Message 3: LCP internal error, s <= 0 (s=0.0000e+00)\n"
     ]
    },
    {
     "name": "stderr",
     "output_type": "stream",
     "text": [
      "\n",
      "ODE Message 3: LCP internal error, s <= 0 (s=-0.0000e+00)\n"
     ]
    },
    {
     "name": "stderr",
     "output_type": "stream",
     "text": [
      "\n",
      "ODE Message 3: LCP internal error, s <= 0 (s=0.0000e+00)\n"
     ]
    },
    {
     "name": "stderr",
     "output_type": "stream",
     "text": [
      "\n",
      "ODE Message 3: LCP internal error, s <= 0 (s=-0.0000e+00)\n"
     ]
    },
    {
     "name": "stderr",
     "output_type": "stream",
     "text": [
      "\n",
      "ODE Message 3: LCP internal error, s <= 0 (s=0.0000e+00)\n"
     ]
    },
    {
     "name": "stderr",
     "output_type": "stream",
     "text": [
      "\n",
      "ODE Message 3: LCP internal error, s <= 0 (s=-0.0000e+00)\n"
     ]
    },
    {
     "name": "stderr",
     "output_type": "stream",
     "text": [
      "\n",
      "ODE Message 3: LCP internal error, s <= 0 (s=0.0000e+00)\n"
     ]
    },
    {
     "name": "stderr",
     "output_type": "stream",
     "text": [
      "\n",
      "ODE Message 3: LCP internal error, s <= 0 (s=-0.0000e+00)\n"
     ]
    },
    {
     "name": "stderr",
     "output_type": "stream",
     "text": [
      "\n",
      "ODE Message 3: LCP internal error, s <= 0 (s=-0.0000e+00)\n"
     ]
    },
    {
     "name": "stderr",
     "output_type": "stream",
     "text": [
      "\n",
      "ODE Message 3: LCP internal error, s <= 0 (s=-0.0000e+00)\n"
     ]
    },
    {
     "name": "stderr",
     "output_type": "stream",
     "text": [
      "\n",
      "ODE Message 3: LCP internal error, s <= 0 (s=0.0000e+00)\n"
     ]
    },
    {
     "name": "stderr",
     "output_type": "stream",
     "text": [
      "\n",
      "ODE Message 3: LCP internal error, s <= 0 (s=0.0000e+00)\n"
     ]
    },
    {
     "name": "stderr",
     "output_type": "stream",
     "text": [
      "\n",
      "ODE Message 3: LCP internal error, s <= 0 (s=-0.0000e+00)\n"
     ]
    },
    {
     "name": "stderr",
     "output_type": "stream",
     "text": [
      "\n",
      "ODE Message 3: LCP internal error, s <= 0 (s=0.0000e+00)\n"
     ]
    },
    {
     "name": "stderr",
     "output_type": "stream",
     "text": [
      "\n",
      "ODE Message 3: LCP internal error, s <= 0 (s=-0.0000e+00)\n"
     ]
    },
    {
     "name": "stderr",
     "output_type": "stream",
     "text": [
      "\n",
      "ODE Message 3: LCP internal error, s <= 0 (s=0.0000e+00)\n"
     ]
    },
    {
     "name": "stderr",
     "output_type": "stream",
     "text": [
      "\n",
      "ODE Message 3: LCP internal error, s <= 0 (s=-0.0000e+00)\n"
     ]
    },
    {
     "name": "stderr",
     "output_type": "stream",
     "text": [
      "\n",
      "ODE Message 3: LCP internal error, s <= 0 (s=0.0000e+00)\n"
     ]
    },
    {
     "name": "stderr",
     "output_type": "stream",
     "text": [
      "\n",
      "ODE Message 3: LCP internal error, s <= 0 (s=0.0000e+00)\n"
     ]
    },
    {
     "name": "stderr",
     "output_type": "stream",
     "text": [
      "\n",
      "ODE Message 3: LCP internal error, s <= 0 (s=-0.0000e+00)\n"
     ]
    },
    {
     "name": "stderr",
     "output_type": "stream",
     "text": [
      "\n",
      "ODE Message 3: LCP internal error, s <= 0 (s=0.0000e+00)\n"
     ]
    },
    {
     "name": "stderr",
     "output_type": "stream",
     "text": [
      "\n",
      "ODE Message 3: LCP internal error, s <= 0 (s=0.0000e+00)\n"
     ]
    },
    {
     "name": "stderr",
     "output_type": "stream",
     "text": [
      "\n",
      "ODE Message 3: LCP internal error, s <= 0 (s=0.0000e+00)\n"
     ]
    },
    {
     "name": "stderr",
     "output_type": "stream",
     "text": [
      "\n",
      "ODE Message 3: LCP internal error, s <= 0 (s=0.0000e+00)\n"
     ]
    },
    {
     "name": "stderr",
     "output_type": "stream",
     "text": [
      "\n",
      "ODE Message 3: LCP internal error, s <= 0 (s=0.0000e+00)\n"
     ]
    },
    {
     "name": "stderr",
     "output_type": "stream",
     "text": [
      "\n",
      "ODE Message 3: LCP internal error, s <= 0 (s=-0.0000e+00)\n"
     ]
    },
    {
     "name": "stderr",
     "output_type": "stream",
     "text": [
      "\n",
      "ODE Message 3: LCP internal error, s <= 0 (s=0.0000e+00)\n"
     ]
    },
    {
     "name": "stderr",
     "output_type": "stream",
     "text": [
      "\n",
      "ODE Message 3: LCP internal error, s <= 0 (s=-0.0000e+00)\n"
     ]
    },
    {
     "name": "stderr",
     "output_type": "stream",
     "text": [
      "\n",
      "ODE Message 3: LCP internal error, s <= 0 (s=-0.0000e+00)\n"
     ]
    },
    {
     "name": "stderr",
     "output_type": "stream",
     "text": [
      "\n",
      "ODE Message 3: LCP internal error, s <= 0 (s=-0.0000e+00)\n"
     ]
    },
    {
     "name": "stderr",
     "output_type": "stream",
     "text": [
      "\n",
      "ODE Message 3: LCP internal error, s <= 0 (s=0.0000e+00)\n"
     ]
    },
    {
     "name": "stderr",
     "output_type": "stream",
     "text": [
      "\n",
      "ODE Message 3: LCP internal error, s <= 0 (s=0.0000e+00)\n"
     ]
    },
    {
     "name": "stderr",
     "output_type": "stream",
     "text": [
      "\n",
      "ODE Message 3: LCP internal error, s <= 0 (s=0.0000e+00)\n"
     ]
    },
    {
     "name": "stderr",
     "output_type": "stream",
     "text": [
      "\n",
      "ODE Message 3: LCP internal error, s <= 0 (s=-0.0000e+00)\n"
     ]
    },
    {
     "name": "stderr",
     "output_type": "stream",
     "text": [
      "\n",
      "ODE Message 3: LCP internal error, s <= 0 (s=0.0000e+00)\n"
     ]
    },
    {
     "name": "stderr",
     "output_type": "stream",
     "text": [
      "\n",
      "ODE Message 3: LCP internal error, s <= 0 (s=0.0000e+00)\n"
     ]
    },
    {
     "name": "stderr",
     "output_type": "stream",
     "text": [
      "\n",
      "ODE Message 3: LCP internal error, s <= 0 (s=-0.0000e+00)\n"
     ]
    },
    {
     "name": "stderr",
     "output_type": "stream",
     "text": [
      "\n",
      "ODE Message 3: LCP internal error, s <= 0 (s=-0.0000e+00)\n"
     ]
    },
    {
     "name": "stderr",
     "output_type": "stream",
     "text": [
      "\n",
      "ODE Message 3: LCP internal error, s <= 0 (s=0.0000e+00)\n"
     ]
    },
    {
     "name": "stderr",
     "output_type": "stream",
     "text": [
      "\n",
      "ODE Message 3: LCP internal error, s <= 0 (s=0.0000e+00)\n"
     ]
    },
    {
     "name": "stderr",
     "output_type": "stream",
     "text": [
      "\n",
      "ODE Message 3: LCP internal error, s <= 0 (s=-0.0000e+00)\n"
     ]
    },
    {
     "name": "stderr",
     "output_type": "stream",
     "text": [
      "\n",
      "ODE Message 3: LCP internal error, s <= 0 (s=-0.0000e+00)\n"
     ]
    },
    {
     "name": "stderr",
     "output_type": "stream",
     "text": [
      "\n",
      "ODE Message 3: LCP internal error, s <= 0 (s=0.0000e+00)\n"
     ]
    },
    {
     "name": "stderr",
     "output_type": "stream",
     "text": [
      "\n",
      "ODE Message 3: LCP internal error, s <= 0 (s=0.0000e+00)\n"
     ]
    },
    {
     "name": "stderr",
     "output_type": "stream",
     "text": [
      "\n",
      "ODE Message 3: LCP internal error, s <= 0 (s=0.0000e+00)\n"
     ]
    },
    {
     "name": "stderr",
     "output_type": "stream",
     "text": [
      "\n",
      "ODE Message 3: LCP internal error, s <= 0 (s=-0.0000e+00)\n"
     ]
    },
    {
     "name": "stderr",
     "output_type": "stream",
     "text": [
      "\n",
      "ODE Message 3: LCP internal error, s <= 0 (s=-0.0000e+00)\n"
     ]
    },
    {
     "name": "stderr",
     "output_type": "stream",
     "text": [
      "\n",
      "ODE Message 3: LCP internal error, s <= 0 (s=-0.0000e+00)\n"
     ]
    },
    {
     "name": "stderr",
     "output_type": "stream",
     "text": [
      "\n",
      "ODE Message 3: LCP internal error, s <= 0 (s=-0.0000e+00)\n"
     ]
    },
    {
     "name": "stderr",
     "output_type": "stream",
     "text": [
      "\n",
      "ODE Message 3: LCP internal error, s <= 0 (s=-0.0000e+00)\n"
     ]
    },
    {
     "name": "stderr",
     "output_type": "stream",
     "text": [
      "\n",
      "ODE Message 3: LCP internal error, s <= 0 (s=-0.0000e+00)\n"
     ]
    },
    {
     "name": "stderr",
     "output_type": "stream",
     "text": [
      "\n",
      "ODE Message 3: LCP internal error, s <= 0 (s=-0.0000e+00)\n"
     ]
    },
    {
     "name": "stderr",
     "output_type": "stream",
     "text": [
      "\n",
      "ODE Message 3: LCP internal error, s <= 0 (s=0.0000e+00)\n"
     ]
    },
    {
     "name": "stderr",
     "output_type": "stream",
     "text": [
      "\n",
      "ODE Message 3: LCP internal error, s <= 0 (s=-0.0000e+00)\n"
     ]
    },
    {
     "name": "stderr",
     "output_type": "stream",
     "text": [
      "\n",
      "ODE Message 3: LCP internal error, s <= 0 (s=-0.0000e+00)\n"
     ]
    },
    {
     "name": "stderr",
     "output_type": "stream",
     "text": [
      "\n",
      "ODE Message 3: LCP internal error, s <= 0 (s=0.0000e+00)\n"
     ]
    },
    {
     "name": "stderr",
     "output_type": "stream",
     "text": [
      "\n",
      "ODE Message 3: LCP internal error, s <= 0 (s=0.0000e+00)\n"
     ]
    },
    {
     "name": "stderr",
     "output_type": "stream",
     "text": [
      "\n",
      "ODE Message 3: LCP internal error, s <= 0 (s=-0.0000e+00)\n"
     ]
    },
    {
     "name": "stderr",
     "output_type": "stream",
     "text": [
      "\n",
      "ODE Message 3: LCP internal error, s <= 0 (s=-0.0000e+00)\n"
     ]
    },
    {
     "name": "stderr",
     "output_type": "stream",
     "text": [
      "\n",
      "ODE Message 3: LCP internal error, s <= 0 (s=-0.0000e+00)\n"
     ]
    },
    {
     "name": "stderr",
     "output_type": "stream",
     "text": [
      "\n",
      "ODE Message 3: LCP internal error, s <= 0 (s=0.0000e+00)\n"
     ]
    },
    {
     "name": "stderr",
     "output_type": "stream",
     "text": [
      "\n",
      "ODE Message 3: LCP internal error, s <= 0 (s=-0.0000e+00)\n"
     ]
    },
    {
     "name": "stderr",
     "output_type": "stream",
     "text": [
      "\n",
      "ODE Message 3: LCP internal error, s <= 0 (s=-0.0000e+00)\n"
     ]
    },
    {
     "name": "stderr",
     "output_type": "stream",
     "text": [
      "\n",
      "ODE Message 3: LCP internal error, s <= 0 (s=-0.0000e+00)\n"
     ]
    },
    {
     "name": "stderr",
     "output_type": "stream",
     "text": [
      "\n",
      "ODE Message 3: LCP internal error, s <= 0 (s=0.0000e+00)\n"
     ]
    },
    {
     "name": "stderr",
     "output_type": "stream",
     "text": [
      "\n",
      "ODE Message 3: LCP internal error, s <= 0 (s=-0.0000e+00)\n"
     ]
    },
    {
     "name": "stderr",
     "output_type": "stream",
     "text": [
      "\n",
      "ODE Message 3: LCP internal error, s <= 0 (s=-0.0000e+00)\n"
     ]
    },
    {
     "name": "stderr",
     "output_type": "stream",
     "text": [
      "\n",
      "ODE Message 3: LCP internal error, s <= 0 (s=-0.0000e+00)\n"
     ]
    },
    {
     "name": "stderr",
     "output_type": "stream",
     "text": [
      "\n",
      "ODE Message 3: LCP internal error, s <= 0 (s=0.0000e+00)\n"
     ]
    },
    {
     "data": {
      "text/html": [
       "<pre style=\"white-space:pre;overflow-x:auto;line-height:normal;font-family:Menlo,'DejaVu Sans Mono',consolas,'Courier New',monospace\"></pre>\n"
      ],
      "text/plain": []
     },
     "metadata": {},
     "output_type": "display_data"
    },
    {
     "data": {
      "text/html": [
       "<pre style=\"white-space:pre;overflow-x:auto;line-height:normal;font-family:Menlo,'DejaVu Sans Mono',consolas,'Courier New',monospace\">\n",
       "</pre>\n"
      ],
      "text/plain": [
       "\n"
      ]
     },
     "metadata": {},
     "output_type": "display_data"
    },
    {
     "data": {
      "text/plain": [
       "<stable_baselines3.ddpg.ddpg.DDPG at 0x7dde09a21f60>"
      ]
     },
     "execution_count": 17,
     "metadata": {},
     "output_type": "execute_result"
    }
   ],
   "source": [
    "model.learn(\n",
    "    total_timesteps=total_timesteps,\n",
    "    log_interval=log_interval,\n",
    "    callback=checkpoint_callback,\n",
    "    progress_bar=True)"
   ]
  },
  {
   "cell_type": "code",
   "execution_count": 18,
   "metadata": {},
   "outputs": [],
   "source": [
    "model.save(f\"{save_path}/DDPG_model\")"
   ]
  }
 ],
 "metadata": {
  "kernelspec": {
   "display_name": "Python 3",
   "language": "python",
   "name": "python3"
  },
  "language_info": {
   "codemirror_mode": {
    "name": "ipython",
    "version": 3
   },
   "file_extension": ".py",
   "mimetype": "text/x-python",
   "name": "python",
   "nbconvert_exporter": "python",
   "pygments_lexer": "ipython3",
   "version": "3.10.12"
  }
 },
 "nbformat": 4,
 "nbformat_minor": 2
}
